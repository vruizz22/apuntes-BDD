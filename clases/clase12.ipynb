{
 "cells": [
  {
   "cell_type": "markdown",
   "metadata": {},
   "source": [
    "# Algoritmos en BDD"
   ]
  },
  {
   "cell_type": "markdown",
   "metadata": {},
   "source": [
    "## Algoritmos que implementas interfaz de iterador lineal\n",
    "\n",
    "* Open()\n",
    "* Next()\n",
    "* Close()\n",
    "\n",
    "Para una relacion\n",
    "\n",
    "* R.open() se posiciona **antes de la priema tupla de R**\n",
    "* R.next() se posiciona **en la siguiente tupla de R** o devuelve null\n",
    "* R.close() libera los recursos asociados a R"
   ]
  },
  {
   "cell_type": "markdown",
   "metadata": {},
   "source": [
    "## Ejemplo\n",
    "\n",
    "```SQL\n",
    "SELECT * FROM R;\n",
    "```\n",
    "\n",
    "```python\n",
    "R.open()\n",
    "\n",
    "t = R.next()\n",
    "while t:\n",
    "    print(t)\n",
    "    t = R.next()\n",
    "\n",
    "R.close()\n",
    "```"
   ]
  },
  {
   "cell_type": "markdown",
   "metadata": {},
   "source": [
    "## Operadores lineales \n",
    "\n",
    "1. Selección\n",
    "El algoritmo de seleccion cambia dempendiendo si es de igualdad o rango\n",
    "\n",
    "tambien depende si el atributo a selecionar esta indexado\n",
    "\n",
    "## Ejemplo sin indice\n",
    "\n",
    "```python\n",
    "def open(R):\n",
    "    R.open()\n",
    "\n",
    "def next(R):\n",
    "    t = R.next()\n",
    "    while t:\n",
    "        if t['condicion'] == 5:\n",
    "            return t\n",
    "        t = R.next()\n",
    "    return None\n",
    "\n",
    "def close(R):\n",
    "    R.close()\n",
    "```\n",
    "\n",
    "Asumiendo que R es un objeto que tiene los metodos open, next y close\n",
    "\n",
    "\n",
    "## Ejemplo con indice\n",
    "\n",
    "```python\n",
    "# SEA I el inidice de un atriuto indexado de R\n",
    "def open(I):\n",
    "    I.open()\n",
    "    I.search(Atributo = valor)\n",
    "\n",
    "def next(I):\n",
    "    t = I.next()\n",
    "    while t:\n",
    "        return t\n",
    "    return None\n",
    "\n",
    "def close(I):\n",
    "    I.close()\n",
    "```\n",
    "\n",
    "\n",
    "\n",
    "\n"
   ]
  },
  {
   "cell_type": "markdown",
   "metadata": {},
   "source": [
    "## Para join\n",
    "\n",
    "costo de un join\n",
    "\n",
    "Costo(R) + Tuplas(R) * Costo(S)\n",
    "\n",
    "Esto dado or el ested Loop join.\n"
   ]
  },
  {
   "cell_type": "markdown",
   "metadata": {},
   "source": []
  }
 ],
 "metadata": {
  "language_info": {
   "name": "python"
  }
 },
 "nbformat": 4,
 "nbformat_minor": 2
}
