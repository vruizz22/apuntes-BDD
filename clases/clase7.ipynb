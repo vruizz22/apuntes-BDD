{
 "cells": [
  {
   "cell_type": "markdown",
   "metadata": {},
   "source": [
    "# BBDS Dependencias y Formas Normales"
   ]
  },
  {
   "cell_type": "markdown",
   "metadata": {},
   "source": [
    "## REdundancia en los datos\n",
    "\n",
    "GGuardamn la informacion de forma **redundante** puyede generar estos problemas:\n",
    "\n",
    "* Información redundante: Ciertos datos se repiten.\n",
    "* Anomalías al modificar: Si se quiere modificar un dato\n",
    "repetido, entonces todas las copias deben modificarse.\n",
    "* Anomalías al insertar: Puede no ser posible insertar\n",
    "ciertos datos a menos que otros datos (repetidos o no\n",
    "relacionados) se inserten también.\n",
    "* Anomalías al eliminar: Puede no ser posible eliminar\n",
    "ciertos datos a menos que otros datos (repetidos o no\n",
    "relacionados) se eliminen también."
   ]
  },
  {
   "cell_type": "markdown",
   "metadata": {},
   "source": [
    "## SOlucion: Descomponer tablas\n",
    "\n",
    "Tengo problemas cuandop asoscion un atributo con otro, por ejemplo, si tengo una tabla de empleados y otra de departamentos, y quiero saber a que departamento pertenece un empleado, entonces tengo que asociar el id del departamento con el empleado, pero si tengo que cambiar el nombre del departamento, entonces tengo que cambiarlo en todos los empleados que pertenecen a ese departamento.\n",
    "\n",
    "**Dependencia funcional** Sale en el ppt es cuando un atributo determina el valor de otro atributo."
   ]
  },
  {
   "cell_type": "markdown",
   "metadata": {},
   "source": [
    "## bUEBNAS DEOPEDENCIAS\n",
    "\n",
    "**CUANDO DEL LADO IZQUIERDO TENEMOS LLAVE PRIMARIA**\n",
    "\n",
    "LLave primaria -> Atributo"
   ]
  },
  {
   "cell_type": "markdown",
   "metadata": {},
   "source": [
    "## Evitar anomalias\n",
    "\n",
    "* Debemos averiguar las dependencias que aplican\n",
    "* Descomponer las tablas en tablas más pequeñas\n",
    "\n",
    "\n",
    "**Observacion 1**\n",
    "\n",
    "SI tenemos la depdendencia X -> Y, y la dependencia Y -> Z, entonces tenemos la dependencia X -> Z.\n",
    "\n",
    "**Observacion 2**\n",
    "\n",
    "Si Z es subconjunto de Y y ternemos la dependecnia X -> Y, entonces tenemos la dependencia X -> Z.\n",
    "\n",
    "**Observacion 3**\n",
    "\n",
    "Dependencia trivial: SI Y es subconjunto de X, entonces tenemos la dependencia X -> Y.\n",
    "\n",
    "**Observacion 4**\n",
    "\n",
    "Si tenemos quew X -> Y y X -> Z, podemos decir que X -> Y, Z.\n",
    "\n",
    "**Observacion 5 equivalencia**\n",
    "\n",
    "Si tenemos que X -> Y, podmeos decir que para cada Z, X, Z -> Y, Z.\n",
    "\n",
    "**Obsevacion 6 llave primaria**\n",
    "\n",
    "Si tenemos que X -> Y, X es **Candidato** a llave primaria si Y contiene a todos los atiburtos de la relacion y no estan en X"
   ]
  },
  {
   "cell_type": "markdown",
   "metadata": {},
   "source": [
    "## Desocmpocision de tablas buen diseño\n",
    "\n",
    "Lo mejnor es dividir en base a depedencias funcionales, es decir, si tenemos una tabla con dependencias funcionales, entonces debemos dividir en tablas mas pequeñas."
   ]
  },
  {
   "cell_type": "markdown",
   "metadata": {},
   "source": [
    "## Formas Normales\n",
    "\n",
    "### 1NF \n",
    "\n",
    "Una relación R está en 1NF si y solo si **ninguno de sus atributos tiene relaciones como elementos**\n",
    "\n",
    "Además, **cada registro debe ser único**, **lo que se asegura\n",
    "mediante la presencia de una llave primaria**"
   ]
  },
  {
   "cell_type": "markdown",
   "metadata": {},
   "source": [
    "## 2NF\n",
    "\n",
    "Una relación R está en 2NF si y solo si está en 1NF y,\n",
    "además, si ninguna llave candidata es funcionalmente\n",
    "dependiente (o parte del set) de otra llave candidata.\n",
    "Básicamente, la relación no tiene dependencias parciales.\n",
    "\n",
    "Ejemplo de relación que NO está en 2NF:\n",
    "1. País fabricante depende\n",
    "funcionalmente de Fabricante.\n",
    "2. Fabricante es parte (subset) de la llave\n",
    "candidata {Fabricante, Modelo}\n",
    "En resumen, como País Fabricante es\n",
    "una llave candidata funcionalmente\n",
    "dependiente de un subset de una llave\n",
    "candidata, no se sigue la segunda forma\n",
    "normal.\n"
   ]
  },
  {
   "cell_type": "markdown",
   "metadata": {},
   "source": [
    "## 3NF\n",
    "\n",
    "Una relación R está en 3NF si para toda dependencia\n",
    "funcional no trivial X → Y, X es una superllave o Y es\n",
    "parte de una llave minimal.\n",
    "\n",
    "Z es llave minimal si no existe llave Z’ tal que Z’ ⊆ Z\n",
    "\n",
    "Alogritmo para comprovar si una tabla esta en 3NF\n",
    "\n",
    "1.Para cada dependencia funcional X→Y crear una\n",
    "tabla con esquema X U Y\n",
    "2. Si al final, los esquemas resultantes R1,…, Rn no\n",
    "contienen una llave de la tabla R, agregar una."
   ]
  },
  {
   "cell_type": "markdown",
   "metadata": {},
   "source": [
    "## Relación BCNF\n",
    "Boyce-Codd Normal Form (BCNF)\n",
    "\n",
    "parecido a 3NF, pero más estricto solo si X es una superllave.\n",
    "\n",
    "Una relación R está en BCNF si para toda dependencia\n",
    "funcional no trivial X → Y, X es una super llave\n"
   ]
  },
  {
   "cell_type": "markdown",
   "metadata": {},
   "source": [
    "## Algoritmo BCNF\n",
    "\n",
    "1. Tomar una dependencia funcional X → Y , dónde X no es una\n",
    "super llave y descomponer en 2 tablas con esquemas\n",
    "\n",
    "T = A,B,C,D,E,F,G,H,I\n",
    "\n",
    "R1(X,Y) y R2(T – Y)\n",
    "\n",
    "A,B,C → F,G\n",
    "\n",
    "R1(A,B,C,F,G) y R2(A,B,C,D,E,H,I)\n",
    "\n",
    "Optimización: elegir la mayor cantidad de y’s posibles"
   ]
  },
  {
   "cell_type": "markdown",
   "metadata": {},
   "source": [
    "## DEsocmpocision sin perdida\n",
    "\n",
    "R(A, B, C) descompuesta en R1(A, B) y R2(A, C) es sin\n",
    "pérdida de información si para toda instancia de R:\n",
    "\n",
    "R1 JOIN R2 = R"
   ]
  },
  {
   "cell_type": "markdown",
   "metadata": {},
   "source": [
    "Para todo esquema con relación R(X, Y, Z) y\n",
    "dependencia funcional X → Y, para X, Y, Z conjuntos de\n",
    "atributos disjuntos, se tiene que la descomposición en\n",
    "R1(X, Y) y R2(X, Z) con X → Y es sin pérdida de\n",
    "información"
   ]
  },
  {
   "cell_type": "markdown",
   "metadata": {},
   "source": []
  }
 ],
 "metadata": {
  "language_info": {
   "name": "python"
  }
 },
 "nbformat": 4,
 "nbformat_minor": 2
}
