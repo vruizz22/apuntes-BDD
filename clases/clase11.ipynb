{
 "cells": [
  {
   "cell_type": "markdown",
   "metadata": {},
   "source": [
    "# Fundamentos de EDD y almacenamiento e indicies"
   ]
  },
  {
   "cell_type": "markdown",
   "metadata": {},
   "source": [
    "## Demora busqueda\n",
    "\n",
    "“La diferencia de tiempo entre tener un dato en\n",
    "RAM versus traerlo de disco es comparable a la\n",
    "de tomar el sacapuntas del escritorio donde\n",
    "estoy sentado versus tomarme un avión a Punta\n",
    "Arenas para ir a buscarlo y regresar.”\n",
    "\n",
    "\n",
    "SIEMPRE ES MEJOR TENER LOS DATOS EN MEMORIA RAM QUE IR A BUSCARLOS A DISCO"
   ]
  },
  {
   "cell_type": "markdown",
   "metadata": {},
   "source": [
    "## Memoria RAM y punteros\n",
    "\n",
    "CAda variable en un programtiene\n",
    "\n",
    "* Posicions\n",
    "* Tamano en bytes\n",
    "* Valor\n",
    "\n",
    "La memoria ram es una tabla gigienta que asocia dirteciones a bytes\n",
    "\n",
    "## Punteros\n",
    "\n",
    "**VARIABLE CUYO VALOR ES LA POSICION (DIRECCION DE MEMORIA) DE OTRA VARIABLE**"
   ]
  },
  {
   "cell_type": "markdown",
   "metadata": {},
   "source": [
    "## Lista ligadas\n",
    "\n",
    "Una secuenci de celdad que **tiene largo variable**\n",
    "\n",
    "* Cada celda es del mismo tamano\n",
    "\n",
    "Se utiliza memoria de manera alatoria con punteros"
   ]
  },
  {
   "cell_type": "markdown",
   "metadata": {},
   "source": [
    "## Diccionarios\n",
    "\n",
    "Estructuras de forma par llave valor"
   ]
  },
  {
   "cell_type": "markdown",
   "metadata": {},
   "source": [
    "## Tablas de hash\n",
    "\n",
    "para ordenar se utiliza elmetodo de h(k) = k mod m\n",
    "\n",
    "\n",
    "En BDD se aplica utilizando la llave primaria para reiordenarlo en una tabla de hash"
   ]
  },
  {
   "cell_type": "markdown",
   "metadata": {},
   "source": [
    "Existen dos formas de inserccionar\n",
    "\n",
    "Insercciones por **encadenamiento**, usa listas ligadas cuando hay colisiones\n",
    "\n",
    "Insercciones por **direccionamiento abierto**\n",
    "\n",
    "en caso de colicion usa la siguente posicion libre mas arriba, el problema que genera este metodo es al momento de **elliminar**\n",
    "\n",
    "si no hay que elimnar se puee usar y es mas factible\n",
    "\n",
    "\n",
    "esto dado que se asume por teorema que si al buscar un valor encontramos vacio ese valor no esta, esto funciona siempr que noe liminemos datos, si eliminamos puede pasa que justo antes de llegar al valor buscado este un vacio dando a entender que este valor no esta cuando no es asi."
   ]
  },
  {
   "cell_type": "markdown",
   "metadata": {},
   "source": [
    "## Factor de carga\n",
    "\n",
    "Dada una tabla de hash A de amano m con n vaores almacenados, se define factor de carga como\n",
    "\n",
    "$$\\lambda = \\frac{n}{m}$$\n",
    "\n",
    "Si $\\lambda$ es cercano a 1, es aceptamble usar encademaniemto\n",
    "\n",
    "Cuando $\\lambda$ es cercano y mayor a 0.5 es mejor usar direccionamiento abierto"
   ]
  },
  {
   "cell_type": "markdown",
   "metadata": {},
   "source": [
    "## Indicies de hash\n",
    "\n",
    "EFICIENTES PARA IGUALDAD INEFICIENTES PARA BUSQUEDA DE RANGOS COMO A.AID > 12."
   ]
  },
  {
   "cell_type": "markdown",
   "metadata": {},
   "source": [
    "## PARA CONSULTAS DE RANGO SE USA B TREEE INDEX\n",
    "\n",
    "\n",
    "COSTO DE BUSQUEDA\n",
    "\n",
    "O(logb(R/B))\n",
    "\n"
   ]
  },
  {
   "cell_type": "markdown",
   "metadata": {},
   "source": [
    "## CLustered y Unclustered Index\n",
    "\n",
    "Habalremos de un indice CLUSTERED si me devuelve una tupla al preguntar por un valor\n",
    "\n",
    "DATA ENTREY: la tupla misma\n",
    "\n",
    "Hablaremos de un indice Unclustered si me retorna un puntero que contiene mi tupla\n",
    "\n",
    "DATA ENTRY puntero a la pagina con mi tupla\n",
    "\n",
    "\n",
    "CLUSTERED INDEX inidice primario\n",
    "\n",
    "UNCLUSTERED INDEX indice secundario"
   ]
  },
  {
   "cell_type": "markdown",
   "metadata": {},
   "source": [
    "## Indice primario\n",
    "\n",
    "Se aplica generalmente sobre la priamry key \n",
    "\n",
    "## Indice secundario\n",
    "\n",
    "Se aplica sobre cualquier otro campo"
   ]
  },
  {
   "cell_type": "markdown",
   "metadata": {},
   "source": [
    "## I/O\n",
    "\n",
    "En B+ tree clustered\n",
    "\n",
    "Tenemos que es h + Bm\n",
    "\n",
    "con Bm: nro de bloques con tuplas que alzan en la buzqueda\n",
    "\n",
    "con h: altura del arbol\n",
    "\n",
    "Luego en B+ tree unclustered\n",
    "\n",
    "Tenemos que es h + (n/P) + n\n",
    "\n",
    "donde n es el nro de tuplas que calzan con la busqueda \n",
    "P cantidad de punteros por loque"
   ]
  },
  {
   "cell_type": "markdown",
   "metadata": {},
   "source": []
  }
 ],
 "metadata": {
  "language_info": {
   "name": "python"
  }
 },
 "nbformat": 4,
 "nbformat_minor": 2
}
