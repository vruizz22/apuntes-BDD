{
 "cells": [
  {
   "cell_type": "markdown",
   "metadata": {},
   "source": [
    "# Arqui de compus, SO y rercuperacion de fallas"
   ]
  },
  {
   "cell_type": "markdown",
   "metadata": {},
   "source": [
    "## Disco y DBMS\n",
    "\n",
    "Los recvord d elas bases de datos se almacenan en paginas de disco\n",
    "\n",
    "A medica que se hace necesartios, las paginas son traidas a memoria principal (buffer)"
   ]
  },
  {
   "cell_type": "markdown",
   "metadata": {},
   "source": [
    "## Paginas, disco y buffer\n",
    "\n",
    "para trabjar con las tuplas de una realacion la bdd carga la pagina copn la tupla desde el discop\n",
    "\n",
    "Para cargar esyas paginas la bdd reserva un espacio de RAM llamado buffer\n",
    "\n"
   ]
  },
  {
   "cell_type": "markdown",
   "metadata": {},
   "source": [
    "## RAID matriz redundante de discos independientes\n",
    "\n",
    "**Increementar el rendimiento y la fiablididad de SO**\n",
    "a travfes de un arreglo de multiples disco que operan como uno solo\n",
    "\n",
    "1. **Segmentacion de Datos (Data striping)**: Los datos se dividen en bloques disitbuidos en varios discos\n",
    "\n",
    "2. **Redundancia de datos (Data mirroring)**: Los datos se duplican en varios discos para permitir **reconstruccion de datos** en caso de fallos\n",
    "\n",
    "## RAID NIVELES\n",
    "\n",
    "1. **RAID 0**: Data striping sin redundancia\n",
    "2. **RAID 1**: **Espejado**, cada disco tiene una copia identica\n",
    "3. **RAID 0 + 1**: Comnbinacion de Data striping y Espejado\n",
    "4. **RAID 3**: **PARIDAD POR BIT** entrelazada por bit\n",
    "5. **RAID 4**: **PARIDAD POR BLOQUE** entrelazada por bloque\n",
    "6. **RAID 5**: **PARIDAD DISTRIBUIDA** como el NIvel 4, pero con **bloques de paridad distruibdos** en los discos\n",
    "\n",
    "## HDD\n",
    "\n",
    "CELDA UNIDAD MINIMA QUE ALMACENA BITS \n",
    "\n",
    "BLOQUE CONJUNTO DE PAGINAS LA UNIDAD MINIMA DE BORRADO\n",
    "\n",
    "PLANO CONJUNTO DE BLOQUES FGESTIONADOS COMO UNA UNIDAD\\\\\n",
    "\n",
    "IDE (SSD) chip de memoria que puede contener multipes planos\n"
   ]
  },
  {
   "cell_type": "markdown",
   "metadata": {},
   "source": [
    "## ACID TRANSACTION\n",
    "\n",
    "\n",
    "A: Atomicidad\n",
    "C: Consistencia\n",
    "I: Aislamiento\n",
    "D: Durabilidad\n",
    "\n",
    "* **ATomicity**: O se ejcutan todas las operecnaiosn o no se ejecuta ningu\n",
    "* **Consistencia**: Cada transacciion preserva la consistencia de la BD (reglas de integridad, etc)\n",
    "* **Isolation**: Cada transaccion se ejecuta como si fuera la unica en la BD, de forma aislada\n",
    "* **Durabilidad**: Los cambios que hace cada transaccion son permanentes en el tiempo indepenediente de cualquiert tyiupo de de falla"
   ]
  },
  {
   "cell_type": "markdown",
   "metadata": {},
   "source": [
    "## TRANSACCIONES\n",
    "\n",
    "TRANSACION MANAGER\n",
    "\n",
    "LOG MANAGER\n",
    "\n",
    "RECOBERY MANAGER\n",
    "\n",
    "**TRANSACTION MANAGER**: **ISOLATION Y CONSISTENCY**\n",
    "\n",
    "**LOG Y RFECOVERY MANAGER**: **DURABILITY Y ATOMICITY**"
   ]
  },
  {
   "cell_type": "markdown",
   "metadata": {},
   "source": [
    "## FAllas en transacciones\n",
    "\n",
    "1. **Datos ERRONEOS**: Pueden ingresar en el sistema debido a errores humanos, fallas en la validacion de los datos o problemas en la integracion de sistemas externos SOLUCIONEs:\n",
    "\n",
    "* **Restriciones de integridad**: IMPLEMENAR RESTRCICIONES A NIVBEL DE BDD COMO CALVE PRIMARIAS CLAVES FOREANEAS Y RESTRCIONES DE UNIDCIDAD Y VERIIFICACION\n",
    "\n",
    "* **DATA CLEANING**: LIMPIEZA DE DATOS Y CORREGIR DAOS ERRONES O INCOMPLETOS, **NORMALIZACION, ELIMINACION DE DUPLICADOS y CORRECION DE FORMATOSINCORRECTOS**\n",
    "\n",
    "2. **FALLAS EN EL ALMACEINAMIENO** FALAS FISICOS, lo que puede resultar en la perdiadfa de datos criticos. SOLUCIONEs:\n",
    "\n",
    "* **RAID**: **RAID 1** y **RAID 5** para proteger los datos de fallas de disco. RAID 1 dupllicadop los datos en los dos disco durtos, mientras que raid 5 distribuye los datos junto con la paridad a traves de tres o mas discos\n",
    "\n",
    "* **COPIAS REDUNDANTES**: Mantener copias de seguiroidad regulares en disposiyivos de almacenamientos separados\n",
    "\n",
    "\n",
    "3. **CATASTROFES**: ERventos imprevbisdtos y graves como incendios, inundaciones terremostos, etc. SOLUCIONEs:\n",
    "\n",
    "* **BACKUPS REGULARES**: Mantener copias de seguridad regulares en dispositivos de almacenamiento separados. (DOSINIODPS GEPGRAFICAMENE) ESTO asegura que si una ubicacion caga, se puede recuyperar de otros lados\n",
    "* **REspaldos totales e incrementales**: Realizar copias de seguridad compeltnas de topda la bdd a **ibtervakis regulares**,\n",
    "los cam,bios incrementalios guardan solo los cambios desde el ultimo respaldo\n",
    "\n",
    "4. **Fallas del sistema**: Interrupciones en el funcionamiento normal del sistema de la BDD ya sea por fallos de software. hardware o erroreshumano. SOLUCIONEs:\n",
    "\n",
    "**LOG Y RECOVERY MANAGER**"
   ]
  },
  {
   "cell_type": "markdown",
   "metadata": {},
   "source": [
    "## Los logs comunes son:\n",
    "* START T\n",
    "\n",
    "* COMMIT T\n",
    "\n",
    "* ABORT T\n",
    "\n",
    "* T UPDATE\n",
    "\n",
    "¿Cómo los usamos?, con Loggins.\n"
   ]
  },
  {
   "cell_type": "markdown",
   "metadata": {},
   "source": [
    "## UNDO LOGGING\n",
    "\n",
    "Los logs son:\n",
    "* START T\n",
    "  \n",
    "* COMMIT T\n",
    "  \n",
    "* ABORT T\n",
    "\n",
    "* T, X, t \n",
    "\n",
    "donde t es el valor antiguo de X\n"
   ]
  },
  {
   "cell_type": "markdown",
   "metadata": {},
   "source": [
    "## Reglas undo loggin\n",
    "\n",
    "Regla 1: si T modifica X, todos logs T, X, t deben\n",
    "ser escritos antes que el valor X sea escrito en disco\n",
    "\n",
    "\n",
    "Regla 2: si T hace commit, el log COMMIT T debe\n",
    "ser escrito justo después de que todos los datos\n",
    "modificados por T estén almacenados en disco\n"
   ]
  },
  {
   "cell_type": "markdown",
   "metadata": {},
   "source": [
    "## Algoritmo para un Undo Logging\n",
    "\n",
    "Procesamos el log desde el final hasta el principio:\n",
    "* Si leo COMMIT T, marco T como realizada\n",
    "* Si leo ABORT T, marco T como realizada\n",
    "* Si leo T, X, t, debo restituir X := t en disco, si no\n",
    "fue realizada.\n",
    "* Si leo START T, lo ignoro"
   ]
  },
  {
   "cell_type": "markdown",
   "metadata": {},
   "source": [
    "## NOnquiscent Checkpointing\n",
    "\n",
    "SOn checkpoints que no piden reiniciar el sistema\n",
    "\n",
    "Escribismos START CKPT (T1, ..., Tn) luego dque todos los datos de T1, ..., Tn esten en disco con commit escirbimnos END CKPT"
   ]
  },
  {
   "cell_type": "markdown",
   "metadata": {},
   "source": [
    "## ALGIRUTNI DE UNDO LOGGING CON CHECKPOINTING\n",
    "\n",
    "Empezamos desde el final, luego eliminamos todo loq ue empieza despues de START CKPT si es que antes encontramos un END CKPT\n",
    "\n"
   ]
  },
  {
   "cell_type": "markdown",
   "metadata": {},
   "source": [
    "## REDO LOGGING\n",
    "\n",
    "Los logs son:\n",
    "* START T\n",
    "* COMMIT T\n",
    "* ABORT T\n",
    "* T, X, v donde v es el nuevo valor de X\n",
    "* T, END\n",
    "\n",
    "\n",
    "## Reglas redo logging\n",
    "\n",
    "Regla 1: Antes de modificar cualquier elemento X en\n",
    "disco, es necesario que todos los logs estén\n",
    "almacenados en disco, incluido el COMMIT\n",
    "\n",
    "\n",
    "\n",
    "**AL REVES QUE UNDO LOGGING PRIMERO AL DISCOP LUEGO MODIFICAMOS**\n",
    "\n"
   ]
  },
  {
   "cell_type": "markdown",
   "metadata": {},
   "source": [
    "## ALGORITMO PARA REDO LOGGING\n",
    "\n",
    "Procesamos el log desde el principio hasta el final:\n",
    "\n",
    "* Identificamos las **transacciones que hicieron commit sin hacer un END** SI HCIIERON END TODO OK\n",
    "* HACEMOS SCAN DESDE EL PRINCIPIO\n",
    "* SI LEO T X v,\n",
    "\n",
    "    * SI T NO HIZO COMMIT NO HACER NADA\n",
    "    * SI T HIZO COMMIT REESCRIBIR EL VALOR de v\n",
    "* Para cada transaccion sin COMMIT, escrbir ABORT T\n"
   ]
  },
  {
   "cell_type": "markdown",
   "metadata": {},
   "source": [
    "## USO DE CHECKPOINS EN REDO LLOGGING\n",
    "\n",
    "* Escribimos un log START CKPT (T1, ..., Tn),\n",
    "donde T1, ..., Tn son transacciones activas y sin\n",
    "COMMIT\n",
    "* Guardar todo el log en el disco\n",
    "* Guardar en disco todo lo que haya hecho COMMIT\n",
    "hasta ese punto; escribir en log END al finalizar\n",
    "* Una vez hecho, escribir END CKPT\n",
    "\n",
    "\n",
    "\n",
    "Revisar el log desde el final al inicio\n",
    "\n",
    "* Si encontramos un END CKPT, debemos\n",
    "retroceder hasta su su respectivo START CKPT\n",
    "(T1, ..., Tn), y comenzar a hacer redo desde la\n",
    "transacción más antigua entre T1, ..., Tn – las sin END\n",
    "\n",
    "* No se hace redo de las transacciones con COMMIT\n",
    "antes del START CKPT (T1, ..., Tn)\n"
   ]
  },
  {
   "cell_type": "markdown",
   "metadata": {},
   "source": []
  }
 ],
 "metadata": {
  "language_info": {
   "name": "python"
  }
 },
 "nbformat": 4,
 "nbformat_minor": 2
}
