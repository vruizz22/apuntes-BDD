{
 "cells": [
  {
   "cell_type": "markdown",
   "metadata": {},
   "source": [
    "# Diseño de bases de datos 2\n",
    "\n",
    "## Como transofrmar el model E/R a un modelo relacional"
   ]
  },
  {
   "cell_type": "markdown",
   "metadata": {},
   "source": [
    "## Llaves (modelo relacional y llaves)\n",
    "\n",
    "Los datos se almacenan como tablas.\n",
    "\n",
    "Disitnghuiomos \n",
    "\n",
    "* Relaciones: a cada tabla se le llama relacio\n",
    "* Atibnutyos: las columnas\n",
    "* Tuplas: las filas\n",
    "\n"
   ]
  },
  {
   "cell_type": "markdown",
   "metadata": {},
   "source": [
    "**Nota** \n",
    "\n",
    "Una relación (R) es un **conjunto de tuplas** (set) por lo tanto no hay tuplas duplicadas o repetidas.\n",
    "\n"
   ]
  },
  {
   "cell_type": "markdown",
   "metadata": {},
   "source": [
    "## Como representar un E/R en relacional con jerarquia de calses.\n",
    "\n",
    "2 opciones:\n",
    "\n",
    "* Tablas solo para las subclases: EN cada instacia de subclase agregamos los atibutos (con llave primaria) de la superclase, más sus propios atributos.\n",
    "* Tablas para todas las clases: Cada clase tiene su propia tabla con sus atributos y llave primaria. Las subclases tienen una llave foranea que apunta a la tabla de la superclase. (Esta llave que apunta a al superclase es la llave primaria de la superclase)\n",
    "\n",
    "Enotionces en la opcion 2 solo tienes que agregar la llave primaria de la superclase a la subclase.\n",
    "\n",
    "\n",
    "Si hay mucho solapamiento opcion 2 de lo contrario hay que hacer la opcion 1.\n",
    "\n",
    "Debido a la repeticion de datos con los joins.\n"
   ]
  },
  {
   "cell_type": "markdown",
   "metadata": {},
   "source": []
  }
 ],
 "metadata": {
  "language_info": {
   "name": "python"
  }
 },
 "nbformat": 4,
 "nbformat_minor": 2
}
