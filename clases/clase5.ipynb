{
 "cells": [
  {
   "cell_type": "markdown",
   "metadata": {},
   "source": [
    "# SQL\n",
    "\n",
    "* DBMS es un propgrama que se instala en un computador (**servidor**) y que permite almacenar, modificar y recuperar información de una base de datos.\n",
    "* Este programa se mantiene eschuchando conexiones (**Listener**) de clientes que desean realizar operaciones sobre la base de datos.\n",
    "* El usuario (generlamente optro programa) se conecta (**cliente**) al programa y le puede enviar instrucciones en un lenguaje específico (**SQL**).\n",
    "\n"
   ]
  },
  {
   "cell_type": "markdown",
   "metadata": {},
   "source": [
    "## Tipos de datos\n",
    "\n",
    "Caracteres (strings):\n",
    "* CHAR(n): cadena de caracteres de longitud fija.\n",
    "* VARCHAR(n): cadena de caracteres de longitud variable.\n",
    "\n",
    "Numéricos:\n",
    "* INT: entero.\n",
    "* FLOAT: número real.\n",
    "* smallint, bigint, decimal, numeric, real, double precision.\n",
    "\n",
    "Fecha y hora:\n",
    "* DATE: fecha.\n",
    "* TIME: hora. (formato 24 horas)\n",
    "* TIMESTAMP: fecha y hora.\n",
    "\n",
    "Otros:\n",
    "* BOOLEAN: verdadero o falso.\n",
    "* BLOB: datos binarios.\n",
    "* CLOB: datos de texto largos.\n",
    "etc, depende del RDBMS.\n",
    "\n",
    "## Comentarios en SQL\n",
    "\n",
    "```sql\n",
    "-- comentario de una línea\n",
    "/* comentario\n",
    "de varias\n",
    "líneas */\n",
    "```\n"
   ]
  },
  {
   "cell_type": "markdown",
   "metadata": {},
   "source": [
    "## Crear tablas\n",
    "\n",
    "```sql\n",
    "CREATE TABLE nombre_tabla (\n",
    "    nombre_columna tipo_dato [restricciones],\n",
    "    nombre_columna tipo_dato [restricciones],\n",
    "    ...\n",
    ");\n",
    "```\n",
    "\n",
    "Ejemplo:\n",
    "\n",
    "```sql\n",
    "CREATE TABLE Peliculas(\n",
    "    id int,\n",
    "    nombre varchar(30),\n",
    "    año int,\n",
    "    categoria varchar(30),\n",
    "    calificacion float,\n",
    "    director varchar(30)\n",
    ");\n",
    "\n",
    "CREATE TABLE Actores(\n",
    "    id int,\n",
    "    nombre varchar(30),\n",
    "    edad int,\n",
    ");\n",
    "\n",
    "/* Tabla de relación \n",
    "entre peliocualas y actores,\n",
    "debido a su relacion (n, n) */\n",
    "\n",
    "CREATE TABLE Actuo_en(\n",
    "    id_actor int,\n",
    "    id_pelicula int,\n",
    "    PRIMARY KEY(id_actor, id_pelicula)\n",
    ");\n",
    "```\n",
    "\n",
    "\n",
    "\n"
   ]
  },
  {
   "cell_type": "markdown",
   "metadata": {},
   "source": [
    "## Valores default\n",
    "\n",
    "```sql\n",
    "CREATE TABLE nombre_tabla (\n",
    "    nombre_columna tipo_dato DEFAULT valor_default [restricciones],\n",
    "    ...\n",
    ");\n",
    "```\n",
    "\n",
    "Ejemplo:\n",
    "\n",
    "```sql\n",
    "CREATE TABLE Peliculas(\n",
    "    id int,\n",
    "    nombre varchar(30),\n",
    "    año int DEFAULT 2020,\n",
    "    categoria varchar(30),\n",
    "    calificacion float,\n",
    "    director varchar(30)\n",
    ")\n",
    "```"
   ]
  },
  {
   "cell_type": "markdown",
   "metadata": {},
   "source": [
    "## Modificar Tablas\n",
    "\n",
    "* Eliminar tabla: `DROP TABLE nombre_tabla;`\n",
    "* Eliminar atributo: `ALTER TABLE nombre_tabla DROP COLUMN nombre_columna;`\n",
    "* Agregar atributo: `ALTER TABLE nombre_tabla ADD COLUMN nombre_columna tipo_dato [restricción];`\n"
   ]
  },
  {
   "cell_type": "markdown",
   "metadata": {},
   "source": [
    "## Insertar datos\n",
    "\n",
    "```sql\n",
    "INSERT INTO nombre_tabla (columna1, columna2, ...)\n",
    "VALUES (valor1, valor2, ...);\n",
    "```\n",
    "\n",
    "Ejemplo:\n",
    "\n",
    "```sql\n",
    "INSERT INTO Peliculas (id, nombre, año, categoria, calificacion, director)\n",
    "VALUES (1, 'Titanic', 1997, 'Romance', 7.8, 'James Cameron');\n",
    "\n",
    "INSERT INTO Peliculas (id, nombre, año, categoria, calificacion, director)\n",
    "VALUES (2, 'El Padrino', 1972, 'Drama', 9.2, 'Francis Ford Coppola');\n",
    "```\n",
    "\n",
    "Tambien se puede realizar de manera abreviada\n",
    "\n",
    "```sql\n",
    "INSERT INTO Peliculas\n",
    "VALUES (3, 'El Padrino II', 1974, 'Drama', 9.0, 'Francis Ford Coppola');\n",
    "```\n"
   ]
  },
  {
   "cell_type": "markdown",
   "metadata": {},
   "source": [
    "## Cuando poner ;\n",
    "\n",
    "* Al final de cada instrucción."
   ]
  },
  {
   "cell_type": "markdown",
   "metadata": {},
   "source": [
    "## Llaves Foráneas en SQL\n",
    "\n",
    "Hay error cuando se intenta agregar filas en las que la llave foranea no esta en la tabla referenciada.\n",
    "\n",
    "```sql\n",
    "CREATE TABLE Actuo_en(\n",
    "    id_actor int,\n",
    "    id_pelicula int,\n",
    "    PRIMARY KEY(id_actor, id_pelicula),\n",
    "    FOREIGN KEY(id_actor) REFERENCES Actores(id),\n",
    "    FOREIGN KEY(id_pelicula) REFERENCES Peliculas(id)\n",
    ");\n",
    "```\n",
    "\n",
    "Este erro pasaría en un caso asi:\n",
    "\n",
    "```sql\n",
    "INSERT INTO Actuo_en\n",
    "VALUES (1, 4);\n",
    "```\n",
    "\n",
    "Esto sucede porque no existe un actor con id 4.\n",
    "\n"
   ]
  },
  {
   "cell_type": "markdown",
   "metadata": {},
   "source": [
    "## Consultas con SQL"
   ]
  },
  {
   "cell_type": "markdown",
   "metadata": {},
   "source": [
    "### Forma basica\n",
    "\n",
    "```sql\n",
    "SELECT atributos\n",
    "FROM relaciones\n",
    "WHERE condiciones;\n",
    "```\n",
    "\n",
    "Se utiliza el operador `*` para seleccionar todos los atributos.\n",
    "\n",
    "Consulta 1: nombre y calificación de todas las películas dirigidas por C.Nolan.\n",
    "\n",
    "```sql\n",
    "SELECT nombre, calificacion\n",
    "FROM Peliculas\n",
    "WHERE director = 'C.Nolan';\n",
    "```\n",
    "\n",
    "Consulta 2: películas estrenadas desde el 2010\n",
    "\n",
    "```sql\n",
    "SELECT *\n",
    "FROM Peliculas\n",
    "WHERE año >= 2010;\n",
    "```\n",
    "\n"
   ]
  },
  {
   "cell_type": "markdown",
   "metadata": {},
   "source": [
    "## Where que permite?\n",
    "\n",
    "* Operadores de comparación: `=`, `>`, `<`, `>=`, `<=`, `<>`.\n",
    "* Operadores lógicos: `AND`, `OR`, `NOT`.\n",
    "* Operadores de pertenencia: `IN`, `NOT IN`.\n",
    "* Operadores de rango: `BETWEEN`, `NOT BETWEEN`.\n",
    "* Operadores de coincidencia: `LIKE`, `NOT LIKE`.\n",
    "* Operadores de nulidad: `IS NULL`, `IS NOT NULL`.\n",
    "* Operadores de existencia: `EXISTS`, `NOT EXISTS`.\n",
    "* Operadores de conjuntos: `UNION`, `INTERSECT`, `EXCEPT`.\n",
    "* Operadores de agrupación: `GROUP BY`, `HAVING`.\n",
    "* Operadores de ordenamiento: `ORDER BY`.\n",
    "* Operadores de limitación: `LIMIT`, `OFFSET`.\n",
    "* Operadores de conjunción: `JOIN`, `INNER JOIN`, `LEFT JOIN`, `RIGHT JOIN`, `FULL JOIN`, `CROSS JOIN`, `NATURAL JOIN`.\n",
    "* Operadores de subconsulta: `SELECT`.\n",
    "* Operadores de agregación: `COUNT`, `SUM`, `AVG`, `MIN`, `MAX`.\n",
    "* Operadores de ventana: `OVER`.\n",
    "etc."
   ]
  },
  {
   "cell_type": "markdown",
   "metadata": {},
   "source": [
    "## Update\n",
    "\n",
    "```sql\n",
    "UPDATE Peliculas\n",
    "SET calificacion = 0\n",
    "WHERE nombre = 'Sharknado 6';\n",
    "```\n",
    "\n",
    "Update agrega la tupla al final de la tabla. "
   ]
  },
  {
   "cell_type": "markdown",
   "metadata": {},
   "source": [
    "## DELETE\n",
    "\n",
    "```sql\n",
    "DELETE FROM Peliculas\n",
    "WHERE nombre = 'Sharknado 6';\n",
    "```"
   ]
  },
  {
   "cell_type": "markdown",
   "metadata": {},
   "source": [
    "## Que pasa si olvidamos el WHERE?\n",
    "\n",
    "Se eliminan todas las tuplas de la tabla.\n",
    "Se actualizan todas las tuplas de la tabla.\n",
    "\n",
    "Solucion:\n",
    "* Hacer un backup antes de ejecutar la instrucción."
   ]
  },
  {
   "cell_type": "markdown",
   "metadata": {},
   "source": [
    "## Elimar teniendo llaves foráneas\n",
    "\n",
    "Existen tres opciones:\n",
    "* `ON DELETE CASCADE`: Elimina las tuplas de la tabla referenciada.\n",
    "* No pemrituir la eliminacion: Error de sql default\n",
    "* `ON DELETE SET NULL`: Pone los valores de las llaves foráneas en NULL.\n",
    "\n",
    "```sql\n",
    "CREATE TABLE Actuo_en(\n",
    "    id_actor int,\n",
    "    id_pelicula int,\n",
    "    PRIMARY KEY(id_actor, id_pelicula),\n",
    "    FOREIGN KEY(id_actor) REFERENCES Actores(id) ON DELETE CASCADE,\n",
    "    FOREIGN KEY(id_pelicula) REFERENCES Peliculas(id) ON DELETE SET NULL\n",
    ");\n",
    "```\n",
    "\n",
    "\n"
   ]
  },
  {
   "cell_type": "markdown",
   "metadata": {},
   "source": [
    "## Producto CRUZ\n",
    "\n",
    "```sql\n",
    "SELECT *\n",
    "FROM Peliculas, Actuo_en;\n",
    "```\n",
    "\n",
    "Lo anterior entrega una tabla de nxm filas.\n",
    "\n",
    "## Join de algreba rerlacional en SQL\n",
    "\n",
    "Si agrergasmos un where al producto cruz anterior con una condicicon creamos un join.\n",
    "\n",
    "```sql\n",
    "SELECT *\n",
    "FROM Peliculas, Actuo_en\n",
    "WHERE Peliculas.id = Actuo_en.id_pelicula;\n",
    "```\n",
    "\n",
    "Si queremos los nombres de los actores en vez de los ids.\n",
    "\n",
    "```sql\n",
    "SELECT Peliculas.nombre, Actores.nombre\n",
    "FROM Peliculas, Actuo_en, Actores\n",
    "WHERE Peliculas.id = Actuo_en.id_pelicula\n",
    "AND Actores.id = Actuo_en.id_actor;\n",
    "```\n",
    "\n",
    "Podemos actortar esta consulta:\n",
    "\n",
    "```sql\n",
    "SELECT p.nombre, a.nombre\n",
    "FROM Peliculas as p, Actuo_en as ae, Actores as a\n",
    "WHERE p.id = ae.id_pelicula\n",
    "AND a.id = ae.id_actor;\n",
    "```\n",
    "\n",
    "Este tipo de alias no es recomendable."
   ]
  },
  {
   "cell_type": "markdown",
   "metadata": {},
   "source": [
    "## Alias para renombrar atributos\n",
    "\n",
    "podemos realizar operaciones y nombras los atributos nuevos\n",
    "\n",
    "```sql\n",
    "SELECT (nombre || 'dirigida por' || director) as creditos, año\n",
    "FROM Peliculas;\n",
    "```\n",
    "\n",
    "Interstellar `dirigida por` C.Nolan || 2014\n"
   ]
  },
  {
   "cell_type": "markdown",
   "metadata": {},
   "source": [
    "## Ordenando\n",
    "\n",
    "Entregue el nombre y la calificación de todas las\n",
    "películas (orden ascendente):\n",
    "\n",
    "```sql\n",
    "SELECT nombre, calificacion\n",
    "FROM Peliculas\n",
    "ORDER BY nombre, calificacion;\n",
    "```\n",
    "\n",
    "Entregue el nombre y la calificación de todas las\n",
    "películas (orden descendente):\n",
    "\n",
    "```sql\n",
    "SELECT nombre, calificacion\n",
    "FROM Peliculas\n",
    "ORDER BY nombre DESC, calificacion;\n",
    "```"
   ]
  },
  {
   "cell_type": "markdown",
   "metadata": {},
   "source": [
    "## Union\n",
    "\n",
    "Entregue el nombre de todos actores y directores:\n",
    "\n",
    "```sql\n",
    "SELECT nombre\n",
    "FROM Actores\n",
    "UNION\n",
    "SELECT director\n",
    "FROM Peliculas;\n",
    "```\n"
   ]
  },
  {
   "cell_type": "markdown",
   "metadata": {},
   "source": [
    "## Operadores de conjuntos\n",
    "\n",
    "* `UNION`: Une dos conjuntos.\n",
    "* `INTERSECT`: Intersección de dos conjuntos.\n",
    "* `EXCEPT`: Diferencia de dos conjuntos.\n",
    "* `UNION ALL`: Une dos conjuntos, permitiendo duplicados."
   ]
  },
  {
   "cell_type": "markdown",
   "metadata": {},
   "source": [
    "## Matching de patrones con Like\n",
    "\n",
    "s LIKE p: s coincide con el patrón p.\n",
    "donde p es un **patron** definido mediante:\n",
    "* `%`: Cualquier secuencia de caracteres.\n",
    "* `_`: Cualquier caracter. (solo uno)\n",
    "\n",
    "Ejemplo:\n",
    "\n",
    "```sql\n",
    "SELECT *\n",
    "FROM Peliculas\n",
    "WHERE nombre LIKE '%Potter%';\n",
    "```\n"
   ]
  },
  {
   "cell_type": "markdown",
   "metadata": {},
   "source": [
    "## Eliminando duplicados\n",
    "\n",
    "Entregue el nombre de todos actores y directores:\n",
    "\n",
    "```sql\n",
    "SELECT DISTINCT nombre\n",
    "FROM Peliculas;\n",
    "```\n",
    "\n",
    "DISTINCT elimina los duplicados. Operador que se aplica a todos los atributos."
   ]
  }
 ],
 "metadata": {
  "language_info": {
   "name": "python"
  }
 },
 "nbformat": 4,
 "nbformat_minor": 2
}
