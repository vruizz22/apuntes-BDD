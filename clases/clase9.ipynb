{
 "cells": [
  {
   "cell_type": "markdown",
   "metadata": {},
   "source": [
    "# Transacciones y locks"
   ]
  },
  {
   "cell_type": "markdown",
   "metadata": {},
   "source": [
    "## ¿Que es una transacción?\n",
    "\n",
    "Una **transacción** es una secuencia de varias (1 o más) **operaciónes** que  modifican o cunsultan la base de datos\n",
    "\n",
    "* Transferencias de dinero entre cuentas\n",
    "* Compra por internet\n",
    "* Registrar un curso\n",
    "\n",
    "![image](img/transacciones.png)"
   ]
  },
  {
   "cell_type": "markdown",
   "metadata": {},
   "source": [
    "## Acid\n",
    "\n",
    "* Atomicity: O se ejecutN todas la operaciones de la transacción o no se eectua ninguna \n",
    "* ConsistenyÑ cada transacción prserva la cosnirencia la bd (restreciones de integridad, etc)\n",
    "* isolation: cada transaccion debe ejecutarse como si estuviese ejecutand sola de forma aislada\n",
    "* Durability: los cambios que hace cada transaccion son permantes en el tiempo independiento de cualquier tipo de fallla.\n",
    "\n",
    "**Transaction Manager** se sencarga de asegurar Isolation y Consistency\n",
    "\n",
    "**Log y Recovery Manager** se encargan de asegurar\n",
    "Atomicity y Durability\n",
    "\n",
    "\n",
    "Esto es porque las transacciones se hacen simultanemtene y deben ser en serie para que no se pierdan datos, si no por ejemplo, en una transaccin doble una cuent LLE LA PLATA ORIGINAL 1000 y le deposita 100 queda en 1100, y el sgeundo lee el dinero original antes de la transaccion 1000 y le dona 200 queda en 1200 final, cuando deberia quedar en 1300 si fuese en serie."
   ]
  },
  {
   "cell_type": "markdown",
   "metadata": {},
   "source": [
    "## Que pasa si no hay atomicity y durability?\n",
    "\n",
    "Se corta la uz y la transaccion se queda a la mitad\n",
    "\n",
    "Se corta la luz cuando la transaccione estaba a la mitad, la base de dato vuelve a su estado pero perdemos una mitad\n",
    "\n",
    "un cambio heco en trasaccio no se ve reflejado en la base de datos"
   ]
  },
  {
   "cell_type": "markdown",
   "metadata": {},
   "source": [
    "## Sin consistency\n",
    "\n",
    "La bd viola restriciones momentanemante\n",
    "\n",
    "Al ejecturar la transacion queda la bd que no cumple con las estricciones"
   ]
  },
  {
   "cell_type": "markdown",
   "metadata": {},
   "source": [
    "## Sin isolatio\n",
    "\n",
    "EL sitstema de la bd planifica el orden de operaciones\n",
    "\n",
    "puede pasar lo descrito antes,no se reali **en serie**"
   ]
  },
  {
   "cell_type": "markdown",
   "metadata": {},
   "source": [
    "## Sintaxis de transacciones\n",
    "\n",
    "```sql\n",
    "START TRANSACTION\n",
    "\n",
    "UPDATE cuentas\n",
    "SET saldo = saldo - v\n",
    "WHERE cid = 1\n",
    "\n",
    "UPDATE cuentas\n",
    "SET saldo = saldo + v\n",
    "WHERE cid = 2\n",
    "COMMIT\n",
    "```\n",
    "\n",
    "START TRANSACTION y COMMIT nos permiten\n",
    "agrupar operaciones en una sola transacción\n",
    "\n"
   ]
  },
  {
   "cell_type": "markdown",
   "metadata": {},
   "source": [
    "## Operaciones d ela transaccion\n",
    "\n",
    "R(X): Leer el valor de X\n",
    "\n",
    "W(X): Escribir el valor de X\n",
    "\n",
    "A: Abortar la transacción\n",
    "\n",
    "C: Commit"
   ]
  },
  {
   "cell_type": "markdown",
   "metadata": {},
   "source": [
    "## Conflictos con transacciones\n",
    "\n",
    "### Dirty read (Write - Read)\n",
    "\n",
    "ocurren caundo una transaccion accede a datos que **han sido modificados** por otra trasaccion que aun no se ha terminado\n",
    "\n",
    "### Non-repeatable read (Read - Write)\n",
    "\n",
    "Ocurren cuando una filas es leida dos veces y el alor **cambia entre ambas lecturas** esot se debe a aque otra transaccion actualiza o modifica la fela entre las dos leturas individuales\n",
    "\n",
    "### Phantom read (Write - Write)\n",
    "\n",
    "Ocurren cuando dos transaccion que intentan cacrualizar la misma fila son procesadas en un tiempo tal que una de las actualizaciones **sobrescriba a la otra** (esribe una luego la otra)\n",
    "\n",
    "\n"
   ]
  },
  {
   "cell_type": "markdown",
   "metadata": {},
   "source": [
    "## Ejemplo phantom read (Write - Write)\n",
    "\n",
    "“Una transacción sobreescribe los datos que otra\n",
    "tx ya había escrito”\n",
    "\n",
    "\n",
    "* T2: R(X) = True (asiento 24 libre)\n",
    "* T1: R(X) = True (asiento 24 libre)\n",
    "* T2: W(X) = Reserve el asiento 24\n",
    "* T1: C\n",
    "* T2: W(X) = Reserve el asiento 24 (estaba ocupado pero lo reservo igual)\n"
   ]
  },
  {
   "cell_type": "markdown",
   "metadata": {},
   "source": [
    "## Ejemplo Dirty Read (Write - Read)\n",
    "\n",
    "“Una tx. lee lo que otra tx escribió pero no se había\n",
    "confirmado aún.”\n",
    "\n",
    "* T2: W(X) = Reserve el asiento 24\n",
    "* T1: R(X) = False (no quedan asientos)\n",
    "* T1: W(X) = Reserve primera clase\n",
    "* T1: C\n",
    "* T2: A (como no lo toma, entonces si esta libre el asiento 24)"
   ]
  },
  {
   "cell_type": "markdown",
   "metadata": {},
   "source": [
    "## Ejemplo Non-repeatable read (Read - Write)\n",
    "\n",
    "“Una tx. sobreescribe un dato que otra ya había leído antes\n",
    "pero no había confirmado.”\n",
    "\n",
    "* T1: R(X) = True (quedan asientos)\n",
    "* T2: W(X) = Reserve el asiento 24\n",
    "* T2: C\n",
    "* T1: R(X) = True (quedan asientos, pero son menos)\n",
    "\n"
   ]
  },
  {
   "cell_type": "markdown",
   "metadata": {},
   "source": [
    "## Schedules\n",
    "\n",
    "## ¿Que es un schedule?\n",
    "\n",
    "Un **schedule S** es una secuencia de operaciones primitivas de **una o mas transacciones**, tal que para toda transacon, las acciones de ella aparencen **en eljmismo orden que en su definicion**."
   ]
  },
  {
   "cell_type": "markdown",
   "metadata": {},
   "source": [
    "**schedule S es Serial si no hay INTERCALACION ENTRE LAS ACCIONES**\n",
    "\n",
    "## Ejemplo de schedule\n",
    "\n",
    "* T1: R(X), W(X), R(Y), W(Y)\n",
    "* T2: R(Y), W(Y), R(X), W(X)\n",
    "\n",
    "## Ejemplo de schedule serial\n",
    "\n",
    "* T1: R(X), W(X)\n",
    "* T2: ------------R(Y), W(Y)\n",
    "\n"
   ]
  },
  {
   "cell_type": "markdown",
   "metadata": {},
   "source": [
    "## Schedule serializable\n",
    "\n",
    "Significa que se puede transformar en un scheduyle serial sin cambiar el resultado\n",
    "\n",
    "Para que sea serializable el orden original no tiene que afectar el resultado\n",
    "\n",
    "## Ejemplo de schedule serializable\n",
    "\n",
    "![image](img/serializable.png)\n",
    "\n",
    "## Ejemplo de schedule no serializable\n",
    "\n",
    "![image](img/no_serializable.png)"
   ]
  },
  {
   "cell_type": "markdown",
   "metadata": {},
   "source": [
    "## Acciones NO conflictivas\n",
    "\n",
    "Las siguientes accion no son cofilictivbasc para dos tranasciones disitntas i y j\n",
    "\n",
    "* Ri(X) y Rj(Y)\n",
    "* Ri(X) y Wj(Y) con X != Y\n",
    "* Wi(X) y Rj(Y) con X != Y\n",
    "* Wi(X) y Wj(Y) con X != Y\n",
    "\n",
    "Luego podemos cambiarle el orden en una **schedule**\n",
    "\n",
    "**Schedule es confilict serializable** si puedo transiofrmalo a sertial usando permutyaciones\n",
    "\n",
    "\n",
    "**Schedule conflict serializable** implica que es serializable,\n",
    "pero hay schedules que son serializables y no son conflict serializables"
   ]
  },
  {
   "cell_type": "markdown",
   "metadata": {},
   "source": [
    "## Strict 2PL\n",
    "\n",
    "Es el protyocolo de concurrencia mas usado en los dbms\n",
    "\n",
    "Esta basado en uso de locks\n",
    "\n",
    "2 reglas:\n",
    "\n",
    "Regla 1: SI una transaccion quiere **leer/modificar** un objeto primero pide un **shared lock / exclusive lock**\n",
    "\n",
    "Ningun otro puede pedir el lock mientra lo usa\n",
    "\n",
    "Regla 2: Cuando la transaccion **se completa** **libera todos los locks que tenia**\n",
    "\n"
   ]
  },
  {
   "cell_type": "markdown",
   "metadata": {},
   "source": [
    "## Transacicones en SQL"
   ]
  },
  {
   "cell_type": "markdown",
   "metadata": {},
   "source": [
    "\n",
    "```sql\n",
    "START TRANSACTION\n",
    "    SELECT a_nombre\n",
    "    FROM Actores;\n",
    "COMMIT;\n",
    "```\n",
    "\n",
    "Para desacer una transaccion se usa ROLLBACK\n",
    "\n",
    "```sql\n",
    "START TRANSACTION\n",
    "    SELECT a_nombre\n",
    "    FROM Actores;\n",
    "ROLLBACK;"
   ]
  },
  {
   "cell_type": "markdown",
   "metadata": {},
   "source": [
    "## SQL en Nivel \n",
    "\n",
    "\n",
    "SET TRANSACTION ISOLATION LEVEL Level READ\n",
    "ONLY\n",
    "\n",
    "SET TRANSACTION ISOLATION LEVEL Level READ\n",
    "WRITE\n",
    "\n",
    "LEVEL: SERIALIZABLE, REPEATABLE READ,\n",
    "READ COMMITTED, READ UNCOMMITTED\n",
    "\n",
    "| Nivel de aislamiento | Dirty Read (WR) | Unrepeatable Read (RW)| Phantom Read (WW) |\n",
    "|----------------------|------------|-------------------|--------------|\n",
    "| SERIALIZABLE         | No         | No                | No           |\n",
    "| REPEATABLE READ      | No         | No                | Maybe        |\n",
    "| READ COMMITTED       | No         | Maybe             | Maybe        |\n",
    "| READ UNCOMMITTED     | Maybe      | Maybe             | Maybe        |\n",
    "\n",
    "\n",
    "Default:\n",
    "\n",
    "SET TRANSACTION ISOLATION LEVEL SERIALIZABLE\n",
    "READ WRITE\n"
   ]
  },
  {
   "cell_type": "markdown",
   "metadata": {},
   "source": []
  }
 ],
 "metadata": {
  "language_info": {
   "name": "python"
  }
 },
 "nbformat": 4,
 "nbformat_minor": 2
}
