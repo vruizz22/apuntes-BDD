{
 "cells": [
  {
   "cell_type": "markdown",
   "metadata": {},
   "source": [
    "# SQL\n",
    "\n",
    "### Introducción\n",
    "\n",
    "Durante esta actividad vamos a aprender los conceptos básicos de SQL. Vamos a aprender a insertar, eliminar y actualizar datos de una base de datos además de hacer consultas sencillas sobre ellos.\n",
    "\n",
    "### Requisitos\n",
    "\n",
    "Para esta actividad, así como en las siguientes actividades de SQL vamos a utilizar\n",
    "\n",
    "- Python 3\n",
    "- Jupyter\n",
    "- La librería `ipython-sql`. Para instalarla pueden hacerlo con `pip3`:\n",
    "```\n",
    "pip3 install ipython-sql\n",
    "```\n",
    "- SQLite3, que viene junto con la instalación de Python\n",
    "\n",
    "### Outline\n",
    "\n",
    "En esta actividad aprendermos a:\n",
    "\n",
    "- Crear y modificar tablas.\n",
    "- Insertar, eliminar y actualizar datos.\n",
    "- Crear llaves en las tablas.\n",
    "- Hacer consultas que involucren selección, proyección, producto cruz y operaciones de conjuntos.\n",
    "- Consultas básicas de agregación.\n",
    "\n",
    "### Esquema\n",
    "\n",
    "Para esta actividad vamos a trabajar con el siguiente esquema:\n",
    "\n",
    "- `Capitanes(cid INT PRIMARY KEY, cnombre VARCHAR(100), crating FLOAT, cedad INT)`\n",
    "- `Botes(bid INT PRIMARY KEY, bnombre VARCHAR(100), bcolor VARCHAR(100))`\n",
    "- `Reservas(cid INT, bid INT, fecha DATE, PRIMARY KEY(cid, bid))`\n",
    "\n",
    "Que corresponde a capitanes que reservan ciertos botes. El `cid` y `bid` en la tabla `Reservas` proviene de las tablas `Capitanes` y `Botes` respectivamente."
   ]
  },
  {
   "cell_type": "markdown",
   "metadata": {},
   "source": [
    "## Actividad\n",
    "\n",
    "### Crear tablas, eliminar tablas y llaves primarias\n",
    "\n",
    "En esta actividad vamos a utilizar `ipython-sql` para tener acceso a SQL desde este _notebook_. Lo vamos a importar a continuación."
   ]
  },
  {
   "cell_type": "code",
   "execution_count": 850,
   "metadata": {
    "collapsed": true
   },
   "outputs": [
    {
     "name": "stdout",
     "output_type": "stream",
     "text": [
      "The sql extension is already loaded. To reload it, use:\n",
      "  %reload_ext sql\n"
     ]
    }
   ],
   "source": [
    "%load_ext sql"
   ]
  },
  {
   "cell_type": "markdown",
   "metadata": {},
   "source": [
    "Ahora vamos a crear una nueva base de datos para esta actividad. Esta base de datos se llamará `capitanes.db`."
   ]
  },
  {
   "cell_type": "code",
   "execution_count": 851,
   "metadata": {
    "collapsed": true
   },
   "outputs": [],
   "source": [
    "%sql sqlite:///capitanes.db"
   ]
  },
  {
   "cell_type": "markdown",
   "metadata": {},
   "source": [
    "**Ojo**: cada vez que anteponemos `%sql` es porque esa línea corresponde a un comando a SQL que va a la base de datos en la que estamos trabajando (en este caso `capitanes.db`). Si queremos tener todo un bloque con instrucciones SQL tenemos que usar `%%sql` (habrán ejemplos de esto a lo largo del _notebook_)."
   ]
  },
  {
   "cell_type": "markdown",
   "metadata": {},
   "source": [
    "Tu primera prueba será crear una base de datos de acuerdo el esquema de arriba. La sintaxis para crear tablas en SQL es la siguiente (si están trabajando desde el cliente, después de cada sentencia SQL debes poner un punto y coma `;`):\n",
    "\n",
    "```sql\n",
    "CREATE TABLE <Nombre Tabla> (<atributo_1> tipo, ... , <attributo_N> tipo)\n",
    "```\n",
    "\n",
    "Por ejemplo, para crear la tabla de capitanes:"
   ]
  },
  {
   "cell_type": "code",
   "execution_count": 852,
   "metadata": {
    "collapsed": true
   },
   "outputs": [
    {
     "name": "stdout",
     "output_type": "stream",
     "text": [
      " * sqlite:///capitanes.db\n",
      "Done.\n",
      "Done.\n"
     ]
    },
    {
     "data": {
      "text/plain": [
       "[]"
      ]
     },
     "execution_count": 852,
     "metadata": {},
     "output_type": "execute_result"
    }
   ],
   "source": [
    "%%sql \n",
    "DROP TABLE IF EXISTS Capitanes;\n",
    "CREATE TABLE Capitanes(cid INT, cnombre VARCHAR(100), crating FLOAT, cedad INT);"
   ]
  },
  {
   "cell_type": "markdown",
   "metadata": {},
   "source": [
    "En la celda anterior estamos eliminando la tabla si es que existe para luego crear una tabla según lo requerido por el esquema. Pero cuidado! Olvidamos agregar la llave primaria, por lo que vamos a **eliminar** la tabla y crearla de nuevo. Además, vamos a agregar un valor por defecto al atributo `crating`, que en este caso será 0."
   ]
  },
  {
   "cell_type": "code",
   "execution_count": 853,
   "metadata": {
    "collapsed": true
   },
   "outputs": [
    {
     "name": "stdout",
     "output_type": "stream",
     "text": [
      " * sqlite:///capitanes.db\n",
      "Done.\n",
      "Done.\n"
     ]
    },
    {
     "data": {
      "text/plain": [
       "[]"
      ]
     },
     "execution_count": 853,
     "metadata": {},
     "output_type": "execute_result"
    }
   ],
   "source": [
    "%%sql \n",
    "DROP TABLE Capitanes;\n",
    "CREATE TABLE Capitanes(cid INT PRIMARY KEY, cnombre VARCHAR(100), crating FLOAT DEFAULT 0, cedad INT);"
   ]
  },
  {
   "cell_type": "markdown",
   "metadata": {},
   "source": [
    "Otra opción es agregar la llave primaria al final de la instrucción `CREATE TABLE`. Para ver un ejemplo, vamos a crear la tabla de reservas."
   ]
  },
  {
   "cell_type": "code",
   "execution_count": 854,
   "metadata": {
    "collapsed": true
   },
   "outputs": [
    {
     "name": "stdout",
     "output_type": "stream",
     "text": [
      " * sqlite:///capitanes.db\n",
      "Done.\n",
      "Done.\n"
     ]
    },
    {
     "data": {
      "text/plain": [
       "[]"
      ]
     },
     "execution_count": 854,
     "metadata": {},
     "output_type": "execute_result"
    }
   ],
   "source": [
    "%%sql \n",
    "DROP TABLE IF EXISTS Reservas;\n",
    "CREATE TABLE Reservas(cid INT, bid INT, fecha DATE, PRIMARY KEY(cid, bid));"
   ]
  },
  {
   "cell_type": "markdown",
   "metadata": {},
   "source": [
    "En el caso anterior, tenemos una llave primaria compuesta. En general, para crear una tabla con llave primaria, lo señalamos al final, de la forma:\n",
    "\n",
    "```sql\n",
    "CREATE TABLE <Nombre Tabla> (\n",
    "    <atributo_1> tipo, ..., \n",
    "    <attributo_N> tipo, \n",
    "    PRIMARY KEY(<atributos separados por coma (,)>))\n",
    "```"
   ]
  },
  {
   "cell_type": "markdown",
   "metadata": {},
   "source": [
    "**1.** Ahora es tu turno. En la celda a continuación debes crear la tabla de botes. No olvides agregar su llave primaria."
   ]
  },
  {
   "cell_type": "code",
   "execution_count": 855,
   "metadata": {
    "collapsed": true
   },
   "outputs": [
    {
     "name": "stdout",
     "output_type": "stream",
     "text": [
      " * sqlite:///capitanes.db\n",
      "Done.\n",
      "Done.\n"
     ]
    },
    {
     "data": {
      "text/plain": [
       "[]"
      ]
     },
     "execution_count": 855,
     "metadata": {},
     "output_type": "execute_result"
    }
   ],
   "source": [
    "%%sql\n",
    "DROP TABLE IF EXISTS Botes;\n",
    "CREATE TABLE Botes(bid INT PRIMARY KEY, bnombre VARCHAR(100), bcolor VARCHAR(100));"
   ]
  },
  {
   "cell_type": "markdown",
   "metadata": {},
   "source": [
    "### Tipos de datos\n",
    "\n",
    "Al crear las tablas disponemos varios tipos de datos. Por ahora destacamos los siguientes:\n",
    "\n",
    "- Caracteres (_Strings_):\n",
    "  - `CHAR(20)`: _Strings_ de largo fijo.\n",
    "  - `VARCHAR(20)`: _Strings_ de largo variable.\n",
    "  \n",
    "- Números:\n",
    "  - `INT`\n",
    "  - `FLOAT`\n",
    "  - `SMALLINT`\n",
    "  \n",
    "- Tiempos y fechas:\n",
    "  - `DATE`: fecha.\n",
    "  - `TIME`: hora.\n",
    "  - `TIMESTAMP`: fecha y hora."
   ]
  },
  {
   "cell_type": "markdown",
   "metadata": {},
   "source": [
    "### Insertar, eliminar y modificar elementos en tablas\n",
    "\n",
    "Si ejecutamos la consulta `SELECT * FROM Capitanes` notaremos que el resultado es vacío. Esto es evidente, ya que esta consulta me retorna todo lo que tengo en la tabla `Capitanes` y actualmente no hemos insertado nada."
   ]
  },
  {
   "cell_type": "code",
   "execution_count": 856,
   "metadata": {
    "collapsed": true
   },
   "outputs": [
    {
     "name": "stdout",
     "output_type": "stream",
     "text": [
      " * sqlite:///capitanes.db\n",
      "Done.\n"
     ]
    },
    {
     "data": {
      "text/html": [
       "<table>\n",
       "    <thead>\n",
       "        <tr>\n",
       "            <th>cid</th>\n",
       "            <th>cnombre</th>\n",
       "            <th>crating</th>\n",
       "            <th>cedad</th>\n",
       "        </tr>\n",
       "    </thead>\n",
       "    <tbody>\n",
       "    </tbody>\n",
       "</table>"
      ],
      "text/plain": [
       "[]"
      ]
     },
     "execution_count": 856,
     "metadata": {},
     "output_type": "execute_result"
    }
   ],
   "source": [
    "%sql SELECT * FROM Capitanes;"
   ]
  },
  {
   "cell_type": "markdown",
   "metadata": {},
   "source": [
    "Para insertar valores, la forma básica es la siguiente:\n",
    "\n",
    "```sql\n",
    "INSERT INTO <Nombre Tabla> \n",
    "VALUES (<valor atributo 1> , ..., <valor atributo N>)\n",
    "```\n",
    "\n",
    "Por ejemplo si ejecutamos la consulta:\n",
    "\n",
    "```sql\n",
    "INSERT INTO Capitanes \n",
    "VALUES(1, 'Claudio', 0, 35)\n",
    "```\n",
    "\n",
    "estamos insertando un Capitán con `cid` 1, `cnombre` Claudio, `crating` 0 y `cedad` 35."
   ]
  },
  {
   "cell_type": "code",
   "execution_count": 857,
   "metadata": {
    "collapsed": true
   },
   "outputs": [
    {
     "name": "stdout",
     "output_type": "stream",
     "text": [
      " * sqlite:///capitanes.db\n",
      "1 rows affected.\n"
     ]
    },
    {
     "data": {
      "text/plain": [
       "[]"
      ]
     },
     "execution_count": 857,
     "metadata": {},
     "output_type": "execute_result"
    }
   ],
   "source": [
    "%sql INSERT INTO Capitanes VALUES(1, 'Claudio', 0, 35)"
   ]
  },
  {
   "cell_type": "markdown",
   "metadata": {},
   "source": [
    "Recordemos que habíamos señalado que la llave primaria de la tabla `Capitanes` era el `cid`. Veamos que pasa si intentamos insertar un capitán con el mismo `cid`."
   ]
  },
  {
   "cell_type": "code",
   "execution_count": 858,
   "metadata": {
    "collapsed": true
   },
   "outputs": [
    {
     "name": "stdout",
     "output_type": "stream",
     "text": [
      " * sqlite:///capitanes.db\n",
      "(sqlite3.IntegrityError) UNIQUE constraint failed: Capitanes.cid\n",
      "[SQL: INSERT INTO Capitanes VALUES(1, 'Claudio Bravo' , 0, 35)]\n",
      "(Background on this error at: https://sqlalche.me/e/20/gkpj)\n"
     ]
    }
   ],
   "source": [
    "%sql INSERT INTO Capitanes VALUES(1, 'Claudio Bravo', 0, 35)"
   ]
  },
  {
   "cell_type": "markdown",
   "metadata": {},
   "source": [
    "La consulta anterior debería haber arrojado un error. Así que vamos a cambiar el `cid`. Sin embargo, vamos a omitir algunos atributos."
   ]
  },
  {
   "cell_type": "code",
   "execution_count": 859,
   "metadata": {
    "collapsed": true
   },
   "outputs": [
    {
     "name": "stdout",
     "output_type": "stream",
     "text": [
      " * sqlite:///capitanes.db\n",
      "1 rows affected.\n"
     ]
    },
    {
     "data": {
      "text/plain": [
       "[]"
      ]
     },
     "execution_count": 859,
     "metadata": {},
     "output_type": "execute_result"
    }
   ],
   "source": [
    "%sql INSERT INTO Capitanes(cid, cnombre) VALUES(13, 'Claudio Bravo')"
   ]
  },
  {
   "cell_type": "code",
   "execution_count": 860,
   "metadata": {
    "collapsed": true
   },
   "outputs": [
    {
     "name": "stdout",
     "output_type": "stream",
     "text": [
      " * sqlite:///capitanes.db\n",
      "Done.\n"
     ]
    },
    {
     "data": {
      "text/html": [
       "<table>\n",
       "    <thead>\n",
       "        <tr>\n",
       "            <th>cid</th>\n",
       "            <th>cnombre</th>\n",
       "            <th>crating</th>\n",
       "            <th>cedad</th>\n",
       "        </tr>\n",
       "    </thead>\n",
       "    <tbody>\n",
       "        <tr>\n",
       "            <td>1</td>\n",
       "            <td>Claudio</td>\n",
       "            <td>0.0</td>\n",
       "            <td>35</td>\n",
       "        </tr>\n",
       "        <tr>\n",
       "            <td>13</td>\n",
       "            <td>Claudio Bravo</td>\n",
       "            <td>0.0</td>\n",
       "            <td>None</td>\n",
       "        </tr>\n",
       "    </tbody>\n",
       "</table>"
      ],
      "text/plain": [
       "[(1, 'Claudio', 0.0, 35), (13, 'Claudio Bravo', 0.0, None)]"
      ]
     },
     "execution_count": 860,
     "metadata": {},
     "output_type": "execute_result"
    }
   ],
   "source": [
    "%sql SELECT * FROM Capitanes"
   ]
  },
  {
   "cell_type": "markdown",
   "metadata": {},
   "source": [
    "Si te das cuenta, ahora tenemos dos tuplas en la tabla de capitanes. Como podrías haber esperado, dado que omitimos el valor para ciertos atributos en la segunda inserción, el `crating` tomó el valor _default_. Pero ojo! el atributo `cedad` tomó un valor **nulo**. Más adelante en el curso vamos a ahondar en esta temática y ver por qué los valores nulos pueden ser un problema. Ahora vamos a agregar una nueva tupla para hacer algunas consultas sencillas."
   ]
  },
  {
   "cell_type": "code",
   "execution_count": 861,
   "metadata": {
    "collapsed": true
   },
   "outputs": [
    {
     "name": "stdout",
     "output_type": "stream",
     "text": [
      " * sqlite:///capitanes.db\n",
      "1 rows affected.\n"
     ]
    },
    {
     "data": {
      "text/plain": [
       "[]"
      ]
     },
     "execution_count": 861,
     "metadata": {},
     "output_type": "execute_result"
    }
   ],
   "source": [
    "%sql INSERT INTO Capitanes VALUES(23, 'Arturo Vidal', 8, 31)"
   ]
  },
  {
   "cell_type": "code",
   "execution_count": 862,
   "metadata": {
    "collapsed": true
   },
   "outputs": [
    {
     "name": "stdout",
     "output_type": "stream",
     "text": [
      " * sqlite:///capitanes.db\n",
      "Done.\n"
     ]
    },
    {
     "data": {
      "text/html": [
       "<table>\n",
       "    <thead>\n",
       "        <tr>\n",
       "            <th>cid</th>\n",
       "            <th>cnombre</th>\n",
       "            <th>crating</th>\n",
       "            <th>cedad</th>\n",
       "        </tr>\n",
       "    </thead>\n",
       "    <tbody>\n",
       "        <tr>\n",
       "            <td>1</td>\n",
       "            <td>Claudio</td>\n",
       "            <td>0.0</td>\n",
       "            <td>35</td>\n",
       "        </tr>\n",
       "        <tr>\n",
       "            <td>13</td>\n",
       "            <td>Claudio Bravo</td>\n",
       "            <td>0.0</td>\n",
       "            <td>None</td>\n",
       "        </tr>\n",
       "        <tr>\n",
       "            <td>23</td>\n",
       "            <td>Arturo Vidal</td>\n",
       "            <td>8.0</td>\n",
       "            <td>31</td>\n",
       "        </tr>\n",
       "    </tbody>\n",
       "</table>"
      ],
      "text/plain": [
       "[(1, 'Claudio', 0.0, 35),\n",
       " (13, 'Claudio Bravo', 0.0, None),\n",
       " (23, 'Arturo Vidal', 8.0, 31)]"
      ]
     },
     "execution_count": 862,
     "metadata": {},
     "output_type": "execute_result"
    }
   ],
   "source": [
    "%sql SELECT * FROM Capitanes;"
   ]
  },
  {
   "cell_type": "code",
   "execution_count": 863,
   "metadata": {
    "collapsed": true
   },
   "outputs": [
    {
     "name": "stdout",
     "output_type": "stream",
     "text": [
      " * sqlite:///capitanes.db\n",
      "Done.\n"
     ]
    },
    {
     "data": {
      "text/html": [
       "<table>\n",
       "    <thead>\n",
       "        <tr>\n",
       "            <th>cid</th>\n",
       "            <th>cnombre</th>\n",
       "            <th>crating</th>\n",
       "            <th>cedad</th>\n",
       "        </tr>\n",
       "    </thead>\n",
       "    <tbody>\n",
       "        <tr>\n",
       "            <td>1</td>\n",
       "            <td>Claudio</td>\n",
       "            <td>0.0</td>\n",
       "            <td>35</td>\n",
       "        </tr>\n",
       "    </tbody>\n",
       "</table>"
      ],
      "text/plain": [
       "[(1, 'Claudio', 0.0, 35)]"
      ]
     },
     "execution_count": 863,
     "metadata": {},
     "output_type": "execute_result"
    }
   ],
   "source": [
    "%sql SELECT * FROM Capitanes WHERE cnombre='Claudio'"
   ]
  },
  {
   "cell_type": "markdown",
   "metadata": {},
   "source": [
    "En la consulta anterior estamos filtrando por Capitanes donde su nombre sea `'Claudio'`. Si queremos que el nombre **contenga** `'Claudio'` usamos la instrucción `LIKE`:"
   ]
  },
  {
   "cell_type": "code",
   "execution_count": 864,
   "metadata": {
    "collapsed": true
   },
   "outputs": [
    {
     "name": "stdout",
     "output_type": "stream",
     "text": [
      " * sqlite:///capitanes.db\n",
      "Done.\n"
     ]
    },
    {
     "data": {
      "text/html": [
       "<table>\n",
       "    <thead>\n",
       "        <tr>\n",
       "            <th>cid</th>\n",
       "            <th>cnombre</th>\n",
       "            <th>crating</th>\n",
       "            <th>cedad</th>\n",
       "        </tr>\n",
       "    </thead>\n",
       "    <tbody>\n",
       "        <tr>\n",
       "            <td>1</td>\n",
       "            <td>Claudio</td>\n",
       "            <td>0.0</td>\n",
       "            <td>35</td>\n",
       "        </tr>\n",
       "        <tr>\n",
       "            <td>13</td>\n",
       "            <td>Claudio Bravo</td>\n",
       "            <td>0.0</td>\n",
       "            <td>None</td>\n",
       "        </tr>\n",
       "    </tbody>\n",
       "</table>"
      ],
      "text/plain": [
       "[(1, 'Claudio', 0.0, 35), (13, 'Claudio Bravo', 0.0, None)]"
      ]
     },
     "execution_count": 864,
     "metadata": {},
     "output_type": "execute_result"
    }
   ],
   "source": [
    "%sql SELECT * FROM Capitanes WHERE cnombre LIKE '%Claudio%'"
   ]
  },
  {
   "cell_type": "markdown",
   "metadata": {},
   "source": [
    "Pueden notar que hemos añadido un `%` al _string_. Esto es porque antes y después de `Claudio` queremos permitir cualquier secuencia de caracteres. Para el `LIKE` tenemos dos instrucciones posibles:\n",
    "\n",
    "- `%` que significa cualquier secuencia de caracteres.\n",
    "- `_` que significa un caracter, pero **solamente** uno."
   ]
  },
  {
   "cell_type": "markdown",
   "metadata": {},
   "source": [
    "Como no estamos seguros de mantener a `Claudio` en la tabla `Capitanes` lo vamos a eliminar. Para eliminar tuplas lo hacemos con la instrucción `DELETE`. Veamos que pasa al ejecutar la siguiente consulta:"
   ]
  },
  {
   "cell_type": "code",
   "execution_count": 865,
   "metadata": {
    "collapsed": true
   },
   "outputs": [
    {
     "name": "stdout",
     "output_type": "stream",
     "text": [
      " * sqlite:///capitanes.db\n",
      "2 rows affected.\n"
     ]
    },
    {
     "data": {
      "text/plain": [
       "[]"
      ]
     },
     "execution_count": 865,
     "metadata": {},
     "output_type": "execute_result"
    }
   ],
   "source": [
    "%%sql\n",
    "DELETE FROM Capitanes\n",
    "WHERE cnombre LIKE '%Claudio%'"
   ]
  },
  {
   "cell_type": "code",
   "execution_count": 866,
   "metadata": {
    "collapsed": true
   },
   "outputs": [
    {
     "name": "stdout",
     "output_type": "stream",
     "text": [
      " * sqlite:///capitanes.db\n",
      "Done.\n"
     ]
    },
    {
     "data": {
      "text/html": [
       "<table>\n",
       "    <thead>\n",
       "        <tr>\n",
       "            <th>cid</th>\n",
       "            <th>cnombre</th>\n",
       "            <th>crating</th>\n",
       "            <th>cedad</th>\n",
       "        </tr>\n",
       "    </thead>\n",
       "    <tbody>\n",
       "        <tr>\n",
       "            <td>23</td>\n",
       "            <td>Arturo Vidal</td>\n",
       "            <td>8.0</td>\n",
       "            <td>31</td>\n",
       "        </tr>\n",
       "    </tbody>\n",
       "</table>"
      ],
      "text/plain": [
       "[(23, 'Arturo Vidal', 8.0, 31)]"
      ]
     },
     "execution_count": 866,
     "metadata": {},
     "output_type": "execute_result"
    }
   ],
   "source": [
    "%sql SELECT * FROM Capitanes"
   ]
  },
  {
   "cell_type": "markdown",
   "metadata": {},
   "source": [
    "Lo que hicimos fue borrar de la tabla `Capitanes` todas las tuplas que satisfacen la condición en el `WHERE` de la consulta. Para actualizar una tupla usamos la instrucción `UPDATE`, como veremos a continuación:"
   ]
  },
  {
   "cell_type": "code",
   "execution_count": 867,
   "metadata": {
    "collapsed": true
   },
   "outputs": [
    {
     "name": "stdout",
     "output_type": "stream",
     "text": [
      " * sqlite:///capitanes.db\n",
      "1 rows affected.\n"
     ]
    },
    {
     "data": {
      "text/plain": [
       "[]"
      ]
     },
     "execution_count": 867,
     "metadata": {},
     "output_type": "execute_result"
    }
   ],
   "source": [
    "%sql UPDATE Capitanes SET cnombre='King Arturo' WHERE cid=23"
   ]
  },
  {
   "cell_type": "code",
   "execution_count": 868,
   "metadata": {
    "collapsed": true
   },
   "outputs": [
    {
     "name": "stdout",
     "output_type": "stream",
     "text": [
      " * sqlite:///capitanes.db\n",
      "Done.\n"
     ]
    },
    {
     "data": {
      "text/html": [
       "<table>\n",
       "    <thead>\n",
       "        <tr>\n",
       "            <th>cid</th>\n",
       "            <th>cnombre</th>\n",
       "            <th>crating</th>\n",
       "            <th>cedad</th>\n",
       "        </tr>\n",
       "    </thead>\n",
       "    <tbody>\n",
       "        <tr>\n",
       "            <td>23</td>\n",
       "            <td>King Arturo</td>\n",
       "            <td>8.0</td>\n",
       "            <td>31</td>\n",
       "        </tr>\n",
       "    </tbody>\n",
       "</table>"
      ],
      "text/plain": [
       "[(23, 'King Arturo', 8.0, 31)]"
      ]
     },
     "execution_count": 868,
     "metadata": {},
     "output_type": "execute_result"
    }
   ],
   "source": [
    "%sql SELECT * FROM Capitanes"
   ]
  },
  {
   "cell_type": "markdown",
   "metadata": {},
   "source": [
    "### Modificando tablas\n",
    "\n",
    "En SQL es posible modificar tablas. Por ejemplo si quisieramos eliminar el atributo `crating` podríamos ejecutar la consulta:\n",
    "\n",
    "```sql\n",
    "ALTER TABLE Capitanes DROP COLUMN crating\n",
    "```\n",
    "\n",
    "O agregar una columna, como por ejemplo:\n",
    "\n",
    "```sql\n",
    "ALTER TABLE Capitanes ADD COLUMN rut VARCHAR(20)\n",
    "```"
   ]
  },
  {
   "cell_type": "markdown",
   "metadata": {},
   "source": [
    "### Consultas básicas en SQL"
   ]
  },
  {
   "cell_type": "markdown",
   "metadata": {},
   "source": [
    "Para comenzar a hacer consultas primero debemos llenar nuestras tablas. Asegurate que las instancias de las tablas sean las siguientes:"
   ]
  },
  {
   "cell_type": "markdown",
   "metadata": {},
   "source": [
    "#### Capitanes\n",
    "\n",
    "| cid | cnombre     | crating | cedad |\n",
    "|-----|-------------|---------|-------|\n",
    "| 23  | King Arturo | 8       | 31    |\n",
    "| 29  | Juan        | 1       | 33    |\n",
    "| 31  | Andy        | 8       | 55    |\n",
    "| 32  | Felipe      | 8.4     | 25    |\n",
    "| 58  | Oscar       | 10      | 35    |\n",
    "| 64  | Isidora     | 7.5     | 35    |\n",
    "| 71  | Pedro       | 10      | 16    |\n",
    "| 74  | Isidora     | 9       | 35    |\n",
    "| 85  | Rosa        | 3       | 25    |\n",
    "| 95  | Romano      | 5.5     | 63    |"
   ]
  },
  {
   "cell_type": "code",
   "execution_count": 869,
   "metadata": {},
   "outputs": [
    {
     "name": "stdout",
     "output_type": "stream",
     "text": [
      " * sqlite:///capitanes.db\n",
      "1 rows affected.\n",
      " * sqlite:///capitanes.db\n",
      "1 rows affected.\n",
      " * sqlite:///capitanes.db\n",
      "1 rows affected.\n",
      " * sqlite:///capitanes.db\n",
      "1 rows affected.\n",
      " * sqlite:///capitanes.db\n",
      "1 rows affected.\n",
      " * sqlite:///capitanes.db\n",
      "1 rows affected.\n",
      " * sqlite:///capitanes.db\n",
      "1 rows affected.\n",
      " * sqlite:///capitanes.db\n",
      "1 rows affected.\n",
      " * sqlite:///capitanes.db\n",
      "1 rows affected.\n"
     ]
    },
    {
     "data": {
      "text/plain": [
       "[]"
      ]
     },
     "execution_count": 869,
     "metadata": {},
     "output_type": "execute_result"
    }
   ],
   "source": [
    "# Añadimos todos los capitanes \n",
    "\"\"\"\n",
    "    \n",
    "   | cid | cnombre     | crating | cedad |\n",
    "|-----|-------------|---------|-------|\n",
    "| 23  | King Arturo | 8       | 31    |\n",
    "| 29  | Juan        | 1       | 33    |\n",
    "| 31  | Andy        | 8       | 55    |\n",
    "| 32  | Felipe      | 8.4     | 25    |\n",
    "| 58  | Oscar       | 10      | 35    |\n",
    "| 64  | Isidora     | 7.5     | 35    |\n",
    "| 71  | Pedro       | 10      | 16    |\n",
    "| 74  | Isidora     | 9       | 35    |\n",
    "| 85  | Rosa        | 3       | 25    |\n",
    "| 95  | Romano      | 5.5     | 63    | \n",
    "    \n",
    "\"\"\"\n",
    "\n",
    "%sql INSERT INTO Capitanes VALUES(29, 'Juan', 1, 33)\n",
    "%sql INSERT INTO Capitanes VALUES(31, 'Andy', 8, 55)\n",
    "%sql INSERT INTO Capitanes VALUES(32, 'Felipe', 8.4, 25)\n",
    "%sql INSERT INTO Capitanes VALUES(58, 'Oscar', 10, 35)\n",
    "%sql INSERT INTO Capitanes VALUES(64, 'Isidora', 7.5, 35)\n",
    "%sql INSERT INTO Capitanes VALUES(71, 'Pedro', 10, 16)\n",
    "%sql INSERT INTO Capitanes VALUES(74, 'Isidora', 9, 35)\n",
    "%sql INSERT INTO Capitanes VALUES(85, 'Rosa', 3, 25)\n",
    "%sql INSERT INTO Capitanes VALUES(95, 'Romano', 5.5, 63)\n",
    "\n"
   ]
  },
  {
   "cell_type": "markdown",
   "metadata": {},
   "source": [
    "#### Botes\n",
    "\n",
    "| bid | bnombre   | bcolor |\n",
    "|-----|-----------|--------|\n",
    "| 101 | Catamaran | Azul   |\n",
    "| 102 | Catamaran | Rojo   |\n",
    "| 103 | Endurance | Verde  |\n",
    "| 104 | Yate      | Rojo   |"
   ]
  },
  {
   "cell_type": "code",
   "execution_count": 870,
   "metadata": {},
   "outputs": [
    {
     "name": "stdout",
     "output_type": "stream",
     "text": [
      " * sqlite:///capitanes.db\n",
      "1 rows affected.\n",
      " * sqlite:///capitanes.db\n",
      "1 rows affected.\n",
      " * sqlite:///capitanes.db\n",
      "1 rows affected.\n",
      " * sqlite:///capitanes.db\n",
      "1 rows affected.\n"
     ]
    },
    {
     "data": {
      "text/plain": [
       "[]"
      ]
     },
     "execution_count": 870,
     "metadata": {},
     "output_type": "execute_result"
    }
   ],
   "source": [
    "# Añaadimos todos los botes\n",
    "\n",
    "\"\"\"\n",
    "| bid | bnombre   | bcolor |\n",
    "|-----|-----------|--------|\n",
    "| 101 | Catamaran | Azul   |\n",
    "| 102 | Catamaran | Rojo   |\n",
    "| 103 | Endurance | Verde  |\n",
    "| 104 | Yate      | Rojo   |\n",
    "\"\"\"\n",
    "\n",
    "%sql INSERT INTO Botes VALUES(101, 'Catamaran', 'Azul')\n",
    "%sql INSERT INTO Botes VALUES(102, 'Catamaran', 'Rojo')\n",
    "%sql INSERT INTO Botes VALUES(103, 'Endurance', 'Verde')\n",
    "%sql INSERT INTO Botes VALUES(104, 'Yate', 'Rojo')\n"
   ]
  },
  {
   "cell_type": "markdown",
   "metadata": {},
   "source": [
    "#### Reservas\n",
    "\n",
    "| cid | bid | fecha    |\n",
    "|-----|-----|----------|\n",
    "| 23  | 101 | 10/10/16 |\n",
    "| 23  | 102 | 10/10/16 |\n",
    "| 23  | 103 | 8/10/16  |\n",
    "| 23  | 104 | 7/10/17  |\n",
    "| 31  | 102 | 10/11/17 |\n",
    "| 31  | 103 | 6/11/18  |\n",
    "| 31  | 104 | 12/11/18 |\n",
    "| 64  | 101 | 5/9/18   |\n",
    "| 64  | 102 | 8/9/18   |\n",
    "| 74  | 103 | 8/9/18   |"
   ]
  },
  {
   "cell_type": "code",
   "execution_count": 871,
   "metadata": {},
   "outputs": [
    {
     "name": "stdout",
     "output_type": "stream",
     "text": [
      " * sqlite:///capitanes.db\n",
      "1 rows affected.\n",
      " * sqlite:///capitanes.db\n",
      "1 rows affected.\n",
      " * sqlite:///capitanes.db\n",
      "1 rows affected.\n",
      " * sqlite:///capitanes.db\n",
      "1 rows affected.\n",
      " * sqlite:///capitanes.db\n",
      "1 rows affected.\n",
      " * sqlite:///capitanes.db\n",
      "1 rows affected.\n",
      " * sqlite:///capitanes.db\n",
      "1 rows affected.\n",
      " * sqlite:///capitanes.db\n",
      "1 rows affected.\n",
      " * sqlite:///capitanes.db\n",
      "1 rows affected.\n",
      " * sqlite:///capitanes.db\n",
      "1 rows affected.\n"
     ]
    },
    {
     "data": {
      "text/plain": [
       "[]"
      ]
     },
     "execution_count": 871,
     "metadata": {},
     "output_type": "execute_result"
    }
   ],
   "source": [
    "# Añadimos todas las reservas\n",
    "\n",
    "\"\"\"\n",
    "| cid | bid | fecha    |\n",
    "|-----|-----|----------|\n",
    "| 23  | 101 | 10/10/16 |\n",
    "| 23  | 102 | 10/10/16 |\n",
    "| 23  | 103 | 8/10/16  |\n",
    "| 23  | 104 | 7/10/17  |\n",
    "| 31  | 102 | 10/11/17 |\n",
    "| 31  | 103 | 6/11/18  |\n",
    "| 31  | 104 | 12/11/18 |\n",
    "| 64  | 101 | 5/9/18   |\n",
    "| 64  | 102 | 8/9/18   |\n",
    "| 74  | 103 | 8/9/18   |\n",
    "\"\"\"\n",
    "\n",
    "# **Hint**: Para insertar un tipo fecha en SQLITE tienes que ingresarlo entre comillas simples en el formato `'YYYY-MM-DD'`, por ejemplo:\n",
    "\n",
    "%sql INSERT INTO Reservas VALUES(23, 101, '2016-10-10')\n",
    "%sql INSERT INTO Reservas VALUES(23, 102, '2016-10-10')\n",
    "%sql INSERT INTO Reservas VALUES(23, 103, '2016-08-10')\n",
    "%sql INSERT INTO Reservas VALUES(23, 104, '2017-07-10')\n",
    "%sql INSERT INTO Reservas VALUES(31, 102, '2017-11-10')\n",
    "%sql INSERT INTO Reservas VALUES(31, 103, '2018-11-06')\n",
    "%sql INSERT INTO Reservas VALUES(31, 104, '2018-11-12')\n",
    "%sql INSERT INTO Reservas VALUES(64, 101, '2018-09-05')\n",
    "%sql INSERT INTO Reservas VALUES(64, 102, '2018-09-08')\n",
    "%sql INSERT INTO Reservas VALUES(74, 103, '2018-09-08')\n",
    "\n",
    "\n"
   ]
  },
  {
   "cell_type": "markdown",
   "metadata": {},
   "source": [
    "**Hint**: Para insertar un tipo fecha en SQLITE tienes que ingresarlo entre comillas simples en el formato `'YYYY-MM-DD'`, por ejemplo:"
   ]
  },
  {
   "cell_type": "code",
   "execution_count": 872,
   "metadata": {
    "collapsed": true
   },
   "outputs": [],
   "source": [
    "#%sql INSERT INTO Reservas VALUES(23, 101, '2018-10-10')"
   ]
  },
  {
   "cell_type": "markdown",
   "metadata": {},
   "source": [
    "Las consultas más básicas son de la forma `SELECT - FROM - WHERE`. En general, la consulta de álgebra relacional:\n",
    "\n",
    "$$\n",
    "\\pi_{a_1, \\dots, a_n}(\\sigma_{\\text{condiciones}}(R_1 \\times R_m))\n",
    "$$\n",
    "\n",
    "se traduce en SQL como:\n",
    "\n",
    "```sql\n",
    "SELECT a_1, ..., a_n\n",
    "FROM R_1, ..., R_m\n",
    "WHERE <condiciones>\n",
    "```\n",
    "\n",
    "**2.** Prueba la siguiente consulta:"
   ]
  },
  {
   "cell_type": "code",
   "execution_count": 873,
   "metadata": {
    "collapsed": true
   },
   "outputs": [
    {
     "name": "stdout",
     "output_type": "stream",
     "text": [
      " * sqlite:///capitanes.db\n",
      "Done.\n"
     ]
    },
    {
     "data": {
      "text/html": [
       "<table>\n",
       "    <thead>\n",
       "        <tr>\n",
       "            <th>cid</th>\n",
       "            <th>cnombre</th>\n",
       "            <th>crating</th>\n",
       "            <th>cedad</th>\n",
       "        </tr>\n",
       "    </thead>\n",
       "    <tbody>\n",
       "        <tr>\n",
       "            <td>23</td>\n",
       "            <td>King Arturo</td>\n",
       "            <td>8.0</td>\n",
       "            <td>31</td>\n",
       "        </tr>\n",
       "        <tr>\n",
       "            <td>29</td>\n",
       "            <td>Juan</td>\n",
       "            <td>1.0</td>\n",
       "            <td>33</td>\n",
       "        </tr>\n",
       "        <tr>\n",
       "            <td>31</td>\n",
       "            <td>Andy</td>\n",
       "            <td>8.0</td>\n",
       "            <td>55</td>\n",
       "        </tr>\n",
       "        <tr>\n",
       "            <td>32</td>\n",
       "            <td>Felipe</td>\n",
       "            <td>8.4</td>\n",
       "            <td>25</td>\n",
       "        </tr>\n",
       "        <tr>\n",
       "            <td>58</td>\n",
       "            <td>Oscar</td>\n",
       "            <td>10.0</td>\n",
       "            <td>35</td>\n",
       "        </tr>\n",
       "        <tr>\n",
       "            <td>64</td>\n",
       "            <td>Isidora</td>\n",
       "            <td>7.5</td>\n",
       "            <td>35</td>\n",
       "        </tr>\n",
       "        <tr>\n",
       "            <td>71</td>\n",
       "            <td>Pedro</td>\n",
       "            <td>10.0</td>\n",
       "            <td>16</td>\n",
       "        </tr>\n",
       "        <tr>\n",
       "            <td>74</td>\n",
       "            <td>Isidora</td>\n",
       "            <td>9.0</td>\n",
       "            <td>35</td>\n",
       "        </tr>\n",
       "        <tr>\n",
       "            <td>85</td>\n",
       "            <td>Rosa</td>\n",
       "            <td>3.0</td>\n",
       "            <td>25</td>\n",
       "        </tr>\n",
       "        <tr>\n",
       "            <td>95</td>\n",
       "            <td>Romano</td>\n",
       "            <td>5.5</td>\n",
       "            <td>63</td>\n",
       "        </tr>\n",
       "    </tbody>\n",
       "</table>"
      ],
      "text/plain": [
       "[(23, 'King Arturo', 8.0, 31),\n",
       " (29, 'Juan', 1.0, 33),\n",
       " (31, 'Andy', 8.0, 55),\n",
       " (32, 'Felipe', 8.4, 25),\n",
       " (58, 'Oscar', 10.0, 35),\n",
       " (64, 'Isidora', 7.5, 35),\n",
       " (71, 'Pedro', 10.0, 16),\n",
       " (74, 'Isidora', 9.0, 35),\n",
       " (85, 'Rosa', 3.0, 25),\n",
       " (95, 'Romano', 5.5, 63)]"
      ]
     },
     "execution_count": 873,
     "metadata": {},
     "output_type": "execute_result"
    }
   ],
   "source": [
    "%sql SELECT cid, cnombre, crating, cedad FROM Capitanes"
   ]
  },
  {
   "cell_type": "markdown",
   "metadata": {},
   "source": [
    "¿Qué es lo que debería hacer la consulta anterior? Recuerda que si lo que quieres es proyectar todos los atributos puedes usar `*`.\n",
    "\n",
    "**3.** Ahora realiza dos consultas, una para obtener todo desde la tabla `Reservas` y todo de la tabla `Botes`. Revisa que agregaste todos los datos correctamente."
   ]
  },
  {
   "cell_type": "code",
   "execution_count": 874,
   "metadata": {
    "collapsed": true
   },
   "outputs": [
    {
     "name": "stdout",
     "output_type": "stream",
     "text": [
      " * sqlite:///capitanes.db\n",
      "Done.\n"
     ]
    },
    {
     "data": {
      "text/html": [
       "<table>\n",
       "    <thead>\n",
       "        <tr>\n",
       "            <th>cid</th>\n",
       "            <th>bid</th>\n",
       "            <th>fecha</th>\n",
       "        </tr>\n",
       "    </thead>\n",
       "    <tbody>\n",
       "        <tr>\n",
       "            <td>23</td>\n",
       "            <td>101</td>\n",
       "            <td>2016-10-10</td>\n",
       "        </tr>\n",
       "        <tr>\n",
       "            <td>23</td>\n",
       "            <td>102</td>\n",
       "            <td>2016-10-10</td>\n",
       "        </tr>\n",
       "        <tr>\n",
       "            <td>23</td>\n",
       "            <td>103</td>\n",
       "            <td>2016-08-10</td>\n",
       "        </tr>\n",
       "        <tr>\n",
       "            <td>23</td>\n",
       "            <td>104</td>\n",
       "            <td>2017-07-10</td>\n",
       "        </tr>\n",
       "        <tr>\n",
       "            <td>31</td>\n",
       "            <td>102</td>\n",
       "            <td>2017-11-10</td>\n",
       "        </tr>\n",
       "        <tr>\n",
       "            <td>31</td>\n",
       "            <td>103</td>\n",
       "            <td>2018-11-06</td>\n",
       "        </tr>\n",
       "        <tr>\n",
       "            <td>31</td>\n",
       "            <td>104</td>\n",
       "            <td>2018-11-12</td>\n",
       "        </tr>\n",
       "        <tr>\n",
       "            <td>64</td>\n",
       "            <td>101</td>\n",
       "            <td>2018-09-05</td>\n",
       "        </tr>\n",
       "        <tr>\n",
       "            <td>64</td>\n",
       "            <td>102</td>\n",
       "            <td>2018-09-08</td>\n",
       "        </tr>\n",
       "        <tr>\n",
       "            <td>74</td>\n",
       "            <td>103</td>\n",
       "            <td>2018-09-08</td>\n",
       "        </tr>\n",
       "    </tbody>\n",
       "</table>"
      ],
      "text/plain": [
       "[(23, 101, '2016-10-10'),\n",
       " (23, 102, '2016-10-10'),\n",
       " (23, 103, '2016-08-10'),\n",
       " (23, 104, '2017-07-10'),\n",
       " (31, 102, '2017-11-10'),\n",
       " (31, 103, '2018-11-06'),\n",
       " (31, 104, '2018-11-12'),\n",
       " (64, 101, '2018-09-05'),\n",
       " (64, 102, '2018-09-08'),\n",
       " (74, 103, '2018-09-08')]"
      ]
     },
     "execution_count": 874,
     "metadata": {},
     "output_type": "execute_result"
    }
   ],
   "source": [
    "# Reserva\n",
    "%sql SELECT * FROM Reservas"
   ]
  },
  {
   "cell_type": "code",
   "execution_count": 875,
   "metadata": {
    "collapsed": true
   },
   "outputs": [
    {
     "name": "stdout",
     "output_type": "stream",
     "text": [
      " * sqlite:///capitanes.db\n",
      "Done.\n"
     ]
    },
    {
     "data": {
      "text/html": [
       "<table>\n",
       "    <thead>\n",
       "        <tr>\n",
       "            <th>bid</th>\n",
       "            <th>bnombre</th>\n",
       "            <th>bcolor</th>\n",
       "        </tr>\n",
       "    </thead>\n",
       "    <tbody>\n",
       "        <tr>\n",
       "            <td>101</td>\n",
       "            <td>Catamaran</td>\n",
       "            <td>Azul</td>\n",
       "        </tr>\n",
       "        <tr>\n",
       "            <td>102</td>\n",
       "            <td>Catamaran</td>\n",
       "            <td>Rojo</td>\n",
       "        </tr>\n",
       "        <tr>\n",
       "            <td>103</td>\n",
       "            <td>Endurance</td>\n",
       "            <td>Verde</td>\n",
       "        </tr>\n",
       "        <tr>\n",
       "            <td>104</td>\n",
       "            <td>Yate</td>\n",
       "            <td>Rojo</td>\n",
       "        </tr>\n",
       "    </tbody>\n",
       "</table>"
      ],
      "text/plain": [
       "[(101, 'Catamaran', 'Azul'),\n",
       " (102, 'Catamaran', 'Rojo'),\n",
       " (103, 'Endurance', 'Verde'),\n",
       " (104, 'Yate', 'Rojo')]"
      ]
     },
     "execution_count": 875,
     "metadata": {},
     "output_type": "execute_result"
    }
   ],
   "source": [
    "# Botes\n",
    "%sql SELECT * FROM Botes"
   ]
  },
  {
   "cell_type": "markdown",
   "metadata": {},
   "source": [
    "Ahora ejecuta la consulta a continuación. ¿Qué crees que retorna?"
   ]
  },
  {
   "cell_type": "code",
   "execution_count": 876,
   "metadata": {
    "collapsed": true
   },
   "outputs": [
    {
     "name": "stdout",
     "output_type": "stream",
     "text": [
      " * sqlite:///capitanes.db\n",
      "Done.\n"
     ]
    },
    {
     "data": {
      "text/html": [
       "<table>\n",
       "    <thead>\n",
       "        <tr>\n",
       "            <th>cid</th>\n",
       "            <th>cnombre</th>\n",
       "            <th>crating</th>\n",
       "            <th>cedad</th>\n",
       "        </tr>\n",
       "    </thead>\n",
       "    <tbody>\n",
       "        <tr>\n",
       "            <td>29</td>\n",
       "            <td>Juan</td>\n",
       "            <td>1.0</td>\n",
       "            <td>33</td>\n",
       "        </tr>\n",
       "    </tbody>\n",
       "</table>"
      ],
      "text/plain": [
       "[(29, 'Juan', 1.0, 33)]"
      ]
     },
     "execution_count": 876,
     "metadata": {},
     "output_type": "execute_result"
    }
   ],
   "source": [
    "%sql SELECT * FROM Capitanes WHERE cnombre='Juan'"
   ]
  },
  {
   "cell_type": "markdown",
   "metadata": {},
   "source": [
    "Ahora es tu turno, realiza las siguientes consultas en SQL:\n",
    "\n",
    "**3.2.** Busca los nombres de los capitanes con rating más de 4 (prueba seleccionando `*` y luego solo el atributo `cnombre`).\n",
    "\n",
    "**Ayuda**: Puedes usar los filtros `x = y`, `x < y`, `x <= y`, `<>` (distinto), etc. Para los números es obvio, para los strings es orden lexicográfico."
   ]
  },
  {
   "cell_type": "code",
   "execution_count": 877,
   "metadata": {
    "collapsed": true
   },
   "outputs": [
    {
     "name": "stdout",
     "output_type": "stream",
     "text": [
      " * sqlite:///capitanes.db\n",
      "Done.\n"
     ]
    },
    {
     "data": {
      "text/html": [
       "<table>\n",
       "    <thead>\n",
       "        <tr>\n",
       "            <th>cid</th>\n",
       "            <th>cnombre</th>\n",
       "            <th>crating</th>\n",
       "            <th>cedad</th>\n",
       "        </tr>\n",
       "    </thead>\n",
       "    <tbody>\n",
       "        <tr>\n",
       "            <td>23</td>\n",
       "            <td>King Arturo</td>\n",
       "            <td>8.0</td>\n",
       "            <td>31</td>\n",
       "        </tr>\n",
       "        <tr>\n",
       "            <td>31</td>\n",
       "            <td>Andy</td>\n",
       "            <td>8.0</td>\n",
       "            <td>55</td>\n",
       "        </tr>\n",
       "        <tr>\n",
       "            <td>32</td>\n",
       "            <td>Felipe</td>\n",
       "            <td>8.4</td>\n",
       "            <td>25</td>\n",
       "        </tr>\n",
       "        <tr>\n",
       "            <td>58</td>\n",
       "            <td>Oscar</td>\n",
       "            <td>10.0</td>\n",
       "            <td>35</td>\n",
       "        </tr>\n",
       "        <tr>\n",
       "            <td>64</td>\n",
       "            <td>Isidora</td>\n",
       "            <td>7.5</td>\n",
       "            <td>35</td>\n",
       "        </tr>\n",
       "        <tr>\n",
       "            <td>71</td>\n",
       "            <td>Pedro</td>\n",
       "            <td>10.0</td>\n",
       "            <td>16</td>\n",
       "        </tr>\n",
       "        <tr>\n",
       "            <td>74</td>\n",
       "            <td>Isidora</td>\n",
       "            <td>9.0</td>\n",
       "            <td>35</td>\n",
       "        </tr>\n",
       "        <tr>\n",
       "            <td>95</td>\n",
       "            <td>Romano</td>\n",
       "            <td>5.5</td>\n",
       "            <td>63</td>\n",
       "        </tr>\n",
       "    </tbody>\n",
       "</table>"
      ],
      "text/plain": [
       "[(23, 'King Arturo', 8.0, 31),\n",
       " (31, 'Andy', 8.0, 55),\n",
       " (32, 'Felipe', 8.4, 25),\n",
       " (58, 'Oscar', 10.0, 35),\n",
       " (64, 'Isidora', 7.5, 35),\n",
       " (71, 'Pedro', 10.0, 16),\n",
       " (74, 'Isidora', 9.0, 35),\n",
       " (95, 'Romano', 5.5, 63)]"
      ]
     },
     "execution_count": 877,
     "metadata": {},
     "output_type": "execute_result"
    }
   ],
   "source": [
    "%sql SELECT * FROM Capitanes WHERE crating > 4"
   ]
  },
  {
   "cell_type": "markdown",
   "metadata": {},
   "source": [
    "**4.** Similarmente, busca los nombres de los capitanes con rating más de 4 y cuya edad está entre 25 y 40 años.\n",
    "\n",
    "**Ayuda**: Combina condiciones en el `WHERE` usando `AND` y `OR`. Recuerda que para negar algo puedes usar `NOT`."
   ]
  },
  {
   "cell_type": "code",
   "execution_count": 878,
   "metadata": {
    "collapsed": true
   },
   "outputs": [
    {
     "name": "stdout",
     "output_type": "stream",
     "text": [
      " * sqlite:///capitanes.db\n",
      "Done.\n"
     ]
    },
    {
     "data": {
      "text/html": [
       "<table>\n",
       "    <thead>\n",
       "        <tr>\n",
       "            <th>cnombre</th>\n",
       "        </tr>\n",
       "    </thead>\n",
       "    <tbody>\n",
       "        <tr>\n",
       "            <td>King Arturo</td>\n",
       "        </tr>\n",
       "        <tr>\n",
       "            <td>Oscar</td>\n",
       "        </tr>\n",
       "        <tr>\n",
       "            <td>Isidora</td>\n",
       "        </tr>\n",
       "        <tr>\n",
       "            <td>Isidora</td>\n",
       "        </tr>\n",
       "    </tbody>\n",
       "</table>"
      ],
      "text/plain": [
       "[('King Arturo',), ('Oscar',), ('Isidora',), ('Isidora',)]"
      ]
     },
     "execution_count": 878,
     "metadata": {},
     "output_type": "execute_result"
    }
   ],
   "source": [
    "%sql SELECT cnombre FROM Capitanes WHERE crating > 4 AND (cedad < 40 and cedad > 25)"
   ]
  },
  {
   "cell_type": "markdown",
   "metadata": {},
   "source": [
    "**5.** Busca la edad de los capitanes que no tienen una `'a'` en su nombre (recuerda usar `LIKE`)."
   ]
  },
  {
   "cell_type": "code",
   "execution_count": 879,
   "metadata": {
    "collapsed": true
   },
   "outputs": [
    {
     "name": "stdout",
     "output_type": "stream",
     "text": [
      " * sqlite:///capitanes.db\n",
      "Done.\n"
     ]
    },
    {
     "data": {
      "text/html": [
       "<table>\n",
       "    <thead>\n",
       "        <tr>\n",
       "            <th>cedad</th>\n",
       "        </tr>\n",
       "    </thead>\n",
       "    <tbody>\n",
       "        <tr>\n",
       "            <td>25</td>\n",
       "        </tr>\n",
       "        <tr>\n",
       "            <td>16</td>\n",
       "        </tr>\n",
       "    </tbody>\n",
       "</table>"
      ],
      "text/plain": [
       "[(25,), (16,)]"
      ]
     },
     "execution_count": 879,
     "metadata": {},
     "output_type": "execute_result"
    }
   ],
   "source": [
    "# **5.** Busca la edad de los capitanes que no tienen una `'a'` en su nombre (recuerda usar `LIKE`).\n",
    "%sql SELECT cedad FROM Capitanes WHERE cnombre NOT LIKE '%a%'"
   ]
  },
  {
   "cell_type": "markdown",
   "metadata": {},
   "source": [
    "Escribe una consulta que entregue los nombres y rating de los capitanes, pero ordenado por `crating`. Para ordenar agrega un `ORDER BY (<atr_1>, ..., <atr_N>) DESC` al final de tu consulta. Eso ordena los resultados por el atributo `<atr_1>`, después `<atr_2>`, etc. Prueba que pasa al eliminar el `DESC` al final del `ORDER BY`."
   ]
  },
  {
   "cell_type": "code",
   "execution_count": 880,
   "metadata": {},
   "outputs": [
    {
     "name": "stdout",
     "output_type": "stream",
     "text": [
      " * sqlite:///capitanes.db\n",
      "Done.\n"
     ]
    },
    {
     "data": {
      "text/html": [
       "<table>\n",
       "    <thead>\n",
       "        <tr>\n",
       "            <th>cnombre</th>\n",
       "            <th>crating</th>\n",
       "        </tr>\n",
       "    </thead>\n",
       "    <tbody>\n",
       "        <tr>\n",
       "            <td>Oscar</td>\n",
       "            <td>10.0</td>\n",
       "        </tr>\n",
       "        <tr>\n",
       "            <td>Pedro</td>\n",
       "            <td>10.0</td>\n",
       "        </tr>\n",
       "        <tr>\n",
       "            <td>Isidora</td>\n",
       "            <td>9.0</td>\n",
       "        </tr>\n",
       "        <tr>\n",
       "            <td>Felipe</td>\n",
       "            <td>8.4</td>\n",
       "        </tr>\n",
       "        <tr>\n",
       "            <td>King Arturo</td>\n",
       "            <td>8.0</td>\n",
       "        </tr>\n",
       "        <tr>\n",
       "            <td>Andy</td>\n",
       "            <td>8.0</td>\n",
       "        </tr>\n",
       "        <tr>\n",
       "            <td>Isidora</td>\n",
       "            <td>7.5</td>\n",
       "        </tr>\n",
       "        <tr>\n",
       "            <td>Romano</td>\n",
       "            <td>5.5</td>\n",
       "        </tr>\n",
       "        <tr>\n",
       "            <td>Rosa</td>\n",
       "            <td>3.0</td>\n",
       "        </tr>\n",
       "        <tr>\n",
       "            <td>Juan</td>\n",
       "            <td>1.0</td>\n",
       "        </tr>\n",
       "    </tbody>\n",
       "</table>"
      ],
      "text/plain": [
       "[('Oscar', 10.0),\n",
       " ('Pedro', 10.0),\n",
       " ('Isidora', 9.0),\n",
       " ('Felipe', 8.4),\n",
       " ('King Arturo', 8.0),\n",
       " ('Andy', 8.0),\n",
       " ('Isidora', 7.5),\n",
       " ('Romano', 5.5),\n",
       " ('Rosa', 3.0),\n",
       " ('Juan', 1.0)]"
      ]
     },
     "execution_count": 880,
     "metadata": {},
     "output_type": "execute_result"
    }
   ],
   "source": [
    "%sql SELECT cnombre, crating FROM Capitanes ORDER BY crating DESC"
   ]
  },
  {
   "cell_type": "markdown",
   "metadata": {},
   "source": [
    "### Consultas de _join_, unión, intersección y diferencia\n",
    "\n",
    "Imaginemos que queremos encontrar los nombres de los capitanes que reservaron el bote 103. \n",
    "\n",
    "**6.** Escribe primero esta consulta en Álgebra relacional.\n",
    "\n",
    "Una forma directa para traspasarlo a SQL es con el comando `INNER JOIN`:"
   ]
  },
  {
   "cell_type": "code",
   "execution_count": 881,
   "metadata": {
    "collapsed": true
   },
   "outputs": [
    {
     "name": "stdout",
     "output_type": "stream",
     "text": [
      " * sqlite:///capitanes.db\n",
      "Done.\n"
     ]
    },
    {
     "data": {
      "text/html": [
       "<table>\n",
       "    <thead>\n",
       "        <tr>\n",
       "            <th>cnombre</th>\n",
       "        </tr>\n",
       "    </thead>\n",
       "    <tbody>\n",
       "        <tr>\n",
       "            <td>King Arturo</td>\n",
       "        </tr>\n",
       "        <tr>\n",
       "            <td>Andy</td>\n",
       "        </tr>\n",
       "        <tr>\n",
       "            <td>Isidora</td>\n",
       "        </tr>\n",
       "    </tbody>\n",
       "</table>"
      ],
      "text/plain": [
       "[('King Arturo',), ('Andy',), ('Isidora',)]"
      ]
     },
     "execution_count": 881,
     "metadata": {},
     "output_type": "execute_result"
    }
   ],
   "source": [
    "%%sql\n",
    "SELECT  cnombre\n",
    "FROM  Capitanes INNER JOIN Reservas\n",
    "ON Capitanes.cid = Reservas.cid\n",
    "WHERE Reservas.bid = 103"
   ]
  },
  {
   "cell_type": "markdown",
   "metadata": {},
   "source": [
    "Este es un buen minuto para repasar los joins. Puedes correr la consulta de arriba sin el `WHERE` para ver lo que sería el resultado de $\\text{Capitanes} \\bowtie_{\\text{cid}=\\text{cid}} \\text{Reservas}$. ¿Qué pasa al agregar la condición del `WHERE`?\n",
    "Si bien existe la instrucción `INNER JOIN`, una forma más clara (o que a nosotros nos gusta más) es explotando el producto cartesiano:"
   ]
  },
  {
   "cell_type": "code",
   "execution_count": 882,
   "metadata": {
    "collapsed": true
   },
   "outputs": [
    {
     "name": "stdout",
     "output_type": "stream",
     "text": [
      " * sqlite:///capitanes.db\n",
      "Done.\n"
     ]
    },
    {
     "data": {
      "text/html": [
       "<table>\n",
       "    <thead>\n",
       "        <tr>\n",
       "            <th>cid</th>\n",
       "            <th>cnombre</th>\n",
       "            <th>crating</th>\n",
       "            <th>cedad</th>\n",
       "            <th>cid_1</th>\n",
       "            <th>bid</th>\n",
       "            <th>fecha</th>\n",
       "        </tr>\n",
       "    </thead>\n",
       "    <tbody>\n",
       "        <tr>\n",
       "            <td>23</td>\n",
       "            <td>King Arturo</td>\n",
       "            <td>8.0</td>\n",
       "            <td>31</td>\n",
       "            <td>23</td>\n",
       "            <td>103</td>\n",
       "            <td>2016-08-10</td>\n",
       "        </tr>\n",
       "        <tr>\n",
       "            <td>31</td>\n",
       "            <td>Andy</td>\n",
       "            <td>8.0</td>\n",
       "            <td>55</td>\n",
       "            <td>31</td>\n",
       "            <td>103</td>\n",
       "            <td>2018-11-06</td>\n",
       "        </tr>\n",
       "        <tr>\n",
       "            <td>74</td>\n",
       "            <td>Isidora</td>\n",
       "            <td>9.0</td>\n",
       "            <td>35</td>\n",
       "            <td>74</td>\n",
       "            <td>103</td>\n",
       "            <td>2018-09-08</td>\n",
       "        </tr>\n",
       "    </tbody>\n",
       "</table>"
      ],
      "text/plain": [
       "[(23, 'King Arturo', 8.0, 31, 23, 103, '2016-08-10'),\n",
       " (31, 'Andy', 8.0, 55, 31, 103, '2018-11-06'),\n",
       " (74, 'Isidora', 9.0, 35, 74, 103, '2018-09-08')]"
      ]
     },
     "execution_count": 882,
     "metadata": {},
     "output_type": "execute_result"
    }
   ],
   "source": [
    "%%sql\n",
    "SELECT  *\n",
    "FROM  Capitanes INNER JOIN Reservas\n",
    "ON Capitanes.cid = Reservas.cid\n",
    "WHERE Reservas.bid = 103"
   ]
  },
  {
   "cell_type": "code",
   "execution_count": 883,
   "metadata": {
    "collapsed": true
   },
   "outputs": [
    {
     "name": "stdout",
     "output_type": "stream",
     "text": [
      " * sqlite:///capitanes.db\n",
      "Done.\n"
     ]
    },
    {
     "data": {
      "text/html": [
       "<table>\n",
       "    <thead>\n",
       "        <tr>\n",
       "            <th>cid</th>\n",
       "            <th>cnombre</th>\n",
       "            <th>crating</th>\n",
       "            <th>cedad</th>\n",
       "            <th>cid_1</th>\n",
       "            <th>bid</th>\n",
       "            <th>fecha</th>\n",
       "        </tr>\n",
       "    </thead>\n",
       "    <tbody>\n",
       "        <tr>\n",
       "            <td>23</td>\n",
       "            <td>King Arturo</td>\n",
       "            <td>8.0</td>\n",
       "            <td>31</td>\n",
       "            <td>23</td>\n",
       "            <td>103</td>\n",
       "            <td>2016-08-10</td>\n",
       "        </tr>\n",
       "        <tr>\n",
       "            <td>31</td>\n",
       "            <td>Andy</td>\n",
       "            <td>8.0</td>\n",
       "            <td>55</td>\n",
       "            <td>31</td>\n",
       "            <td>103</td>\n",
       "            <td>2018-11-06</td>\n",
       "        </tr>\n",
       "        <tr>\n",
       "            <td>74</td>\n",
       "            <td>Isidora</td>\n",
       "            <td>9.0</td>\n",
       "            <td>35</td>\n",
       "            <td>74</td>\n",
       "            <td>103</td>\n",
       "            <td>2018-09-08</td>\n",
       "        </tr>\n",
       "    </tbody>\n",
       "</table>"
      ],
      "text/plain": [
       "[(23, 'King Arturo', 8.0, 31, 23, 103, '2016-08-10'),\n",
       " (31, 'Andy', 8.0, 55, 31, 103, '2018-11-06'),\n",
       " (74, 'Isidora', 9.0, 35, 74, 103, '2018-09-08')]"
      ]
     },
     "execution_count": 883,
     "metadata": {},
     "output_type": "execute_result"
    }
   ],
   "source": [
    "%%sql\n",
    "SELECT  *\n",
    "FROM  Capitanes, Reservas\n",
    "WHERE Capitanes.cid = Reservas.cid\n",
    "AND Reservas.bid = 103"
   ]
  },
  {
   "cell_type": "markdown",
   "metadata": {},
   "source": [
    "En este caso estamos aplicando el `WHERE` al Producto Cartesiano, y por eso incluimos la condición `WHERE Capitanes.cid = Reservas.cid`. ¿Entiendes por qué ambas consultas son equivalentes?\n",
    "\n",
    "Ahora intenta escribir las siguientes consultas:\n",
    "\n",
    "**7.** Los nombres de los capitanes que reservaron un bote rojo."
   ]
  },
  {
   "cell_type": "code",
   "execution_count": 884,
   "metadata": {
    "collapsed": true
   },
   "outputs": [
    {
     "name": "stdout",
     "output_type": "stream",
     "text": [
      " * sqlite:///capitanes.db\n",
      "Done.\n"
     ]
    },
    {
     "data": {
      "text/html": [
       "<table>\n",
       "    <thead>\n",
       "        <tr>\n",
       "            <th>cid</th>\n",
       "            <th>cnombre</th>\n",
       "            <th>crating</th>\n",
       "            <th>cedad</th>\n",
       "            <th>cid_1</th>\n",
       "            <th>bid</th>\n",
       "            <th>fecha</th>\n",
       "            <th>bid_1</th>\n",
       "            <th>bnombre</th>\n",
       "            <th>bcolor</th>\n",
       "        </tr>\n",
       "    </thead>\n",
       "    <tbody>\n",
       "        <tr>\n",
       "            <td>23</td>\n",
       "            <td>King Arturo</td>\n",
       "            <td>8.0</td>\n",
       "            <td>31</td>\n",
       "            <td>23</td>\n",
       "            <td>102</td>\n",
       "            <td>2016-10-10</td>\n",
       "            <td>102</td>\n",
       "            <td>Catamaran</td>\n",
       "            <td>Rojo</td>\n",
       "        </tr>\n",
       "        <tr>\n",
       "            <td>23</td>\n",
       "            <td>King Arturo</td>\n",
       "            <td>8.0</td>\n",
       "            <td>31</td>\n",
       "            <td>23</td>\n",
       "            <td>104</td>\n",
       "            <td>2017-07-10</td>\n",
       "            <td>104</td>\n",
       "            <td>Yate</td>\n",
       "            <td>Rojo</td>\n",
       "        </tr>\n",
       "        <tr>\n",
       "            <td>31</td>\n",
       "            <td>Andy</td>\n",
       "            <td>8.0</td>\n",
       "            <td>55</td>\n",
       "            <td>31</td>\n",
       "            <td>102</td>\n",
       "            <td>2017-11-10</td>\n",
       "            <td>102</td>\n",
       "            <td>Catamaran</td>\n",
       "            <td>Rojo</td>\n",
       "        </tr>\n",
       "        <tr>\n",
       "            <td>31</td>\n",
       "            <td>Andy</td>\n",
       "            <td>8.0</td>\n",
       "            <td>55</td>\n",
       "            <td>31</td>\n",
       "            <td>104</td>\n",
       "            <td>2018-11-12</td>\n",
       "            <td>104</td>\n",
       "            <td>Yate</td>\n",
       "            <td>Rojo</td>\n",
       "        </tr>\n",
       "        <tr>\n",
       "            <td>64</td>\n",
       "            <td>Isidora</td>\n",
       "            <td>7.5</td>\n",
       "            <td>35</td>\n",
       "            <td>64</td>\n",
       "            <td>102</td>\n",
       "            <td>2018-09-08</td>\n",
       "            <td>102</td>\n",
       "            <td>Catamaran</td>\n",
       "            <td>Rojo</td>\n",
       "        </tr>\n",
       "    </tbody>\n",
       "</table>"
      ],
      "text/plain": [
       "[(23, 'King Arturo', 8.0, 31, 23, 102, '2016-10-10', 102, 'Catamaran', 'Rojo'),\n",
       " (23, 'King Arturo', 8.0, 31, 23, 104, '2017-07-10', 104, 'Yate', 'Rojo'),\n",
       " (31, 'Andy', 8.0, 55, 31, 102, '2017-11-10', 102, 'Catamaran', 'Rojo'),\n",
       " (31, 'Andy', 8.0, 55, 31, 104, '2018-11-12', 104, 'Yate', 'Rojo'),\n",
       " (64, 'Isidora', 7.5, 35, 64, 102, '2018-09-08', 102, 'Catamaran', 'Rojo')]"
      ]
     },
     "execution_count": 884,
     "metadata": {},
     "output_type": "execute_result"
    }
   ],
   "source": [
    "%sql SELECT * FROM Capitanes JOIN Reservas ON Capitanes.cid = Reservas.cid JOIN Botes ON Reservas.bid = Botes.bid WHERE Botes.bcolor = 'Rojo'"
   ]
  },
  {
   "cell_type": "markdown",
   "metadata": {},
   "source": [
    "**8.** Los nombres de los capitanes que reservaron un bote rojo o un bote verde."
   ]
  },
  {
   "cell_type": "code",
   "execution_count": 885,
   "metadata": {
    "collapsed": true
   },
   "outputs": [
    {
     "name": "stdout",
     "output_type": "stream",
     "text": [
      " * sqlite:///capitanes.db\n",
      "Done.\n"
     ]
    },
    {
     "data": {
      "text/html": [
       "<table>\n",
       "    <thead>\n",
       "        <tr>\n",
       "            <th>cid</th>\n",
       "            <th>cnombre</th>\n",
       "            <th>crating</th>\n",
       "            <th>cedad</th>\n",
       "            <th>cid_1</th>\n",
       "            <th>bid</th>\n",
       "            <th>fecha</th>\n",
       "            <th>bid_1</th>\n",
       "            <th>bnombre</th>\n",
       "            <th>bcolor</th>\n",
       "        </tr>\n",
       "    </thead>\n",
       "    <tbody>\n",
       "        <tr>\n",
       "            <td>23</td>\n",
       "            <td>King Arturo</td>\n",
       "            <td>8.0</td>\n",
       "            <td>31</td>\n",
       "            <td>23</td>\n",
       "            <td>102</td>\n",
       "            <td>2016-10-10</td>\n",
       "            <td>102</td>\n",
       "            <td>Catamaran</td>\n",
       "            <td>Rojo</td>\n",
       "        </tr>\n",
       "        <tr>\n",
       "            <td>23</td>\n",
       "            <td>King Arturo</td>\n",
       "            <td>8.0</td>\n",
       "            <td>31</td>\n",
       "            <td>23</td>\n",
       "            <td>103</td>\n",
       "            <td>2016-08-10</td>\n",
       "            <td>103</td>\n",
       "            <td>Endurance</td>\n",
       "            <td>Verde</td>\n",
       "        </tr>\n",
       "        <tr>\n",
       "            <td>23</td>\n",
       "            <td>King Arturo</td>\n",
       "            <td>8.0</td>\n",
       "            <td>31</td>\n",
       "            <td>23</td>\n",
       "            <td>104</td>\n",
       "            <td>2017-07-10</td>\n",
       "            <td>104</td>\n",
       "            <td>Yate</td>\n",
       "            <td>Rojo</td>\n",
       "        </tr>\n",
       "        <tr>\n",
       "            <td>31</td>\n",
       "            <td>Andy</td>\n",
       "            <td>8.0</td>\n",
       "            <td>55</td>\n",
       "            <td>31</td>\n",
       "            <td>102</td>\n",
       "            <td>2017-11-10</td>\n",
       "            <td>102</td>\n",
       "            <td>Catamaran</td>\n",
       "            <td>Rojo</td>\n",
       "        </tr>\n",
       "        <tr>\n",
       "            <td>31</td>\n",
       "            <td>Andy</td>\n",
       "            <td>8.0</td>\n",
       "            <td>55</td>\n",
       "            <td>31</td>\n",
       "            <td>103</td>\n",
       "            <td>2018-11-06</td>\n",
       "            <td>103</td>\n",
       "            <td>Endurance</td>\n",
       "            <td>Verde</td>\n",
       "        </tr>\n",
       "        <tr>\n",
       "            <td>31</td>\n",
       "            <td>Andy</td>\n",
       "            <td>8.0</td>\n",
       "            <td>55</td>\n",
       "            <td>31</td>\n",
       "            <td>104</td>\n",
       "            <td>2018-11-12</td>\n",
       "            <td>104</td>\n",
       "            <td>Yate</td>\n",
       "            <td>Rojo</td>\n",
       "        </tr>\n",
       "        <tr>\n",
       "            <td>64</td>\n",
       "            <td>Isidora</td>\n",
       "            <td>7.5</td>\n",
       "            <td>35</td>\n",
       "            <td>64</td>\n",
       "            <td>102</td>\n",
       "            <td>2018-09-08</td>\n",
       "            <td>102</td>\n",
       "            <td>Catamaran</td>\n",
       "            <td>Rojo</td>\n",
       "        </tr>\n",
       "        <tr>\n",
       "            <td>74</td>\n",
       "            <td>Isidora</td>\n",
       "            <td>9.0</td>\n",
       "            <td>35</td>\n",
       "            <td>74</td>\n",
       "            <td>103</td>\n",
       "            <td>2018-09-08</td>\n",
       "            <td>103</td>\n",
       "            <td>Endurance</td>\n",
       "            <td>Verde</td>\n",
       "        </tr>\n",
       "    </tbody>\n",
       "</table>"
      ],
      "text/plain": [
       "[(23, 'King Arturo', 8.0, 31, 23, 102, '2016-10-10', 102, 'Catamaran', 'Rojo'),\n",
       " (23, 'King Arturo', 8.0, 31, 23, 103, '2016-08-10', 103, 'Endurance', 'Verde'),\n",
       " (23, 'King Arturo', 8.0, 31, 23, 104, '2017-07-10', 104, 'Yate', 'Rojo'),\n",
       " (31, 'Andy', 8.0, 55, 31, 102, '2017-11-10', 102, 'Catamaran', 'Rojo'),\n",
       " (31, 'Andy', 8.0, 55, 31, 103, '2018-11-06', 103, 'Endurance', 'Verde'),\n",
       " (31, 'Andy', 8.0, 55, 31, 104, '2018-11-12', 104, 'Yate', 'Rojo'),\n",
       " (64, 'Isidora', 7.5, 35, 64, 102, '2018-09-08', 102, 'Catamaran', 'Rojo'),\n",
       " (74, 'Isidora', 9.0, 35, 74, 103, '2018-09-08', 103, 'Endurance', 'Verde')]"
      ]
     },
     "execution_count": 885,
     "metadata": {},
     "output_type": "execute_result"
    }
   ],
   "source": [
    "%sql SELECT * FROM Capitanes JOIN Reservas ON Capitanes.cid = Reservas.cid JOIN Botes ON Reservas.bid = Botes.bid WHERE Botes.bcolor = 'Rojo' UNION SELECT * FROM Capitanes JOIN Reservas ON Capitanes.cid = Reservas.cid JOIN Botes ON Reservas.bid = Botes.bid WHERE Botes.bcolor = 'Verde'"
   ]
  },
  {
   "cell_type": "markdown",
   "metadata": {},
   "source": [
    "**9.** La misma anterior, pero usando `UNION` para unir el resultado de dos consultas. Prueba usando `UNION` y luego `UNION ALL`. ¿Cuál es la diferencia?"
   ]
  },
  {
   "cell_type": "code",
   "execution_count": 886,
   "metadata": {
    "collapsed": true
   },
   "outputs": [
    {
     "name": "stdout",
     "output_type": "stream",
     "text": [
      " * sqlite:///capitanes.db\n",
      "Done.\n"
     ]
    },
    {
     "data": {
      "text/html": [
       "<table>\n",
       "    <thead>\n",
       "        <tr>\n",
       "            <th>cid</th>\n",
       "            <th>cnombre</th>\n",
       "            <th>crating</th>\n",
       "            <th>cedad</th>\n",
       "            <th>cid_1</th>\n",
       "            <th>bid</th>\n",
       "            <th>fecha</th>\n",
       "            <th>bid_1</th>\n",
       "            <th>bnombre</th>\n",
       "            <th>bcolor</th>\n",
       "        </tr>\n",
       "    </thead>\n",
       "    <tbody>\n",
       "        <tr>\n",
       "            <td>23</td>\n",
       "            <td>King Arturo</td>\n",
       "            <td>8.0</td>\n",
       "            <td>31</td>\n",
       "            <td>23</td>\n",
       "            <td>102</td>\n",
       "            <td>2016-10-10</td>\n",
       "            <td>102</td>\n",
       "            <td>Catamaran</td>\n",
       "            <td>Rojo</td>\n",
       "        </tr>\n",
       "        <tr>\n",
       "            <td>23</td>\n",
       "            <td>King Arturo</td>\n",
       "            <td>8.0</td>\n",
       "            <td>31</td>\n",
       "            <td>23</td>\n",
       "            <td>104</td>\n",
       "            <td>2017-07-10</td>\n",
       "            <td>104</td>\n",
       "            <td>Yate</td>\n",
       "            <td>Rojo</td>\n",
       "        </tr>\n",
       "        <tr>\n",
       "            <td>31</td>\n",
       "            <td>Andy</td>\n",
       "            <td>8.0</td>\n",
       "            <td>55</td>\n",
       "            <td>31</td>\n",
       "            <td>102</td>\n",
       "            <td>2017-11-10</td>\n",
       "            <td>102</td>\n",
       "            <td>Catamaran</td>\n",
       "            <td>Rojo</td>\n",
       "        </tr>\n",
       "        <tr>\n",
       "            <td>31</td>\n",
       "            <td>Andy</td>\n",
       "            <td>8.0</td>\n",
       "            <td>55</td>\n",
       "            <td>31</td>\n",
       "            <td>104</td>\n",
       "            <td>2018-11-12</td>\n",
       "            <td>104</td>\n",
       "            <td>Yate</td>\n",
       "            <td>Rojo</td>\n",
       "        </tr>\n",
       "        <tr>\n",
       "            <td>64</td>\n",
       "            <td>Isidora</td>\n",
       "            <td>7.5</td>\n",
       "            <td>35</td>\n",
       "            <td>64</td>\n",
       "            <td>102</td>\n",
       "            <td>2018-09-08</td>\n",
       "            <td>102</td>\n",
       "            <td>Catamaran</td>\n",
       "            <td>Rojo</td>\n",
       "        </tr>\n",
       "        <tr>\n",
       "            <td>23</td>\n",
       "            <td>King Arturo</td>\n",
       "            <td>8.0</td>\n",
       "            <td>31</td>\n",
       "            <td>23</td>\n",
       "            <td>103</td>\n",
       "            <td>2016-08-10</td>\n",
       "            <td>103</td>\n",
       "            <td>Endurance</td>\n",
       "            <td>Verde</td>\n",
       "        </tr>\n",
       "        <tr>\n",
       "            <td>31</td>\n",
       "            <td>Andy</td>\n",
       "            <td>8.0</td>\n",
       "            <td>55</td>\n",
       "            <td>31</td>\n",
       "            <td>103</td>\n",
       "            <td>2018-11-06</td>\n",
       "            <td>103</td>\n",
       "            <td>Endurance</td>\n",
       "            <td>Verde</td>\n",
       "        </tr>\n",
       "        <tr>\n",
       "            <td>74</td>\n",
       "            <td>Isidora</td>\n",
       "            <td>9.0</td>\n",
       "            <td>35</td>\n",
       "            <td>74</td>\n",
       "            <td>103</td>\n",
       "            <td>2018-09-08</td>\n",
       "            <td>103</td>\n",
       "            <td>Endurance</td>\n",
       "            <td>Verde</td>\n",
       "        </tr>\n",
       "    </tbody>\n",
       "</table>"
      ],
      "text/plain": [
       "[(23, 'King Arturo', 8.0, 31, 23, 102, '2016-10-10', 102, 'Catamaran', 'Rojo'),\n",
       " (23, 'King Arturo', 8.0, 31, 23, 104, '2017-07-10', 104, 'Yate', 'Rojo'),\n",
       " (31, 'Andy', 8.0, 55, 31, 102, '2017-11-10', 102, 'Catamaran', 'Rojo'),\n",
       " (31, 'Andy', 8.0, 55, 31, 104, '2018-11-12', 104, 'Yate', 'Rojo'),\n",
       " (64, 'Isidora', 7.5, 35, 64, 102, '2018-09-08', 102, 'Catamaran', 'Rojo'),\n",
       " (23, 'King Arturo', 8.0, 31, 23, 103, '2016-08-10', 103, 'Endurance', 'Verde'),\n",
       " (31, 'Andy', 8.0, 55, 31, 103, '2018-11-06', 103, 'Endurance', 'Verde'),\n",
       " (74, 'Isidora', 9.0, 35, 74, 103, '2018-09-08', 103, 'Endurance', 'Verde')]"
      ]
     },
     "execution_count": 886,
     "metadata": {},
     "output_type": "execute_result"
    }
   ],
   "source": [
    "%sql SELECT * FROM Capitanes JOIN Reservas ON Capitanes.cid = Reservas.cid JOIN Botes ON Reservas.bid = Botes.bid WHERE Botes.bcolor = 'Rojo' UNION ALL SELECT * FROM Capitanes JOIN Reservas ON Capitanes.cid = Reservas.cid JOIN Botes ON Reservas.bid = Botes.bid WHERE Botes.bcolor = 'Verde'"
   ]
  },
  {
   "cell_type": "markdown",
   "metadata": {},
   "source": [
    "**11.** Los nombres de los capitanes que reservaron un bote rojo y un bote verde. Puedes usar `INTERSECT` para intersectar el resultado de dos consultas. ¿Puedes escribir también esta consulta usando AND?"
   ]
  },
  {
   "cell_type": "code",
   "execution_count": 887,
   "metadata": {
    "collapsed": true
   },
   "outputs": [
    {
     "name": "stdout",
     "output_type": "stream",
     "text": [
      " * sqlite:///capitanes.db\n",
      "Done.\n"
     ]
    },
    {
     "data": {
      "text/html": [
       "<table>\n",
       "    <thead>\n",
       "        <tr>\n",
       "            <th>cnombre</th>\n",
       "        </tr>\n",
       "    </thead>\n",
       "    <tbody>\n",
       "        <tr>\n",
       "            <td>Andy</td>\n",
       "        </tr>\n",
       "        <tr>\n",
       "            <td>Isidora</td>\n",
       "        </tr>\n",
       "        <tr>\n",
       "            <td>King Arturo</td>\n",
       "        </tr>\n",
       "    </tbody>\n",
       "</table>"
      ],
      "text/plain": [
       "[('Andy',), ('Isidora',), ('King Arturo',)]"
      ]
     },
     "execution_count": 887,
     "metadata": {},
     "output_type": "execute_result"
    }
   ],
   "source": [
    "%sql SELECT cnombre FROM Capitanes JOIN Reservas ON Capitanes.cid = Reservas.cid JOIN Botes ON Reservas.bid = Botes.bid WHERE Botes.bcolor = 'Rojo' INTERSECT SELECT cnombre FROM Capitanes JOIN Reservas ON Capitanes.cid = Reservas.cid JOIN Botes ON Reservas.bid = Botes.bid WHERE Botes.bcolor = 'Verde'"
   ]
  },
  {
   "cell_type": "markdown",
   "metadata": {},
   "source": [
    "### Sub-consultas y consultas anidadas\n",
    "\n",
    "Has observado que cada consulta entrega una tabla, los atributos de esa tabla son lo que pones en el `SELECT`. Esto significa que podemos poner cualquier consulta SQL en el `FROM`. Vamos a ver cómo realizar esto.\n",
    "\n",
    "**12.** Escribe una consulta que entregue los nombres de los capitanes junto a los bid de los botes que han reservado, pero contando solo las reservas hechas después del primero de octubre del 2017."
   ]
  },
  {
   "cell_type": "code",
   "execution_count": 888,
   "metadata": {
    "collapsed": true
   },
   "outputs": [
    {
     "name": "stdout",
     "output_type": "stream",
     "text": [
      " * sqlite:///capitanes.db\n",
      "Done.\n"
     ]
    },
    {
     "data": {
      "text/html": [
       "<table>\n",
       "    <thead>\n",
       "        <tr>\n",
       "            <th>cnombre</th>\n",
       "            <th>bid</th>\n",
       "        </tr>\n",
       "    </thead>\n",
       "    <tbody>\n",
       "        <tr>\n",
       "            <td>Andy</td>\n",
       "            <td>102</td>\n",
       "        </tr>\n",
       "        <tr>\n",
       "            <td>Andy</td>\n",
       "            <td>103</td>\n",
       "        </tr>\n",
       "        <tr>\n",
       "            <td>Andy</td>\n",
       "            <td>104</td>\n",
       "        </tr>\n",
       "        <tr>\n",
       "            <td>Isidora</td>\n",
       "            <td>101</td>\n",
       "        </tr>\n",
       "        <tr>\n",
       "            <td>Isidora</td>\n",
       "            <td>102</td>\n",
       "        </tr>\n",
       "        <tr>\n",
       "            <td>Isidora</td>\n",
       "            <td>103</td>\n",
       "        </tr>\n",
       "    </tbody>\n",
       "</table>"
      ],
      "text/plain": [
       "[('Andy', 102),\n",
       " ('Andy', 103),\n",
       " ('Andy', 104),\n",
       " ('Isidora', 101),\n",
       " ('Isidora', 102),\n",
       " ('Isidora', 103)]"
      ]
     },
     "execution_count": 888,
     "metadata": {},
     "output_type": "execute_result"
    }
   ],
   "source": [
    "%%sql\n",
    "SELECT Capitanes.cnombre, Reservas.bid\n",
    "FROM Capitanes\n",
    "JOIN Reservas ON Capitanes.cid = Reservas.cid\n",
    "WHERE Reservas.fecha > '2017-10-01';\n"
   ]
  },
  {
   "cell_type": "markdown",
   "metadata": {},
   "source": [
    "Sea $Q$ la consulta anterior. ¿Qué va a retornar la siguiente consulta? (Ojo, tienes que reemplazar el valor de $Q$ en la celda siguiente)"
   ]
  },
  {
   "cell_type": "code",
   "execution_count": 889,
   "metadata": {
    "collapsed": true
   },
   "outputs": [
    {
     "name": "stdout",
     "output_type": "stream",
     "text": [
      " * sqlite:///capitanes.db\n",
      "Done.\n"
     ]
    },
    {
     "data": {
      "text/html": [
       "<table>\n",
       "    <thead>\n",
       "        <tr>\n",
       "            <th>bid</th>\n",
       "            <th>bnombre</th>\n",
       "            <th>bcolor</th>\n",
       "        </tr>\n",
       "    </thead>\n",
       "    <tbody>\n",
       "        <tr>\n",
       "            <td>101</td>\n",
       "            <td>Catamaran</td>\n",
       "            <td>Azul</td>\n",
       "        </tr>\n",
       "        <tr>\n",
       "            <td>102</td>\n",
       "            <td>Catamaran</td>\n",
       "            <td>Rojo</td>\n",
       "        </tr>\n",
       "        <tr>\n",
       "            <td>103</td>\n",
       "            <td>Endurance</td>\n",
       "            <td>Verde</td>\n",
       "        </tr>\n",
       "        <tr>\n",
       "            <td>104</td>\n",
       "            <td>Yate</td>\n",
       "            <td>Rojo</td>\n",
       "        </tr>\n",
       "        <tr>\n",
       "            <td>102</td>\n",
       "            <td>Catamaran</td>\n",
       "            <td>Rojo</td>\n",
       "        </tr>\n",
       "        <tr>\n",
       "            <td>103</td>\n",
       "            <td>Endurance</td>\n",
       "            <td>Verde</td>\n",
       "        </tr>\n",
       "        <tr>\n",
       "            <td>104</td>\n",
       "            <td>Yate</td>\n",
       "            <td>Rojo</td>\n",
       "        </tr>\n",
       "        <tr>\n",
       "            <td>101</td>\n",
       "            <td>Catamaran</td>\n",
       "            <td>Azul</td>\n",
       "        </tr>\n",
       "        <tr>\n",
       "            <td>102</td>\n",
       "            <td>Catamaran</td>\n",
       "            <td>Rojo</td>\n",
       "        </tr>\n",
       "        <tr>\n",
       "            <td>103</td>\n",
       "            <td>Endurance</td>\n",
       "            <td>Verde</td>\n",
       "        </tr>\n",
       "    </tbody>\n",
       "</table>"
      ],
      "text/plain": [
       "[(101, 'Catamaran', 'Azul'),\n",
       " (102, 'Catamaran', 'Rojo'),\n",
       " (103, 'Endurance', 'Verde'),\n",
       " (104, 'Yate', 'Rojo'),\n",
       " (102, 'Catamaran', 'Rojo'),\n",
       " (103, 'Endurance', 'Verde'),\n",
       " (104, 'Yate', 'Rojo'),\n",
       " (101, 'Catamaran', 'Azul'),\n",
       " (102, 'Catamaran', 'Rojo'),\n",
       " (103, 'Endurance', 'Verde')]"
      ]
     },
     "execution_count": 889,
     "metadata": {},
     "output_type": "execute_result"
    }
   ],
   "source": [
    "%%sql\n",
    "SELECT Botes.bid, bnombre, bcolor\n",
    "FROM Botes, (Reservas) AS Res2017\n",
    "WHERE Botes.bid = Res2017.bid"
   ]
  },
  {
   "cell_type": "markdown",
   "metadata": {},
   "source": [
    "**Importante**: cada vez que quieras anidar una consulta en el `FROM`, debes darle un alias. En el caso anterior el alias es Res2017.\n",
    "\n",
    "**13.** Ahora modifica $Q$ para que solo retorne los bid de los botes, y no los nombres de los capitanes. ¿Qué retorna la consulta a continuación? ¿Qué pasa si Q entrega dos atributos en vez de uno (es decir, usando $Q$ sin modificar)? ¿Por qué pasa esto?"
   ]
  },
  {
   "cell_type": "code",
   "execution_count": 890,
   "metadata": {
    "collapsed": true
   },
   "outputs": [
    {
     "name": "stdout",
     "output_type": "stream",
     "text": [
      " * sqlite:///capitanes.db\n",
      "(sqlite3.OperationalError) no such table: Q\n",
      "[SQL: SELECT Botes.bid, bnombre, bcolor\n",
      "FROM Botes\n",
      "WHERE Botes.bid IN Q]\n",
      "(Background on this error at: https://sqlalche.me/e/20/e3q8)\n"
     ]
    }
   ],
   "source": [
    "%%sql\n",
    "SELECT Botes.bid, bnombre, bcolor\n",
    "FROM Botes\n",
    "WHERE Botes.bid IN Q"
   ]
  },
  {
   "cell_type": "markdown",
   "metadata": {},
   "source": [
    "También podemos usar consultas anidadas en el `WHERE`. Además del `IN` podemos usar `NOT IN`, o `> ANY`, `> ALL` para cualquier comparación entre `<`, `>`, `<=`, `>=`, `=`, y también anteponiendo `NOT`.\n",
    "\n",
    "**Ojo**: `ANY` y `All` no funcionan en SQLite, pero es muy común en los otros sistemas.\n",
    "\n",
    "Por ejemplo, si queremos encontrar los capitanes que no han reservado un bote verde:\n",
    "\n",
    "1. Primero escribe una consulta que entregue los `cid` de los capitanes que han reservado un bote verde.\n",
    "2. Sea $Q$ la consulta anterior. Los capitanes que no han reservado un bote verde se pueden extraer remplazando $Q$ en:"
   ]
  },
  {
   "cell_type": "code",
   "execution_count": 891,
   "metadata": {
    "collapsed": true
   },
   "outputs": [
    {
     "name": "stdout",
     "output_type": "stream",
     "text": [
      " * sqlite:///capitanes.db\n",
      "(sqlite3.OperationalError) no such column: Q\n",
      "[SQL: SELECT cnombre\n",
      "FROM capitanes\n",
      "WHERE cid NOT IN (Q)]\n",
      "(Background on this error at: https://sqlalche.me/e/20/e3q8)\n"
     ]
    }
   ],
   "source": [
    "%%sql\n",
    "SELECT cnombre\n",
    "FROM capitanes\n",
    "WHERE cid NOT IN (Q)"
   ]
  },
  {
   "cell_type": "markdown",
   "metadata": {},
   "source": [
    "Ahora:\n",
    "\n",
    "**14.** Encuentre los nombres de los capitanes que tienen más de 20 años y que no han reservado un bote rojo. ¿Puedes escribir esto sin usar consultas anidadas?"
   ]
  },
  {
   "cell_type": "markdown",
   "metadata": {},
   "source": [
    "\"\"\"\n",
    "Aqui el SELECT 1\n",
    "es para que no se haga un SELECT * FROM Reservas\n",
    "Y se pone 1 porque no importa el valor, solo si existe o no\n",
    "Por lo tanto si existe un capitan que reservo un bote rojo,\n",
    "el select retorna 1 y el capitan no es seleccionado\n",
    "\n",
    "En cambio si no existe un capitan que reservo un bote rojo\n",
    "el select retorna 0 y el capitan es seleccionado    \n",
    "\"\"\""
   ]
  },
  {
   "cell_type": "code",
   "execution_count": 921,
   "metadata": {
    "collapsed": true
   },
   "outputs": [
    {
     "name": "stdout",
     "output_type": "stream",
     "text": [
      " * sqlite:///capitanes.db\n",
      "Done.\n"
     ]
    },
    {
     "data": {
      "text/html": [
       "<table>\n",
       "    <thead>\n",
       "        <tr>\n",
       "            <th>cnombre</th>\n",
       "        </tr>\n",
       "    </thead>\n",
       "    <tbody>\n",
       "        <tr>\n",
       "            <td>Juan</td>\n",
       "        </tr>\n",
       "        <tr>\n",
       "            <td>Felipe</td>\n",
       "        </tr>\n",
       "        <tr>\n",
       "            <td>Oscar</td>\n",
       "        </tr>\n",
       "        <tr>\n",
       "            <td>Isidora</td>\n",
       "        </tr>\n",
       "        <tr>\n",
       "            <td>Rosa</td>\n",
       "        </tr>\n",
       "        <tr>\n",
       "            <td>Romano</td>\n",
       "        </tr>\n",
       "    </tbody>\n",
       "</table>"
      ],
      "text/plain": [
       "[('Juan',), ('Felipe',), ('Oscar',), ('Isidora',), ('Rosa',), ('Romano',)]"
      ]
     },
     "execution_count": 921,
     "metadata": {},
     "output_type": "execute_result"
    }
   ],
   "source": [
    "%%sql\n",
    "SELECT Capitanes.cnombre\n",
    "FROM Capitanes\n",
    "WHERE Capitanes.cedad > 20\n",
    "AND NOT EXISTS (\n",
    "    SELECT 1\n",
    "    FROM Reservas\n",
    "    JOIN Botes ON Reservas.bid = Botes.bid\n",
    "    WHERE Reservas.cid = Capitanes.cid\n",
    "    AND Botes.bcolor = 'Rojo'\n",
    ");"
   ]
  },
  {
   "cell_type": "markdown",
   "metadata": {},
   "source": [
    "**15.** Encuentre los nombres de los capitanes que reservaron al menos dos botes."
   ]
  },
  {
   "cell_type": "code",
   "execution_count": 923,
   "metadata": {
    "collapsed": true
   },
   "outputs": [
    {
     "name": "stdout",
     "output_type": "stream",
     "text": [
      " * sqlite:///capitanes.db\n",
      "Done.\n"
     ]
    },
    {
     "data": {
      "text/html": [
       "<table>\n",
       "    <thead>\n",
       "        <tr>\n",
       "            <th>cnombre</th>\n",
       "        </tr>\n",
       "    </thead>\n",
       "    <tbody>\n",
       "        <tr>\n",
       "            <td>King Arturo</td>\n",
       "        </tr>\n",
       "        <tr>\n",
       "            <td>Andy</td>\n",
       "        </tr>\n",
       "        <tr>\n",
       "            <td>Isidora</td>\n",
       "        </tr>\n",
       "    </tbody>\n",
       "</table>"
      ],
      "text/plain": [
       "[('King Arturo',), ('Andy',), ('Isidora',)]"
      ]
     },
     "execution_count": 923,
     "metadata": {},
     "output_type": "execute_result"
    }
   ],
   "source": [
    "%%sql\n",
    "SELECT Capitanes.cnombre\n",
    "FROM Capitanes\n",
    "JOIN Reservas ON Capitanes.cid = Reservas.cid\n",
    "GROUP BY Capitanes.cid, Capitanes.cnombre\n",
    "HAVING COUNT(Reservas.bid) >= 2;"
   ]
  },
  {
   "cell_type": "markdown",
   "metadata": {},
   "source": [
    "**16.** Encuentre los nombres de los capitanes que han reservado todos los botes. ¿Puedes escribir esto sin usar consultas anidadas?"
   ]
  },
  {
   "cell_type": "markdown",
   "metadata": {},
   "source": [
    "La linea:\n",
    "\n",
    "```sql\n",
    "HAVING COUNT(DISTINCT bid) = (SELECT COUNT(*) FROM Botes)\n",
    "```\n",
    "\n",
    "es para contar la cantidad de botes distintos que ha reservado un capitan y compararla con la cantidad total de botes. Si son iguales, significa que ha reservado todos los botes."
   ]
  },
  {
   "cell_type": "code",
   "execution_count": 928,
   "metadata": {
    "collapsed": true
   },
   "outputs": [
    {
     "name": "stdout",
     "output_type": "stream",
     "text": [
      " * sqlite:///capitanes.db\n",
      "Done.\n"
     ]
    },
    {
     "data": {
      "text/html": [
       "<table>\n",
       "    <thead>\n",
       "        <tr>\n",
       "            <th>cnombre</th>\n",
       "        </tr>\n",
       "    </thead>\n",
       "    <tbody>\n",
       "        <tr>\n",
       "            <td>King Arturo</td>\n",
       "        </tr>\n",
       "    </tbody>\n",
       "</table>"
      ],
      "text/plain": [
       "[('King Arturo',)]"
      ]
     },
     "execution_count": 928,
     "metadata": {},
     "output_type": "execute_result"
    }
   ],
   "source": [
    "%%sql\n",
    "SELECT Capitanes.cnombre\n",
    "FROM Capitanes\n",
    "JOIN Reservas ON Capitanes.cid = Reservas.cid\n",
    "GROUP BY Capitanes.cid, Capitanes.cnombre\n",
    "HAVING COUNT(DISTINCT Reservas.bid) = (SELECT COUNT(*) FROM Botes);"
   ]
  },
  {
   "cell_type": "markdown",
   "metadata": {},
   "source": [
    "### Agregación\n",
    "\n",
    "¿Qué pasa si queremos el capitán con el mejor rating? Primero, podemos obtener el mejor rating con la siguiente consulta:"
   ]
  },
  {
   "cell_type": "code",
   "execution_count": 895,
   "metadata": {
    "collapsed": true
   },
   "outputs": [
    {
     "name": "stdout",
     "output_type": "stream",
     "text": [
      " * sqlite:///capitanes.db\n",
      "Done.\n"
     ]
    },
    {
     "data": {
      "text/html": [
       "<table>\n",
       "    <thead>\n",
       "        <tr>\n",
       "            <th>MAX(crating)</th>\n",
       "        </tr>\n",
       "    </thead>\n",
       "    <tbody>\n",
       "        <tr>\n",
       "            <td>10.0</td>\n",
       "        </tr>\n",
       "    </tbody>\n",
       "</table>"
      ],
      "text/plain": [
       "[(10.0,)]"
      ]
     },
     "execution_count": 895,
     "metadata": {},
     "output_type": "execute_result"
    }
   ],
   "source": [
    "%%sql\n",
    "SELECT MAX(crating)\n",
    "FROM Capitanes"
   ]
  },
  {
   "cell_type": "markdown",
   "metadata": {},
   "source": [
    "Luego seleccionamos los nombres de aquellos capitanes con ese rating:"
   ]
  },
  {
   "cell_type": "code",
   "execution_count": 896,
   "metadata": {
    "collapsed": true
   },
   "outputs": [
    {
     "name": "stdout",
     "output_type": "stream",
     "text": [
      " * sqlite:///capitanes.db\n",
      "Done.\n"
     ]
    },
    {
     "data": {
      "text/html": [
       "<table>\n",
       "    <thead>\n",
       "        <tr>\n",
       "            <th>cnombre</th>\n",
       "        </tr>\n",
       "    </thead>\n",
       "    <tbody>\n",
       "        <tr>\n",
       "            <td>Oscar</td>\n",
       "        </tr>\n",
       "        <tr>\n",
       "            <td>Pedro</td>\n",
       "        </tr>\n",
       "    </tbody>\n",
       "</table>"
      ],
      "text/plain": [
       "[('Oscar',), ('Pedro',)]"
      ]
     },
     "execution_count": 896,
     "metadata": {},
     "output_type": "execute_result"
    }
   ],
   "source": [
    "%%sql\n",
    "SELECT cnombre\n",
    "FROM Capitanes\n",
    "WHERE crating = (SELECT MAX(crating)\n",
    "                FROM Capitanes)"
   ]
  },
  {
   "cell_type": "markdown",
   "metadata": {},
   "source": [
    "En general SQL soporta varias funciones de agregación: `MAX`, `MIN` (mínimo), `AVG` (promedio), `SUM` (suma). Intenta hacer las siguientes consultas:\n",
    "\n",
    "**17.** Encuentra el rating promedio de los capitanes mayores a 45 años."
   ]
  },
  {
   "cell_type": "code",
   "execution_count": 931,
   "metadata": {
    "collapsed": true
   },
   "outputs": [
    {
     "name": "stdout",
     "output_type": "stream",
     "text": [
      " * sqlite:///capitanes.db\n",
      "Done.\n"
     ]
    },
    {
     "data": {
      "text/html": [
       "<table>\n",
       "    <thead>\n",
       "        <tr>\n",
       "            <th>AVG(crating)</th>\n",
       "        </tr>\n",
       "    </thead>\n",
       "    <tbody>\n",
       "        <tr>\n",
       "            <td>6.75</td>\n",
       "        </tr>\n",
       "    </tbody>\n",
       "</table>"
      ],
      "text/plain": [
       "[(6.75,)]"
      ]
     },
     "execution_count": 931,
     "metadata": {},
     "output_type": "execute_result"
    }
   ],
   "source": [
    "%%sql\n",
    "SELECT AVG(crating)\n",
    "FROM Capitanes\n",
    "WHERE cedad > 45;"
   ]
  },
  {
   "cell_type": "markdown",
   "metadata": {},
   "source": [
    "**18.** Encuentra los capitanes cuya edad es menor que el promedio."
   ]
  },
  {
   "cell_type": "code",
   "execution_count": 930,
   "metadata": {
    "collapsed": true
   },
   "outputs": [
    {
     "name": "stdout",
     "output_type": "stream",
     "text": [
      " * sqlite:///capitanes.db\n",
      "Done.\n"
     ]
    },
    {
     "data": {
      "text/html": [
       "<table>\n",
       "    <thead>\n",
       "        <tr>\n",
       "            <th>cnombre</th>\n",
       "        </tr>\n",
       "    </thead>\n",
       "    <tbody>\n",
       "        <tr>\n",
       "            <td>King Arturo</td>\n",
       "        </tr>\n",
       "        <tr>\n",
       "            <td>Juan</td>\n",
       "        </tr>\n",
       "        <tr>\n",
       "            <td>Felipe</td>\n",
       "        </tr>\n",
       "        <tr>\n",
       "            <td>Oscar</td>\n",
       "        </tr>\n",
       "        <tr>\n",
       "            <td>Isidora</td>\n",
       "        </tr>\n",
       "        <tr>\n",
       "            <td>Pedro</td>\n",
       "        </tr>\n",
       "        <tr>\n",
       "            <td>Isidora</td>\n",
       "        </tr>\n",
       "        <tr>\n",
       "            <td>Rosa</td>\n",
       "        </tr>\n",
       "    </tbody>\n",
       "</table>"
      ],
      "text/plain": [
       "[('King Arturo',),\n",
       " ('Juan',),\n",
       " ('Felipe',),\n",
       " ('Oscar',),\n",
       " ('Isidora',),\n",
       " ('Pedro',),\n",
       " ('Isidora',),\n",
       " ('Rosa',)]"
      ]
     },
     "execution_count": 930,
     "metadata": {},
     "output_type": "execute_result"
    }
   ],
   "source": [
    "%%sql\n",
    "SELECT cnombre\n",
    "FROM Capitanes\n",
    "WHERE cedad < (SELECT AVG(cedad) FROM Capitanes)"
   ]
  },
  {
   "cell_type": "markdown",
   "metadata": {},
   "source": [
    "**19.** Encuentra los botes que no han sido reservados por el capitán con peor rating."
   ]
  },
  {
   "cell_type": "code",
   "execution_count": 932,
   "metadata": {
    "collapsed": true
   },
   "outputs": [
    {
     "name": "stdout",
     "output_type": "stream",
     "text": [
      " * sqlite:///capitanes.db\n",
      "Done.\n"
     ]
    },
    {
     "data": {
      "text/html": [
       "<table>\n",
       "    <thead>\n",
       "        <tr>\n",
       "            <th>bid</th>\n",
       "            <th>bnombre</th>\n",
       "            <th>bcolor</th>\n",
       "        </tr>\n",
       "    </thead>\n",
       "    <tbody>\n",
       "        <tr>\n",
       "            <td>101</td>\n",
       "            <td>Catamaran</td>\n",
       "            <td>Azul</td>\n",
       "        </tr>\n",
       "        <tr>\n",
       "            <td>102</td>\n",
       "            <td>Catamaran</td>\n",
       "            <td>Rojo</td>\n",
       "        </tr>\n",
       "        <tr>\n",
       "            <td>103</td>\n",
       "            <td>Endurance</td>\n",
       "            <td>Verde</td>\n",
       "        </tr>\n",
       "        <tr>\n",
       "            <td>104</td>\n",
       "            <td>Yate</td>\n",
       "            <td>Rojo</td>\n",
       "        </tr>\n",
       "    </tbody>\n",
       "</table>"
      ],
      "text/plain": [
       "[(101, 'Catamaran', 'Azul'),\n",
       " (102, 'Catamaran', 'Rojo'),\n",
       " (103, 'Endurance', 'Verde'),\n",
       " (104, 'Yate', 'Rojo')]"
      ]
     },
     "execution_count": 932,
     "metadata": {},
     "output_type": "execute_result"
    }
   ],
   "source": [
    "%%sql\n",
    "SELECT *\n",
    "FROM Botes\n",
    "WHERE bid NOT IN (\n",
    "SELECT DISTINCT r.bid\n",
    "FROM Reservas r\n",
    "JOIN Capitanes c ON r.cid = c.cid\n",
    "WHERE c.crating = (SELECT MIN(crating) FROM Capitanes));"
   ]
  },
  {
   "cell_type": "markdown",
   "metadata": {},
   "source": [
    "También podemos usar `COUNT` para contar tuplas. Hay dos versiones (pruébalas!):\n",
    "\n",
    "- `SELECT COUNT(*) FROM Tabla` cuenta cuantas tuplas tiene la tabla.\n",
    "- SELECT `COUNT(DISTINCT cnombre) FROM Capitanes` cuenta cuantos nombres distintos hay en Capitanes.\n",
    "\n",
    "En general `SELECT COUNT(*) FROM Tabla` y S`ELECT COUNT(atributo) FROM Tabla` es lo mismo, pero hay casos en los que es distinto: cuando las tablas tienen valores nulos o indefinidos. Hablaremos sobre esto más adelante en el curso.\n",
    "\n",
    "Ahora realiza las siguientes consultas."
   ]
  },
  {
   "cell_type": "markdown",
   "metadata": {},
   "source": [
    "**20.** Encuentra cuantos capitanes menores de 40 años hay."
   ]
  },
  {
   "cell_type": "code",
   "execution_count": 933,
   "metadata": {
    "collapsed": true
   },
   "outputs": [
    {
     "name": "stdout",
     "output_type": "stream",
     "text": [
      " * sqlite:///capitanes.db\n",
      "Done.\n"
     ]
    },
    {
     "data": {
      "text/html": [
       "<table>\n",
       "    <thead>\n",
       "        <tr>\n",
       "            <th>Cap_menosres_de_40</th>\n",
       "        </tr>\n",
       "    </thead>\n",
       "    <tbody>\n",
       "        <tr>\n",
       "            <td>8</td>\n",
       "        </tr>\n",
       "    </tbody>\n",
       "</table>"
      ],
      "text/plain": [
       "[(8,)]"
      ]
     },
     "execution_count": 933,
     "metadata": {},
     "output_type": "execute_result"
    }
   ],
   "source": [
    "%%sql\n",
    "SELECT COUNT(*) AS Cap_menosres_de_40\n",
    "FROM Capitanes\n",
    "WHERE cedad < 40;"
   ]
  },
  {
   "cell_type": "markdown",
   "metadata": {},
   "source": [
    "**21.** Cuenta la cantidad de reservas hechas a botes de color rojo."
   ]
  },
  {
   "cell_type": "code",
   "execution_count": 934,
   "metadata": {
    "collapsed": true
   },
   "outputs": [
    {
     "name": "stdout",
     "output_type": "stream",
     "text": [
      " * sqlite:///capitanes.db\n",
      "Done.\n"
     ]
    },
    {
     "data": {
      "text/html": [
       "<table>\n",
       "    <thead>\n",
       "        <tr>\n",
       "            <th>Reservas_botes_rojos</th>\n",
       "        </tr>\n",
       "    </thead>\n",
       "    <tbody>\n",
       "        <tr>\n",
       "            <td>5</td>\n",
       "        </tr>\n",
       "    </tbody>\n",
       "</table>"
      ],
      "text/plain": [
       "[(5,)]"
      ]
     },
     "execution_count": 934,
     "metadata": {},
     "output_type": "execute_result"
    }
   ],
   "source": [
    "%%sql\n",
    "SELECT COUNT(*) AS Reservas_botes_rojos\n",
    "FROM Reservas\n",
    "JOIN Botes ON Reservas.bid = Botes.bid\n",
    "WHERE Botes.bcolor = 'Rojo';"
   ]
  },
  {
   "cell_type": "markdown",
   "metadata": {},
   "source": [
    "**22.** Cuenta cuantos capitanes tienen rating mayor al promedio y luego cuantos capitanes tienen rating menor al promedio."
   ]
  },
  {
   "cell_type": "code",
   "execution_count": 935,
   "metadata": {
    "collapsed": true
   },
   "outputs": [
    {
     "name": "stdout",
     "output_type": "stream",
     "text": [
      " * sqlite:///capitanes.db\n",
      "Done.\n"
     ]
    },
    {
     "data": {
      "text/html": [
       "<table>\n",
       "    <thead>\n",
       "        <tr>\n",
       "            <th>Cap_mayor_promedio</th>\n",
       "        </tr>\n",
       "    </thead>\n",
       "    <tbody>\n",
       "        <tr>\n",
       "            <td>7</td>\n",
       "        </tr>\n",
       "    </tbody>\n",
       "</table>"
      ],
      "text/plain": [
       "[(7,)]"
      ]
     },
     "execution_count": 935,
     "metadata": {},
     "output_type": "execute_result"
    }
   ],
   "source": [
    "%%sql\n",
    "SELECT COUNT(*) AS Cap_mayor_promedio\n",
    "FROM Capitanes\n",
    "WHERE crating > (SELECT AVG(crating) FROM Capitanes);"
   ]
  },
  {
   "cell_type": "markdown",
   "metadata": {},
   "source": [
    "Finalmente podemos usar `GROUP BY` para ir agrupando los resultados. Prueba con la consulta:"
   ]
  },
  {
   "cell_type": "code",
   "execution_count": 903,
   "metadata": {
    "collapsed": true
   },
   "outputs": [
    {
     "name": "stdout",
     "output_type": "stream",
     "text": [
      " * sqlite:///capitanes.db\n",
      "Done.\n"
     ]
    },
    {
     "data": {
      "text/html": [
       "<table>\n",
       "    <thead>\n",
       "        <tr>\n",
       "            <th>cnombre</th>\n",
       "            <th>SUM(cedad)</th>\n",
       "        </tr>\n",
       "    </thead>\n",
       "    <tbody>\n",
       "        <tr>\n",
       "            <td>Andy</td>\n",
       "            <td>55</td>\n",
       "        </tr>\n",
       "        <tr>\n",
       "            <td>Felipe</td>\n",
       "            <td>25</td>\n",
       "        </tr>\n",
       "        <tr>\n",
       "            <td>Isidora</td>\n",
       "            <td>70</td>\n",
       "        </tr>\n",
       "        <tr>\n",
       "            <td>Juan</td>\n",
       "            <td>33</td>\n",
       "        </tr>\n",
       "        <tr>\n",
       "            <td>King Arturo</td>\n",
       "            <td>31</td>\n",
       "        </tr>\n",
       "        <tr>\n",
       "            <td>Oscar</td>\n",
       "            <td>35</td>\n",
       "        </tr>\n",
       "        <tr>\n",
       "            <td>Pedro</td>\n",
       "            <td>16</td>\n",
       "        </tr>\n",
       "        <tr>\n",
       "            <td>Romano</td>\n",
       "            <td>63</td>\n",
       "        </tr>\n",
       "        <tr>\n",
       "            <td>Rosa</td>\n",
       "            <td>25</td>\n",
       "        </tr>\n",
       "    </tbody>\n",
       "</table>"
      ],
      "text/plain": [
       "[('Andy', 55),\n",
       " ('Felipe', 25),\n",
       " ('Isidora', 70),\n",
       " ('Juan', 33),\n",
       " ('King Arturo', 31),\n",
       " ('Oscar', 35),\n",
       " ('Pedro', 16),\n",
       " ('Romano', 63),\n",
       " ('Rosa', 25)]"
      ]
     },
     "execution_count": 903,
     "metadata": {},
     "output_type": "execute_result"
    }
   ],
   "source": [
    "%%sql\n",
    "SELECT cnombre, SUM(cedad)\n",
    "FROM Capitanes\n",
    "GROUP BY cnombre"
   ]
  },
  {
   "cell_type": "markdown",
   "metadata": {},
   "source": [
    "¿Qué pasó con Isidora? Lo que hacemos es agrupar a las dos tuplas con nombre Isidora en una, y sumamos la edad. Prueba ahora:"
   ]
  },
  {
   "cell_type": "code",
   "execution_count": 904,
   "metadata": {
    "collapsed": true
   },
   "outputs": [
    {
     "name": "stdout",
     "output_type": "stream",
     "text": [
      " * sqlite:///capitanes.db\n",
      "Done.\n"
     ]
    },
    {
     "data": {
      "text/html": [
       "<table>\n",
       "    <thead>\n",
       "        <tr>\n",
       "            <th>bcolor</th>\n",
       "            <th>count(bcolor)</th>\n",
       "        </tr>\n",
       "    </thead>\n",
       "    <tbody>\n",
       "        <tr>\n",
       "            <td>Azul</td>\n",
       "            <td>1</td>\n",
       "        </tr>\n",
       "        <tr>\n",
       "            <td>Rojo</td>\n",
       "            <td>2</td>\n",
       "        </tr>\n",
       "        <tr>\n",
       "            <td>Verde</td>\n",
       "            <td>1</td>\n",
       "        </tr>\n",
       "    </tbody>\n",
       "</table>"
      ],
      "text/plain": [
       "[('Azul', 1), ('Rojo', 2), ('Verde', 1)]"
      ]
     },
     "execution_count": 904,
     "metadata": {},
     "output_type": "execute_result"
    }
   ],
   "source": [
    "%%sql\n",
    "SELECT bcolor, count(bcolor)\n",
    "FROM Botes\n",
    "GROUP BY bcolor"
   ]
  },
  {
   "cell_type": "markdown",
   "metadata": {},
   "source": [
    "Ahora realiza las siguientes consultas:\n",
    "\n",
    "**23.** Encuentra para los capitanes el promedio del ranking por cada edad distinta."
   ]
  },
  {
   "cell_type": "code",
   "execution_count": 936,
   "metadata": {
    "collapsed": true
   },
   "outputs": [
    {
     "name": "stdout",
     "output_type": "stream",
     "text": [
      " * sqlite:///capitanes.db\n",
      "Done.\n"
     ]
    },
    {
     "data": {
      "text/html": [
       "<table>\n",
       "    <thead>\n",
       "        <tr>\n",
       "            <th>Edad_capitan</th>\n",
       "            <th>Prom_del_ranking</th>\n",
       "        </tr>\n",
       "    </thead>\n",
       "    <tbody>\n",
       "        <tr>\n",
       "            <td>16</td>\n",
       "            <td>10.0</td>\n",
       "        </tr>\n",
       "        <tr>\n",
       "            <td>25</td>\n",
       "            <td>5.7</td>\n",
       "        </tr>\n",
       "        <tr>\n",
       "            <td>31</td>\n",
       "            <td>8.0</td>\n",
       "        </tr>\n",
       "        <tr>\n",
       "            <td>33</td>\n",
       "            <td>1.0</td>\n",
       "        </tr>\n",
       "        <tr>\n",
       "            <td>35</td>\n",
       "            <td>8.833333333333334</td>\n",
       "        </tr>\n",
       "        <tr>\n",
       "            <td>55</td>\n",
       "            <td>8.0</td>\n",
       "        </tr>\n",
       "        <tr>\n",
       "            <td>63</td>\n",
       "            <td>5.5</td>\n",
       "        </tr>\n",
       "    </tbody>\n",
       "</table>"
      ],
      "text/plain": [
       "[(16, 10.0),\n",
       " (25, 5.7),\n",
       " (31, 8.0),\n",
       " (33, 1.0),\n",
       " (35, 8.833333333333334),\n",
       " (55, 8.0),\n",
       " (63, 5.5)]"
      ]
     },
     "execution_count": 936,
     "metadata": {},
     "output_type": "execute_result"
    }
   ],
   "source": [
    "%%sql\n",
    "SELECT cedad AS Edad_capitan, AVG(crating) AS Prom_del_ranking\n",
    "FROM Capitanes\n",
    "GROUP BY cedad;"
   ]
  },
  {
   "cell_type": "markdown",
   "metadata": {},
   "source": [
    "**24.** Encuentra el número de reservas por cada color de bote."
   ]
  },
  {
   "cell_type": "code",
   "execution_count": 937,
   "metadata": {
    "collapsed": true
   },
   "outputs": [
    {
     "name": "stdout",
     "output_type": "stream",
     "text": [
      " * sqlite:///capitanes.db\n",
      "Done.\n"
     ]
    },
    {
     "data": {
      "text/html": [
       "<table>\n",
       "    <thead>\n",
       "        <tr>\n",
       "            <th>Color_Bote</th>\n",
       "            <th>Numero_Reservas</th>\n",
       "        </tr>\n",
       "    </thead>\n",
       "    <tbody>\n",
       "        <tr>\n",
       "            <td>Azul</td>\n",
       "            <td>2</td>\n",
       "        </tr>\n",
       "        <tr>\n",
       "            <td>Rojo</td>\n",
       "            <td>5</td>\n",
       "        </tr>\n",
       "        <tr>\n",
       "            <td>Verde</td>\n",
       "            <td>3</td>\n",
       "        </tr>\n",
       "    </tbody>\n",
       "</table>"
      ],
      "text/plain": [
       "[('Azul', 2), ('Rojo', 5), ('Verde', 3)]"
      ]
     },
     "execution_count": 937,
     "metadata": {},
     "output_type": "execute_result"
    }
   ],
   "source": [
    "%%sql\n",
    "SELECT bcolor AS Color_Bote, COUNT(*) AS Numero_Reservas\n",
    "FROM Reservas\n",
    "JOIN Botes ON Reservas.bid = Botes.bid\n",
    "GROUP BY bcolor;"
   ]
  },
  {
   "cell_type": "markdown",
   "metadata": {},
   "source": [
    "**25.** Encuentra el numero de reservas por capitán y por color de bote."
   ]
  },
  {
   "cell_type": "code",
   "execution_count": 940,
   "metadata": {
    "collapsed": true
   },
   "outputs": [
    {
     "name": "stdout",
     "output_type": "stream",
     "text": [
      " * sqlite:///capitanes.db\n",
      "Done.\n"
     ]
    },
    {
     "data": {
      "text/html": [
       "<table>\n",
       "    <thead>\n",
       "        <tr>\n",
       "            <th>Nombre</th>\n",
       "            <th>Color_Bote</th>\n",
       "            <th>Numero_Reservas</th>\n",
       "        </tr>\n",
       "    </thead>\n",
       "    <tbody>\n",
       "        <tr>\n",
       "            <td>Andy</td>\n",
       "            <td>Rojo</td>\n",
       "            <td>2</td>\n",
       "        </tr>\n",
       "        <tr>\n",
       "            <td>Andy</td>\n",
       "            <td>Verde</td>\n",
       "            <td>1</td>\n",
       "        </tr>\n",
       "        <tr>\n",
       "            <td>Isidora</td>\n",
       "            <td>Azul</td>\n",
       "            <td>1</td>\n",
       "        </tr>\n",
       "        <tr>\n",
       "            <td>Isidora</td>\n",
       "            <td>Rojo</td>\n",
       "            <td>1</td>\n",
       "        </tr>\n",
       "        <tr>\n",
       "            <td>Isidora</td>\n",
       "            <td>Verde</td>\n",
       "            <td>1</td>\n",
       "        </tr>\n",
       "        <tr>\n",
       "            <td>King Arturo</td>\n",
       "            <td>Azul</td>\n",
       "            <td>1</td>\n",
       "        </tr>\n",
       "        <tr>\n",
       "            <td>King Arturo</td>\n",
       "            <td>Rojo</td>\n",
       "            <td>2</td>\n",
       "        </tr>\n",
       "        <tr>\n",
       "            <td>King Arturo</td>\n",
       "            <td>Verde</td>\n",
       "            <td>1</td>\n",
       "        </tr>\n",
       "    </tbody>\n",
       "</table>"
      ],
      "text/plain": [
       "[('Andy', 'Rojo', 2),\n",
       " ('Andy', 'Verde', 1),\n",
       " ('Isidora', 'Azul', 1),\n",
       " ('Isidora', 'Rojo', 1),\n",
       " ('Isidora', 'Verde', 1),\n",
       " ('King Arturo', 'Azul', 1),\n",
       " ('King Arturo', 'Rojo', 2),\n",
       " ('King Arturo', 'Verde', 1)]"
      ]
     },
     "execution_count": 940,
     "metadata": {},
     "output_type": "execute_result"
    }
   ],
   "source": [
    "%%sql\n",
    "SELECT cnombre AS Nombre, bcolor as Color_Bote, COUNT(*) AS Numero_Reservas\n",
    "FROM Capitanes\n",
    "JOIN Reservas ON Capitanes.cid = Reservas.cid\n",
    "JOIN Botes ON Reservas.bid = Botes.bid\n",
    "GROUP BY cnombre, bcolor;"
   ]
  },
  {
   "cell_type": "markdown",
   "metadata": {},
   "source": [
    "### Inserción y eliminación más compleja\n",
    "\n",
    "Lo último que veremos es una forma de insertar y eliminar tuplas de forma más compleja. Por ejemplo podemos insertar valores de una consulta.\n",
    "\n",
    "**26.** Crea una tabla `CapitanesTop(cid INT, cnombre VARCHAR(100))`"
   ]
  },
  {
   "cell_type": "code",
   "execution_count": 943,
   "metadata": {
    "collapsed": true
   },
   "outputs": [
    {
     "name": "stdout",
     "output_type": "stream",
     "text": [
      " * sqlite:///capitanes.db\n",
      "Done.\n"
     ]
    },
    {
     "data": {
      "text/plain": [
       "[]"
      ]
     },
     "execution_count": 943,
     "metadata": {},
     "output_type": "execute_result"
    }
   ],
   "source": [
    "%%sql\n",
    "CREATE TABLE CapitanesTop(\n",
    "    cid INT,\n",
    "    cnombre VARCHAR(100)\n",
    ");"
   ]
  },
  {
   "cell_type": "markdown",
   "metadata": {},
   "source": [
    "Ahora ejecuta la siguiente inserción. Nota que para insertar desde una consulta no debemos escribir la instrucción `VALUES`."
   ]
  },
  {
   "cell_type": "code",
   "execution_count": 944,
   "metadata": {
    "collapsed": true
   },
   "outputs": [
    {
     "name": "stdout",
     "output_type": "stream",
     "text": [
      " * sqlite:///capitanes.db\n",
      "4 rows affected.\n"
     ]
    },
    {
     "data": {
      "text/plain": [
       "[]"
      ]
     },
     "execution_count": 944,
     "metadata": {},
     "output_type": "execute_result"
    }
   ],
   "source": [
    "%%sql\n",
    "INSERT INTO CapitanesTop\n",
    "SELECT cid,cnombre\n",
    "FROM Capitanes\n",
    "WHERE crating > 8"
   ]
  },
  {
   "cell_type": "code",
   "execution_count": 948,
   "metadata": {},
   "outputs": [
    {
     "name": "stdout",
     "output_type": "stream",
     "text": [
      " * sqlite:///capitanes.db\n",
      "Done.\n"
     ]
    },
    {
     "data": {
      "text/html": [
       "<table>\n",
       "    <thead>\n",
       "        <tr>\n",
       "            <th>cid</th>\n",
       "            <th>cnombre</th>\n",
       "        </tr>\n",
       "    </thead>\n",
       "    <tbody>\n",
       "        <tr>\n",
       "            <td>58</td>\n",
       "            <td>Oscar</td>\n",
       "        </tr>\n",
       "        <tr>\n",
       "            <td>71</td>\n",
       "            <td>Pedro</td>\n",
       "        </tr>\n",
       "        <tr>\n",
       "            <td>74</td>\n",
       "            <td>Isidora</td>\n",
       "        </tr>\n",
       "    </tbody>\n",
       "</table>"
      ],
      "text/plain": [
       "[(58, 'Oscar'), (71, 'Pedro'), (74, 'Isidora')]"
      ]
     },
     "execution_count": 948,
     "metadata": {},
     "output_type": "execute_result"
    }
   ],
   "source": [
    "%sql SELECT * FROM CapitanesTop"
   ]
  },
  {
   "cell_type": "markdown",
   "metadata": {},
   "source": [
    "Finalmente, si quieres dejar capitanes que tienen un rating igual o superior a 9 puedes escribir la siguiente consulta:"
   ]
  },
  {
   "cell_type": "code",
   "execution_count": 945,
   "metadata": {
    "collapsed": true
   },
   "outputs": [
    {
     "name": "stdout",
     "output_type": "stream",
     "text": [
      " * sqlite:///capitanes.db\n",
      "1 rows affected.\n"
     ]
    },
    {
     "data": {
      "text/plain": [
       "[]"
      ]
     },
     "execution_count": 945,
     "metadata": {},
     "output_type": "execute_result"
    }
   ],
   "source": [
    "%%sql\n",
    "DELETE FROM CapitanesTop\n",
    "WHERE cid IN\n",
    "  (SELECT cid\n",
    "  FROM Capitanes\n",
    "  WHERE crating < 9)"
   ]
  },
  {
   "cell_type": "code",
   "execution_count": 947,
   "metadata": {},
   "outputs": [
    {
     "name": "stdout",
     "output_type": "stream",
     "text": [
      " * sqlite:///capitanes.db\n",
      "Done.\n"
     ]
    },
    {
     "data": {
      "text/html": [
       "<table>\n",
       "    <thead>\n",
       "        <tr>\n",
       "            <th>cid</th>\n",
       "            <th>cnombre</th>\n",
       "        </tr>\n",
       "    </thead>\n",
       "    <tbody>\n",
       "        <tr>\n",
       "            <td>58</td>\n",
       "            <td>Oscar</td>\n",
       "        </tr>\n",
       "        <tr>\n",
       "            <td>71</td>\n",
       "            <td>Pedro</td>\n",
       "        </tr>\n",
       "        <tr>\n",
       "            <td>74</td>\n",
       "            <td>Isidora</td>\n",
       "        </tr>\n",
       "    </tbody>\n",
       "</table>"
      ],
      "text/plain": [
       "[(58, 'Oscar'), (71, 'Pedro'), (74, 'Isidora')]"
      ]
     },
     "execution_count": 947,
     "metadata": {},
     "output_type": "execute_result"
    }
   ],
   "source": [
    "%sql SELECT * FROM CapitanesTop"
   ]
  },
  {
   "cell_type": "code",
   "execution_count": null,
   "metadata": {},
   "outputs": [],
   "source": []
  }
 ],
 "metadata": {
  "kernelspec": {
   "display_name": "Python 3",
   "language": "python",
   "name": "python3"
  },
  "language_info": {
   "codemirror_mode": {
    "name": "ipython",
    "version": 3
   },
   "file_extension": ".py",
   "mimetype": "text/x-python",
   "name": "python",
   "nbconvert_exporter": "python",
   "pygments_lexer": "ipython3",
   "version": "3.11.7"
  }
 },
 "nbformat": 4,
 "nbformat_minor": 2
}
