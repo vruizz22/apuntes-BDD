{
 "cells": [
  {
   "cell_type": "markdown",
   "metadata": {},
   "source": [
    "# Diseño de Bases de Datos\n",
    "\n"
   ]
  },
  {
   "cell_type": "markdown",
   "metadata": {},
   "source": [
    "\n",
    "## Como se construye\n",
    "\n",
    "En el Diseño de BDDs se tienen en cuenta tres bloques, **Analisis de requisitos**, **Diseño conceptual de bdds** y **Diseño lógico de bdds**.\n",
    "\n",
    "Donde en el **Analisis de requisitos** los usuarios se relacionan a los requisitos, en el **Diseño conceptual de bdds** se relacionan los requisitos a las entidades (Modelo de entidad relación) y en el **Diseño lógico de bdds** se relacionan las entidades a las tablas. (Modelo relacional)"
   ]
  },
  {
   "cell_type": "markdown",
   "metadata": {},
   "source": [
    "## Definiciones\n",
    "\n",
    "Entidad: Es un **conjunto de objetos similares**\n",
    "\n",
    "Atributo: Es una **característica de una entidad** (lo que nos permite determinar que los objetos son similaries) Petenecen a **dominios** los cuales indian los posibles valores que pueden tomar.\n",
    "\n",
    "Relacióm:Es una **asocación entre dos o más entidades**.\n",
    "\n"
   ]
  },
  {
   "cell_type": "markdown",
   "metadata": {},
   "source": [
    "## Diseño conceptual de la BD\n",
    "\n",
    "• Definir entidades.\n",
    "• Entender cómo se asocian esas entidades.\n",
    "• Visualizar las restricciones del dominio.\n",
    "• Lograr un diseño apropiado al problema.\n",
    "• Mantener un esquema bien documentado.\n"
   ]
  },
  {
   "cell_type": "markdown",
   "metadata": {},
   "source": [
    "## DIagrmas E/R\n",
    "\n",
    "Los diagramas E/R son una herramienta gráfica que nos permite representar las entidades, atributos y relaciones de una base de datos."
   ]
  },
  {
   "cell_type": "markdown",
   "metadata": {},
   "source": [
    "## Recordatorio tipos de llaves\n",
    "\n",
    "Tenemos:\n",
    "\n",
    "* Llave primaria\n",
    "* Llave candidata\n",
    "* Superllaves\n",
    "* Llave foránea (surrogate key)\n",
    "\n",
    "Donnde la llave primaria es una candidata a destacar\n",
    "La candidata es una que define a todos los demas\n",
    "LAs supperllaves son una mezla de llave primaria y candidatas que especifica muy bien a los objetos y la surrogate key (Tiende a ser pimaria: id) simplifica la busqueda de los objetos, llave \"artificial\"."
   ]
  },
  {
   "cell_type": "markdown",
   "metadata": {},
   "source": [
    "## Diagramas E/R ejemplos\n",
    "\n",
    "Tenemos el caso de Compañia fabrica Producto, dobnde las llaves primarias de ambas identidades juntas formas una llave copmpuesta (superkey) de la entidad de la relación -> Entidad Fabrica\n",
    "\n",
    "## Esquema Relacional \n",
    "\n",
    "Es la representación de las entidades y relaciones en instancias de tablas.\n",
    "\n",
    "Ejemplo de el diagrama anterior:\n",
    "\n",
    "**Subrayando las llaves primarias**\n",
    "\n",
    "Compañía(**nombre**: string, valor-acción: int)\n",
    "\n",
    "Producto(**nombre**: string, precio: int, categoría: string)\n",
    "\n",
    "Fabrica(**Compañia.nombre**: string, **Producto.nombre**: string)\n",
    "\n",
    "**Nota** Estas relaciones (tablas) creadas a partir de relaciones entre dos entidades solo se realizan cuando dos atributos de las entidades estan relacionados ok cuando la relación es n a n.\n",
    "\n",
    "Las relaciones entre entidasdes (tablas de las relaciobnes) tambien pueden tener sus propios atributos\n"
   ]
  },
  {
   "cell_type": "markdown",
   "metadata": {},
   "source": [
    "## Jerarquia de Clases\n",
    "\n",
    "Es una forma de representar la herencia en las bases de datos, donde una entidad puede heredar atributos de otra entidad.\n",
    "\n",
    "Las subclases no pueden tener llaves primarias. "
   ]
  },
  {
   "cell_type": "markdown",
   "metadata": {},
   "source": [
    "## Solapamiento\n",
    "\n",
    "Es una restciion que indica si dos subentidades pueden tener un mismo objeto.\n",
    "\n",
    "## Cobertura\n",
    "\n",
    "es la restrcicon de que todas las sub-entidades esten en la superentidad. \n",
    "En ese caso se considera cubierto."
   ]
  },
  {
   "cell_type": "markdown",
   "metadata": {},
   "source": [
    "## Entidades debiles\n",
    "\n",
    "Son entidades que no tienen llave primaria, por lo que dependen de otra entidad para existir. **Nota** Se excluyen de este tipo la subclases de una superclase, ya que estas heredan la llave primaria de la superclase.\n",
    "\n",
    "\n",
    "EL atributo de la entidad que depende para existir la entidad debil es llamado: **Owner identifying**\n",
    "\n",
    "La llave de la entidad debile s conocdia como **partial key** (llave parcial)\n",
    "\n",
    "## Cardinalidad (n,1) en las relaciones de las entidades debiles\n",
    "\n",
    "En las relaciones de las entidades debiles, la cardinalidad es (n,1) ya que una entidad debil no puede existir sin una entidad fuerte.\n",
    "\n"
   ]
  },
  {
   "cell_type": "markdown",
   "metadata": {},
   "source": [
    "## Se hace tabla cuando tienes cardinalidad de relacion (n, n) o relacion entre atributos de las entidades"
   ]
  },
  {
   "cell_type": "markdown",
   "metadata": {},
   "source": []
  }
 ],
 "metadata": {
  "language_info": {
   "name": "python"
  }
 },
 "nbformat": 4,
 "nbformat_minor": 2
}
