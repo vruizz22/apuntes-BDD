{
 "cells": [
  {
   "cell_type": "markdown",
   "metadata": {},
   "source": [
    "# Cargadores y limpieza de datos con PHP\n",
    "\n",
    "Utilizamos PHP con PostrgreSQL:\n",
    "https://www.php.net/manual/es/ref.pgsql.php"
   ]
  },
  {
   "cell_type": "markdown",
   "metadata": {},
   "source": [
    "## Como se hace?\n",
    "\n",
    "1. Carga de datos: Leer los datos del xslx y cargalos a la base de datos en código PHP.\n",
    "2. Inserción en tablas: desde el código de PHP deemos realizar INSERTS en las tablas de SQL.\n",
    "3. Correción de datos: A partir de las violacios de IC optar por 3 opciones de correción."
   ]
  },
  {
   "cell_type": "markdown",
   "metadata": {},
   "source": [
    "## COnexión a la base de datos\n",
    "\n",
    "```php\n",
    "<?php\n",
    "// Inicializar la conexión\n",
    "$host = 'localhost';\n",
    "$port = '5432';\n",
    "$dbname = 'database';\n",
    "$user = 'user';\n",
    "$password = 'password';\n",
    "\n",
    "// Conexión a la base de datos\n",
    "$conn = pg_connect(\"host=$host port=$port dbname=$dbname user=$user password=$password\");\n",
    "\n",
    "// Verificar la conexión\n",
    "if (!$conn) {\n",
    "    die(\"Error en la conexión: \" . pg_last_error());\n",
    "}\n",
    "?>\n",
    "```\n",
    "\n",
    "Creamos las tablas y comprobamos que se creen correctamente\n",
    "\n",
    "```php\n",
    "<?php\n",
    "$sql = \"CREATE TABLE IF NOT EXISTS users (\n",
    "    id SERIAL PRIMARY KEY,\n",
    "    username VARCHAR(50) UNIQUE NOT NULL,\n",
    "    email VARCHAR(100) NOT NULL,\n",
    "    created_at TIMESTAMP DEFAULT CURRENT_TIMESTAMP\n",
    ")\";\n",
    "\n",
    "// Ejecutar la query\n",
    "$result = pg_query($conn, $sql);\n",
    "\n",
    "// Verificar si se creó la tabla\n",
    "if ($result) {\n",
    "    echo \"Tabla creada correctamente\\n\";\n",
    "} else {\n",
    "    echo \"Error al crear la tabla: \" . pg_last_error($conn) . '\\n';\n",
    "}\n",
    "?>\n",
    "```\n",
    "\n",
    "Insertamos los valores a la tabla y comprobamos su insercción:\n",
    "\n",
    "```php\n",
    "<?php\n",
    "// Insertar un valor a la tabla users\n",
    "$insert_sql = \"INSERT INTO users (username, email) VALUES ('testuser',\n",
    "'testuser@example.com')\";\n",
    "$insert_result = pg_query($conn, $insert_sql);\n",
    "\n",
    "// Se comprueba si la inserción fue exitosa\n",
    "if ($insert_result) {\n",
    "    echo \"Valor insertado correctamente\\n\";\n",
    "} else {\n",
    "    echo \"Error al insertar el valor: \" . pg_last_error($conn) . '\\n';\n",
    "}\n",
    "\n",
    "// Cerrar la conexión\n",
    "pg_close($conn);\n",
    "?>\n",
    "```"
   ]
  },
  {
   "cell_type": "markdown",
   "metadata": {},
   "source": [
    "## Correción de datos\n",
    "\n",
    "1. Correccion de formato:\n",
    "\n",
    "Ejemplos de dato que no cumplen el formato:\n",
    "* Datos que representan lo mismo pero en difernete forma: Doctor y Doctora. **Solución**: Estandarizar estos datos.\n",
    "* Datos que no representan lo pedido: \"Jornada\" en columna Dedicación que indicaba horas laborales. **Solución**: Cambiar el valor a \"Tiempo completo\" o \"Medio tiempo\".\n",
    "* Datos con errores menores de formato.Son faicles y rapidos de solucionar:Mails contienian un espacio, Ej: \"MOREIRA .ZARATE @llimail.kom\"\n",
    "\n",
    "2. Asignación de nulo:"
   ]
  }
 ],
 "metadata": {
  "kernelspec": {
   "display_name": "Python 3",
   "language": "python",
   "name": "python3"
  },
  "language_info": {
   "name": "python",
   "version": "3.11.9"
  }
 },
 "nbformat": 4,
 "nbformat_minor": 2
}
