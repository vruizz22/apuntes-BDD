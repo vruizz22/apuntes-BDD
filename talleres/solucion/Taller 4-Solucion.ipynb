{
  "cells": [
    {
      "cell_type": "markdown",
      "metadata": {
        "id": "LACsS71hVJnl"
      },
      "source": [
        "# SQL\n",
        "\n",
        "### Introducción\n",
        "\n",
        "Durante esta actividad vamos a aprender los conceptos básicos de SQL. Vamos a aprender a insertar, eliminar y actualizar datos de una base de datos además de hacer consultas sencillas sobre ellos.\n",
        "\n",
        "### Requisitos\n",
        "\n",
        "Para esta actividad, así como en las siguientes actividades de SQL vamos a utilizar\n",
        "\n",
        "- Python 3\n",
        "- Jupyter\n",
        "- La librería `ipython-sql`. Para instalarla pueden hacerlo con `pip3`:\n",
        "```\n",
        "pip3 install ipython-sql\n",
        "```\n",
        "- SQLite3, que viene junto con la instalación de Python\n",
        "\n",
        "### Outline\n",
        "\n",
        "En esta actividad aprendermos a:\n",
        "\n",
        "- Crear y modificar tablas.\n",
        "- Insertar, eliminar y actualizar datos.\n",
        "- Crear llaves en las tablas.\n",
        "- Hacer consultas que involucren selección, proyección, producto cruz y operaciones de conjuntos.\n",
        "- Consultas básicas de agregación.\n",
        "\n",
        "### Esquema\n",
        "\n",
        "Para esta actividad vamos a trabajar con el siguiente esquema:\n",
        "\n",
        "- `Capitanes(cid INT PRIMARY KEY, cnombre VARCHAR(100), crating FLOAT, cedad INT)`\n",
        "- `Botes(bid INT PRIMARY KEY, bnombre VARCHAR(100), bcolor VARCHAR(100))`\n",
        "- `Reservas(cid INT, bid INT, fecha DATE, PRIMARY KEY(cid, bid))`\n",
        "\n",
        "Que corresponde a capitanes que reservan ciertos botes. El `cid` y `bid` en la tabla `Reservas` proviene de las tablas `Capitanes` y `Botes` respectivamente."
      ]
    },
    {
      "cell_type": "markdown",
      "metadata": {
        "id": "ilZztmoRVJnr"
      },
      "source": [
        "## Actividad\n",
        "\n",
        "### Crear tablas, eliminar tablas y llaves primarias\n",
        "\n",
        "En esta actividad vamos a utilizar `ipython-sql` para tener acceso a SQL desde este _notebook_. Lo vamos a importar a continuación."
      ]
    },
    {
      "cell_type": "code",
      "execution_count": 3,
      "metadata": {
        "id": "BX6y7KV1VJnt"
      },
      "outputs": [],
      "source": [
        "%load_ext sql"
      ]
    },
    {
      "cell_type": "markdown",
      "metadata": {
        "id": "qtUeHNs_VJnv"
      },
      "source": [
        "Ahora vamos a crear una nueva base de datos para esta actividad. Esta base de datos se llamará `capitanes.db`."
      ]
    },
    {
      "cell_type": "code",
      "execution_count": 4,
      "metadata": {
        "id": "Vdcmx2fIVJnw"
      },
      "outputs": [],
      "source": [
        "%sql sqlite:///capitanes.db"
      ]
    },
    {
      "cell_type": "markdown",
      "metadata": {
        "id": "5xF7eLI6VJnx"
      },
      "source": [
        "**Ojo**: cada vez que anteponemos `%sql` es porque esa línea corresponde a un comando a SQL que va a la base de datos en la que estamos trabajando (en este caso `capitanes.db`). Si queremos tener todo un bloque con instrucciones SQL tenemos que usar `%%sql` (habrán ejemplos de esto a lo largo del _notebook_)."
      ]
    },
    {
      "cell_type": "markdown",
      "metadata": {
        "id": "Glq-1_r0VJnx"
      },
      "source": [
        "Tu primera prueba será crear una base de datos de acuerdo el esquema de arriba. La sintaxis para crear tablas en SQL es la siguiente (si están trabajando desde el cliente, después de cada sentencia SQL debes poner un punto y coma `;`):\n",
        "\n",
        "```SQL\n",
        "CREATE TABLE <Nombre Tabla> (<atributo_1> tipo, ... , <attributo_N> tipo)\n",
        "```\n",
        "\n",
        "Por ejemplo, para crear la tabla de capitanes:"
      ]
    },
    {
      "cell_type": "code",
      "execution_count": 5,
      "metadata": {
        "colab": {
          "base_uri": "https://localhost:8080/"
        },
        "id": "0yXGkjtdVJny",
        "outputId": "987a10d9-eb01-4d63-882e-556fbbd0293c"
      },
      "outputs": [
        {
          "output_type": "stream",
          "name": "stdout",
          "text": [
            " * sqlite:///capitanes.db\n",
            "Done.\n",
            "Done.\n"
          ]
        },
        {
          "output_type": "execute_result",
          "data": {
            "text/plain": [
              "[]"
            ]
          },
          "metadata": {},
          "execution_count": 5
        }
      ],
      "source": [
        "%%sql\n",
        "DROP TABLE IF EXISTS Capitanes;\n",
        "CREATE TABLE Capitanes(cid INT, cnombre VARCHAR(100), crating FLOAT, cedad INT);"
      ]
    },
    {
      "cell_type": "markdown",
      "metadata": {
        "id": "sAtNNAZfVJn0"
      },
      "source": [
        "En la celda anterior estamos eliminando la tabla si es que existe para luego crear una tabla según lo requerido por el esquema. Pero cuidado! Olvidamos agregar la llave primaria, por lo que vamos a **eliminar** la tabla y crearla de nuevo. Además, vamos a agregar un valor por defecto al atributo `crating`, que en este caso será 0."
      ]
    },
    {
      "cell_type": "code",
      "execution_count": 6,
      "metadata": {
        "colab": {
          "base_uri": "https://localhost:8080/"
        },
        "id": "xznKINXUVJn1",
        "outputId": "93cef9eb-3b6b-41c7-8d24-18a65a1ac077"
      },
      "outputs": [
        {
          "output_type": "stream",
          "name": "stdout",
          "text": [
            " * sqlite:///capitanes.db\n",
            "Done.\n",
            "Done.\n"
          ]
        },
        {
          "output_type": "execute_result",
          "data": {
            "text/plain": [
              "[]"
            ]
          },
          "metadata": {},
          "execution_count": 6
        }
      ],
      "source": [
        "%%sql\n",
        "DROP TABLE Capitanes;\n",
        "CREATE TABLE Capitanes(cid INT PRIMARY KEY, cnombre VARCHAR(100), crating FLOAT DEFAULT 0, cedad INT);"
      ]
    },
    {
      "cell_type": "markdown",
      "metadata": {
        "id": "atJMTCrRVJn2"
      },
      "source": [
        "Otra opción es agregar la llave primaria al final de la instrucción `CREATE TABLE`. Para ver un ejemplo, vamos a crear la tabla de reservas."
      ]
    },
    {
      "cell_type": "code",
      "execution_count": 7,
      "metadata": {
        "colab": {
          "base_uri": "https://localhost:8080/"
        },
        "id": "axkx25aDVJn2",
        "outputId": "e5ea7440-219c-4d93-e077-2e6f87d353ae"
      },
      "outputs": [
        {
          "output_type": "stream",
          "name": "stdout",
          "text": [
            " * sqlite:///capitanes.db\n",
            "Done.\n",
            "Done.\n"
          ]
        },
        {
          "output_type": "execute_result",
          "data": {
            "text/plain": [
              "[]"
            ]
          },
          "metadata": {},
          "execution_count": 7
        }
      ],
      "source": [
        "%%sql\n",
        "DROP TABLE IF EXISTS Reservas;\n",
        "CREATE TABLE Reservas(cid INT, bid INT, fecha DATE, PRIMARY KEY(cid, bid));"
      ]
    },
    {
      "cell_type": "markdown",
      "metadata": {
        "id": "L2qNzyu6VJn4"
      },
      "source": [
        "En el caso anterior, tenemos una llave primaria compuesta. En general, para crear una tabla con llave primaria, lo señalamos al final, de la forma:\n",
        "\n",
        "```SQL\n",
        "CREATE TABLE <Nombre Tabla> (\n",
        "    <atributo_1> tipo, ...,\n",
        "    <attributo_N> tipo,\n",
        "    PRIMARY KEY(<atributos separados por coma (,)>))\n",
        "```"
      ]
    },
    {
      "cell_type": "markdown",
      "metadata": {
        "id": "cUOZWAZhVJn5"
      },
      "source": [
        "**1.** Ahora es tu turno. En la celda a continuación debes crear la tabla de botes. No olvides agregar su llave primaria."
      ]
    },
    {
      "cell_type": "code",
      "execution_count": 8,
      "metadata": {
        "colab": {
          "base_uri": "https://localhost:8080/"
        },
        "id": "gQNbom-zVJn5",
        "outputId": "ab35eeb7-fd13-48cc-cd13-11f515ce23b7"
      },
      "outputs": [
        {
          "output_type": "stream",
          "name": "stdout",
          "text": [
            " * sqlite:///capitanes.db\n",
            "Done.\n"
          ]
        },
        {
          "output_type": "execute_result",
          "data": {
            "text/plain": [
              "[]"
            ]
          },
          "metadata": {},
          "execution_count": 8
        }
      ],
      "source": [
        "%%sql\n",
        "CREATE TABLE Botes (\n",
        "    bid INT PRIMARY KEY,\n",
        "    bnombre VARCHAR(100),\n",
        "    bcolor VARCHAR(100)\n",
        ");"
      ]
    },
    {
      "cell_type": "markdown",
      "metadata": {
        "id": "u65z3HiEVJn6"
      },
      "source": [
        "### Tipos de datos\n",
        "\n",
        "Al crear las tablas disponemos varios tipos de datos. Por ahora destacamos los siguientes:\n",
        "\n",
        "- Caracteres (_Strings_):\n",
        "  - `CHAR(20)`: _Strings_ de largo fijo.\n",
        "  - `VARCHAR(20)`: _Strings_ de largo variable.\n",
        "  \n",
        "- Números:\n",
        "  - `INT`\n",
        "  - `FLOAT`\n",
        "  - `SMALLINT`\n",
        "  \n",
        "- Tiempos y fechas:\n",
        "  - `DATE`: fecha.\n",
        "  - `TIME`: hora.\n",
        "  - `TIMESTAMP`: fecha y hora."
      ]
    },
    {
      "cell_type": "markdown",
      "metadata": {
        "id": "x-fUVAHOVJn7"
      },
      "source": [
        "### Insertar, eliminar y modificar elementos en tablas\n",
        "\n",
        "Si ejecutamos la consulta `SELECT * FROM Capitanes` notaremos que el resultado es vacío. Esto es evidente, ya que esta consulta me retorna todo lo que tengo en la tabla `Capitanes` y actualmente no hemos insertado nada."
      ]
    },
    {
      "cell_type": "code",
      "execution_count": 9,
      "metadata": {
        "colab": {
          "base_uri": "https://localhost:8080/",
          "height": 74
        },
        "id": "vUxtcvNoVJn7",
        "outputId": "a53c30af-d367-49b2-a367-9cb5c8e0b46e"
      },
      "outputs": [
        {
          "output_type": "stream",
          "name": "stdout",
          "text": [
            " * sqlite:///capitanes.db\n",
            "Done.\n"
          ]
        },
        {
          "output_type": "execute_result",
          "data": {
            "text/plain": [
              "[]"
            ],
            "text/html": [
              "<table>\n",
              "    <thead>\n",
              "        <tr>\n",
              "            <th>cid</th>\n",
              "            <th>cnombre</th>\n",
              "            <th>crating</th>\n",
              "            <th>cedad</th>\n",
              "        </tr>\n",
              "    </thead>\n",
              "    <tbody>\n",
              "    </tbody>\n",
              "</table>"
            ]
          },
          "metadata": {},
          "execution_count": 9
        }
      ],
      "source": [
        "%sql SELECT * FROM Capitanes;"
      ]
    },
    {
      "cell_type": "markdown",
      "metadata": {
        "id": "RS15PfKhVJn8"
      },
      "source": [
        "Para insertar valores, la forma básica es la siguiente:\n",
        "\n",
        "```SQL\n",
        "INSERT INTO <Nombre Tabla>\n",
        "VALUES (<valor atributo 1> , ..., <valor atributo N>)\n",
        "```\n",
        "\n",
        "Por ejemplo si ejecutamos la consulta:\n",
        "\n",
        "```SQL\n",
        "INSERT INTO Capitanes\n",
        "VALUES(1, 'Claudio', 0, 35)\n",
        "```\n",
        "\n",
        "estamos insertando un Capitán con `cid` 1, `cnombre` Claudio, `crating` 0 y `cedad` 35."
      ]
    },
    {
      "cell_type": "code",
      "execution_count": 10,
      "metadata": {
        "colab": {
          "base_uri": "https://localhost:8080/"
        },
        "id": "PngBcwQcVJn9",
        "outputId": "643ef4c7-5677-4ed8-a8e4-2b9d08d57040"
      },
      "outputs": [
        {
          "output_type": "stream",
          "name": "stdout",
          "text": [
            " * sqlite:///capitanes.db\n",
            "1 rows affected.\n"
          ]
        },
        {
          "output_type": "execute_result",
          "data": {
            "text/plain": [
              "[]"
            ]
          },
          "metadata": {},
          "execution_count": 10
        }
      ],
      "source": [
        "%sql INSERT INTO Capitanes VALUES(1, 'Claudio', 0, 35)"
      ]
    },
    {
      "cell_type": "markdown",
      "metadata": {
        "id": "9QU9qlMxVJn-"
      },
      "source": [
        "Recordemos que habíamos señalado que la llave primaria de la tabla `Capitanes` era el `cid`. Veamos que pasa si intentamos insertar un capitán con el mismo `cid`."
      ]
    },
    {
      "cell_type": "code",
      "execution_count": 11,
      "metadata": {
        "colab": {
          "base_uri": "https://localhost:8080/"
        },
        "id": "-GHI1Eg0VJn-",
        "outputId": "d82f70b4-0901-4931-b25d-c88928efe23a"
      },
      "outputs": [
        {
          "output_type": "stream",
          "name": "stdout",
          "text": [
            " * sqlite:///capitanes.db\n",
            "(sqlite3.IntegrityError) UNIQUE constraint failed: Capitanes.cid\n",
            "[SQL: INSERT INTO Capitanes VALUES(1, 'Claudio Bravo' , 0, 35)]\n",
            "(Background on this error at: https://sqlalche.me/e/20/gkpj)\n"
          ]
        }
      ],
      "source": [
        "%sql INSERT INTO Capitanes VALUES(1, 'Claudio Bravo', 0, 35)"
      ]
    },
    {
      "cell_type": "markdown",
      "metadata": {
        "id": "SUxHvVQ_VJn_"
      },
      "source": [
        "La consulta anterior debería haber arrojado un error. Así que vamos a cambiar el `cid`. Sin embargo, vamos a omitir algunos atributos."
      ]
    },
    {
      "cell_type": "code",
      "execution_count": 12,
      "metadata": {
        "colab": {
          "base_uri": "https://localhost:8080/"
        },
        "id": "HO99rTvCVJoA",
        "outputId": "344b7ba2-11b8-4579-8eae-9453da64e30f"
      },
      "outputs": [
        {
          "output_type": "stream",
          "name": "stdout",
          "text": [
            " * sqlite:///capitanes.db\n",
            "1 rows affected.\n"
          ]
        },
        {
          "output_type": "execute_result",
          "data": {
            "text/plain": [
              "[]"
            ]
          },
          "metadata": {},
          "execution_count": 12
        }
      ],
      "source": [
        "%sql INSERT INTO Capitanes(cid, cnombre) VALUES(13, 'Claudio Bravo')"
      ]
    },
    {
      "cell_type": "code",
      "execution_count": 13,
      "metadata": {
        "colab": {
          "base_uri": "https://localhost:8080/",
          "height": 116
        },
        "id": "X6LsLq2CVJoB",
        "outputId": "4b1b7051-efc7-4742-a086-183b5fe0178b"
      },
      "outputs": [
        {
          "output_type": "stream",
          "name": "stdout",
          "text": [
            " * sqlite:///capitanes.db\n",
            "Done.\n"
          ]
        },
        {
          "output_type": "execute_result",
          "data": {
            "text/plain": [
              "[(1, 'Claudio', 0.0, 35), (13, 'Claudio Bravo', 0.0, None)]"
            ],
            "text/html": [
              "<table>\n",
              "    <thead>\n",
              "        <tr>\n",
              "            <th>cid</th>\n",
              "            <th>cnombre</th>\n",
              "            <th>crating</th>\n",
              "            <th>cedad</th>\n",
              "        </tr>\n",
              "    </thead>\n",
              "    <tbody>\n",
              "        <tr>\n",
              "            <td>1</td>\n",
              "            <td>Claudio</td>\n",
              "            <td>0.0</td>\n",
              "            <td>35</td>\n",
              "        </tr>\n",
              "        <tr>\n",
              "            <td>13</td>\n",
              "            <td>Claudio Bravo</td>\n",
              "            <td>0.0</td>\n",
              "            <td>None</td>\n",
              "        </tr>\n",
              "    </tbody>\n",
              "</table>"
            ]
          },
          "metadata": {},
          "execution_count": 13
        }
      ],
      "source": [
        "%sql SELECT * FROM Capitanes"
      ]
    },
    {
      "cell_type": "markdown",
      "metadata": {
        "id": "RNYZ0F3rVJoC"
      },
      "source": [
        "Si te das cuenta, ahora tenemos dos tuplas en la tabla de capitanes. Como podrías haber esperado, dado que omitimos el valor para ciertos atributos en la segunda inserción, el `crating` tomó el valor _default_. Pero ojo! el atributo `cedad` tomó un valor **nulo**. Más adelante en el curso vamos a ahondar en esta temática y ver por qué los valores nulos pueden ser un problema. Ahora vamos a agregar una nueva tupla para hacer algunas consultas sencillas."
      ]
    },
    {
      "cell_type": "code",
      "execution_count": 14,
      "metadata": {
        "colab": {
          "base_uri": "https://localhost:8080/"
        },
        "id": "kI9k7Q5DVJoD",
        "outputId": "76e12131-1c73-466c-9dc8-bf2aa95278e4"
      },
      "outputs": [
        {
          "output_type": "stream",
          "name": "stdout",
          "text": [
            " * sqlite:///capitanes.db\n",
            "1 rows affected.\n"
          ]
        },
        {
          "output_type": "execute_result",
          "data": {
            "text/plain": [
              "[]"
            ]
          },
          "metadata": {},
          "execution_count": 14
        }
      ],
      "source": [
        "%sql INSERT INTO Capitanes VALUES(23, 'Arturo Vidal', 8, 31)"
      ]
    },
    {
      "cell_type": "code",
      "execution_count": 15,
      "metadata": {
        "colab": {
          "base_uri": "https://localhost:8080/",
          "height": 137
        },
        "id": "hdVjFQmbVJoE",
        "outputId": "e786c45a-3a7b-4803-87dc-2650d15f85d5"
      },
      "outputs": [
        {
          "output_type": "stream",
          "name": "stdout",
          "text": [
            " * sqlite:///capitanes.db\n",
            "Done.\n"
          ]
        },
        {
          "output_type": "execute_result",
          "data": {
            "text/plain": [
              "[(1, 'Claudio', 0.0, 35),\n",
              " (13, 'Claudio Bravo', 0.0, None),\n",
              " (23, 'Arturo Vidal', 8.0, 31)]"
            ],
            "text/html": [
              "<table>\n",
              "    <thead>\n",
              "        <tr>\n",
              "            <th>cid</th>\n",
              "            <th>cnombre</th>\n",
              "            <th>crating</th>\n",
              "            <th>cedad</th>\n",
              "        </tr>\n",
              "    </thead>\n",
              "    <tbody>\n",
              "        <tr>\n",
              "            <td>1</td>\n",
              "            <td>Claudio</td>\n",
              "            <td>0.0</td>\n",
              "            <td>35</td>\n",
              "        </tr>\n",
              "        <tr>\n",
              "            <td>13</td>\n",
              "            <td>Claudio Bravo</td>\n",
              "            <td>0.0</td>\n",
              "            <td>None</td>\n",
              "        </tr>\n",
              "        <tr>\n",
              "            <td>23</td>\n",
              "            <td>Arturo Vidal</td>\n",
              "            <td>8.0</td>\n",
              "            <td>31</td>\n",
              "        </tr>\n",
              "    </tbody>\n",
              "</table>"
            ]
          },
          "metadata": {},
          "execution_count": 15
        }
      ],
      "source": [
        "%sql SELECT * FROM Capitanes;"
      ]
    },
    {
      "cell_type": "code",
      "execution_count": 16,
      "metadata": {
        "colab": {
          "base_uri": "https://localhost:8080/",
          "height": 95
        },
        "id": "TAiNFzSzVJoF",
        "outputId": "8500472b-4912-47f1-a81a-9bd0666058e1"
      },
      "outputs": [
        {
          "output_type": "stream",
          "name": "stdout",
          "text": [
            " * sqlite:///capitanes.db\n",
            "Done.\n"
          ]
        },
        {
          "output_type": "execute_result",
          "data": {
            "text/plain": [
              "[(1, 'Claudio', 0.0, 35)]"
            ],
            "text/html": [
              "<table>\n",
              "    <thead>\n",
              "        <tr>\n",
              "            <th>cid</th>\n",
              "            <th>cnombre</th>\n",
              "            <th>crating</th>\n",
              "            <th>cedad</th>\n",
              "        </tr>\n",
              "    </thead>\n",
              "    <tbody>\n",
              "        <tr>\n",
              "            <td>1</td>\n",
              "            <td>Claudio</td>\n",
              "            <td>0.0</td>\n",
              "            <td>35</td>\n",
              "        </tr>\n",
              "    </tbody>\n",
              "</table>"
            ]
          },
          "metadata": {},
          "execution_count": 16
        }
      ],
      "source": [
        "%sql SELECT * FROM Capitanes WHERE cnombre='Claudio'"
      ]
    },
    {
      "cell_type": "markdown",
      "metadata": {
        "id": "fCE5_MmTVJoF"
      },
      "source": [
        "En la consulta anterior estamos filtrando por Capitanes donde su nombre sea `'Claudio'`. Si queremos que el nombre **contenga** `'Claudio'` usamos la instrucción `LIKE`:"
      ]
    },
    {
      "cell_type": "code",
      "execution_count": 17,
      "metadata": {
        "colab": {
          "base_uri": "https://localhost:8080/",
          "height": 116
        },
        "id": "sP9CgqkqVJoG",
        "outputId": "72473028-8c5c-42ab-a90f-1736982794a1"
      },
      "outputs": [
        {
          "output_type": "stream",
          "name": "stdout",
          "text": [
            " * sqlite:///capitanes.db\n",
            "Done.\n"
          ]
        },
        {
          "output_type": "execute_result",
          "data": {
            "text/plain": [
              "[(1, 'Claudio', 0.0, 35), (13, 'Claudio Bravo', 0.0, None)]"
            ],
            "text/html": [
              "<table>\n",
              "    <thead>\n",
              "        <tr>\n",
              "            <th>cid</th>\n",
              "            <th>cnombre</th>\n",
              "            <th>crating</th>\n",
              "            <th>cedad</th>\n",
              "        </tr>\n",
              "    </thead>\n",
              "    <tbody>\n",
              "        <tr>\n",
              "            <td>1</td>\n",
              "            <td>Claudio</td>\n",
              "            <td>0.0</td>\n",
              "            <td>35</td>\n",
              "        </tr>\n",
              "        <tr>\n",
              "            <td>13</td>\n",
              "            <td>Claudio Bravo</td>\n",
              "            <td>0.0</td>\n",
              "            <td>None</td>\n",
              "        </tr>\n",
              "    </tbody>\n",
              "</table>"
            ]
          },
          "metadata": {},
          "execution_count": 17
        }
      ],
      "source": [
        "%sql SELECT * FROM Capitanes WHERE cnombre LIKE '%Claudio%'"
      ]
    },
    {
      "cell_type": "markdown",
      "metadata": {
        "id": "HRAfJn5-VJoH"
      },
      "source": [
        "Pueden notar que hemos añadido un `%` al _string_. Esto es porque antes y después de `Claudio` queremos permitir cualquier secuencia de caracteres. Para el `LIKE` tenemos dos instrucciones posibles:\n",
        "\n",
        "- `%` que significa cualquier secuencia de caracteres.\n",
        "- `_` que significa un caracter, pero **solamente** uno."
      ]
    },
    {
      "cell_type": "markdown",
      "metadata": {
        "id": "q_l_YfJoVJoH"
      },
      "source": [
        "Como no estamos seguros de mantener a `Claudio` en la tabla `Capitanes` lo vamos a eliminar. Para eliminar tuplas lo hacemos con la instrucción `DELETE`. Veamos que pasa al ejecutar la siguiente consulta:"
      ]
    },
    {
      "cell_type": "code",
      "execution_count": 18,
      "metadata": {
        "colab": {
          "base_uri": "https://localhost:8080/"
        },
        "id": "URJqqKleVJoI",
        "outputId": "9b39838c-2902-418f-b421-85b602d721bb"
      },
      "outputs": [
        {
          "output_type": "stream",
          "name": "stdout",
          "text": [
            " * sqlite:///capitanes.db\n",
            "2 rows affected.\n"
          ]
        },
        {
          "output_type": "execute_result",
          "data": {
            "text/plain": [
              "[]"
            ]
          },
          "metadata": {},
          "execution_count": 18
        }
      ],
      "source": [
        "%%sql\n",
        "DELETE FROM Capitanes\n",
        "WHERE cnombre LIKE '%Claudio%'"
      ]
    },
    {
      "cell_type": "code",
      "execution_count": 19,
      "metadata": {
        "colab": {
          "base_uri": "https://localhost:8080/",
          "height": 95
        },
        "id": "D-80ZLM2VJoK",
        "outputId": "ee6ea3eb-97c8-4974-d0d5-4c97fc26267d"
      },
      "outputs": [
        {
          "output_type": "stream",
          "name": "stdout",
          "text": [
            " * sqlite:///capitanes.db\n",
            "Done.\n"
          ]
        },
        {
          "output_type": "execute_result",
          "data": {
            "text/plain": [
              "[(23, 'Arturo Vidal', 8.0, 31)]"
            ],
            "text/html": [
              "<table>\n",
              "    <thead>\n",
              "        <tr>\n",
              "            <th>cid</th>\n",
              "            <th>cnombre</th>\n",
              "            <th>crating</th>\n",
              "            <th>cedad</th>\n",
              "        </tr>\n",
              "    </thead>\n",
              "    <tbody>\n",
              "        <tr>\n",
              "            <td>23</td>\n",
              "            <td>Arturo Vidal</td>\n",
              "            <td>8.0</td>\n",
              "            <td>31</td>\n",
              "        </tr>\n",
              "    </tbody>\n",
              "</table>"
            ]
          },
          "metadata": {},
          "execution_count": 19
        }
      ],
      "source": [
        "%sql SELECT * FROM Capitanes"
      ]
    },
    {
      "cell_type": "markdown",
      "metadata": {
        "id": "fedsAOrvVJoK"
      },
      "source": [
        "Lo que hicimos fue borrar de la tabla `Capitanes` todas las tuplas que satisfacen la condición en el `WHERE` de la consulta. Para actualizar una tupla usamos la instrucción `UPDATE`, como veremos a continuación:"
      ]
    },
    {
      "cell_type": "code",
      "execution_count": 20,
      "metadata": {
        "colab": {
          "base_uri": "https://localhost:8080/"
        },
        "id": "3VCiUkB-VJoL",
        "outputId": "2234391f-7847-4517-8b1c-4743eee515ea"
      },
      "outputs": [
        {
          "output_type": "stream",
          "name": "stdout",
          "text": [
            " * sqlite:///capitanes.db\n",
            "1 rows affected.\n"
          ]
        },
        {
          "output_type": "execute_result",
          "data": {
            "text/plain": [
              "[]"
            ]
          },
          "metadata": {},
          "execution_count": 20
        }
      ],
      "source": [
        "%sql UPDATE Capitanes SET cnombre='King Arturo' WHERE cid=23"
      ]
    },
    {
      "cell_type": "code",
      "execution_count": 21,
      "metadata": {
        "colab": {
          "base_uri": "https://localhost:8080/",
          "height": 95
        },
        "id": "9I7jH2ecVJoM",
        "outputId": "19eb38ed-0c62-4882-fae6-9b52b6aa8a15"
      },
      "outputs": [
        {
          "output_type": "stream",
          "name": "stdout",
          "text": [
            " * sqlite:///capitanes.db\n",
            "Done.\n"
          ]
        },
        {
          "output_type": "execute_result",
          "data": {
            "text/plain": [
              "[(23, 'King Arturo', 8.0, 31)]"
            ],
            "text/html": [
              "<table>\n",
              "    <thead>\n",
              "        <tr>\n",
              "            <th>cid</th>\n",
              "            <th>cnombre</th>\n",
              "            <th>crating</th>\n",
              "            <th>cedad</th>\n",
              "        </tr>\n",
              "    </thead>\n",
              "    <tbody>\n",
              "        <tr>\n",
              "            <td>23</td>\n",
              "            <td>King Arturo</td>\n",
              "            <td>8.0</td>\n",
              "            <td>31</td>\n",
              "        </tr>\n",
              "    </tbody>\n",
              "</table>"
            ]
          },
          "metadata": {},
          "execution_count": 21
        }
      ],
      "source": [
        "%sql SELECT * FROM Capitanes"
      ]
    },
    {
      "cell_type": "markdown",
      "metadata": {
        "id": "9xGyTFxaVJoM"
      },
      "source": [
        "### Modificando tablas\n",
        "\n",
        "En SQL es posible modificar tablas. Por ejemplo si quisieramos eliminar el atributo `crating` podríamos ejecutar la consulta:\n",
        "\n",
        "```SQL\n",
        "ALTER TABLE Capitanes DROP COLUMN crating\n",
        "```\n",
        "\n",
        "O agregar una columna, como por ejemplo:\n",
        "\n",
        "```SQL\n",
        "ALTER TABLE Capitanes ADD COLUMN rut VARCHAR(20)\n",
        "```"
      ]
    },
    {
      "cell_type": "markdown",
      "metadata": {
        "id": "9pyieOFXVJpC"
      },
      "source": [
        "### Consultas básicas en SQL"
      ]
    },
    {
      "cell_type": "markdown",
      "metadata": {
        "id": "_iYpUVGaVJpD"
      },
      "source": [
        "Para comenzar a hacer consultas primero debemos llenar nuestras tablas. Asegurate que las instancias de las tablas sean las siguientes:"
      ]
    },
    {
      "cell_type": "markdown",
      "metadata": {
        "id": "_uNycbzfVJpD"
      },
      "source": [
        "#### Capitanes\n",
        "\n",
        "| cid | cnombre     | crating | cedad |\n",
        "|-----|-------------|---------|-------|\n",
        "| 23  | King Arturo | 8       | 31    |\n",
        "| 29  | Juan        | 1       | 33    |\n",
        "| 31  | Andy        | 8       | 55    |\n",
        "| 32  | Felipe      | 8.4     | 25    |\n",
        "| 58  | Oscar       | 10      | 35    |\n",
        "| 64  | Isidora     | 7.5     | 35    |\n",
        "| 71  | Pedro       | 10      | 16    |\n",
        "| 74  | Isidora     | 9       | 35    |\n",
        "| 85  | Rosa        | 3       | 25    |\n",
        "| 95  | Romano      | 5.5     | 63    |"
      ]
    },
    {
      "cell_type": "markdown",
      "metadata": {
        "id": "H5P1itDYVJpE"
      },
      "source": [
        "#### Botes\n",
        "\n",
        "| bid | bnombre   | bcolor |\n",
        "|-----|-----------|--------|\n",
        "| 101 | Catamaran | Azul   |\n",
        "| 102 | Catamaran | Rojo   |\n",
        "| 103 | Endurance | Verde  |\n",
        "| 104 | Yate      | Rojo   |"
      ]
    },
    {
      "cell_type": "markdown",
      "metadata": {
        "id": "0JNkFBh9VJpF"
      },
      "source": [
        "#### Reservas\n",
        "\n",
        "| cid | bid | fecha    |\n",
        "|-----|-----|----------|\n",
        "| 23  | 101 | 10/10/16 |\n",
        "| 23  | 102 | 10/10/16 |\n",
        "| 23  | 103 | 8/10/16  |\n",
        "| 23  | 104 | 7/10/17  |\n",
        "| 31  | 102 | 10/11/17 |\n",
        "| 31  | 103 | 6/11/18  |\n",
        "| 31  | 104 | 12/11/18 |\n",
        "| 64  | 101 | 5/9/18   |\n",
        "| 64  | 102 | 8/9/18   |\n",
        "| 74  | 103 | 8/9/18   |"
      ]
    },
    {
      "cell_type": "markdown",
      "metadata": {
        "id": "2TfC3x5-VJpG"
      },
      "source": [
        "**Hint**: Para insertar un tipo fecha en SQLITE tienes que ingresarlo entre comillas simples en el formato `'YYYY-MM-DD'`, por ejemplo:"
      ]
    },
    {
      "cell_type": "code",
      "execution_count": 22,
      "metadata": {
        "colab": {
          "base_uri": "https://localhost:8080/"
        },
        "id": "JRcXqMwRVJpG",
        "outputId": "bc6acaac-59af-42b5-9fe3-fc8362e2c0fa"
      },
      "outputs": [
        {
          "output_type": "stream",
          "name": "stdout",
          "text": [
            " * sqlite:///capitanes.db\n",
            "1 rows affected.\n"
          ]
        },
        {
          "output_type": "execute_result",
          "data": {
            "text/plain": [
              "[]"
            ]
          },
          "metadata": {},
          "execution_count": 22
        }
      ],
      "source": [
        "%sql INSERT INTO Reservas VALUES(23, 101, '2018-10-10')"
      ]
    },
    {
      "cell_type": "code",
      "source": [
        "%sql INSERT INTO Reservas (cid, bid, fecha) VALUES (23, 101, '2016-10-10');\n",
        "%sql INSERT INTO Reservas (cid, bid, fecha) VALUES (23, 102, '2016-10-10');\n",
        "%sql INSERT INTO Reservas (cid, bid, fecha) VALUES (23, 103, '2016-08-10');\n",
        "%sql INSERT INTO Reservas (cid, bid, fecha) VALUES (23, 104, '2017-07-10');\n",
        "%sql INSERT INTO Reservas (cid, bid, fecha) VALUES (31, 102, '2017-10-11');\n",
        "%sql INSERT INTO Reservas (cid, bid, fecha) VALUES (31, 103, '2018-11-06');\n",
        "%sql INSERT INTO Reservas (cid, bid, fecha) VALUES (31, 104, '2018-11-12');\n",
        "%sql INSERT INTO Reservas (cid, bid, fecha) VALUES (64, 101, '2018-09-05');\n",
        "%sql INSERT INTO Reservas (cid, bid, fecha) VALUES (64, 102, '2018-09-08');\n",
        "%sql INSERT INTO Reservas (cid, bid, fecha) VALUES (74, 103, '2018-09-08');"
      ],
      "metadata": {
        "colab": {
          "base_uri": "https://localhost:8080/"
        },
        "id": "ZIS1q7F2YM-c",
        "outputId": "10e3416d-5ba5-4d37-9a27-90a6769f1177"
      },
      "execution_count": 23,
      "outputs": [
        {
          "output_type": "stream",
          "name": "stdout",
          "text": [
            " * sqlite:///capitanes.db\n",
            "(sqlite3.IntegrityError) UNIQUE constraint failed: Reservas.cid, Reservas.bid\n",
            "[SQL: INSERT INTO Reservas (cid, bid, fecha) VALUES (23, 101, '2016-10-10' );]\n",
            "(Background on this error at: https://sqlalche.me/e/20/gkpj)\n",
            " * sqlite:///capitanes.db\n",
            "1 rows affected.\n",
            " * sqlite:///capitanes.db\n",
            "1 rows affected.\n",
            " * sqlite:///capitanes.db\n",
            "1 rows affected.\n",
            " * sqlite:///capitanes.db\n",
            "1 rows affected.\n",
            " * sqlite:///capitanes.db\n",
            "1 rows affected.\n",
            " * sqlite:///capitanes.db\n",
            "1 rows affected.\n",
            " * sqlite:///capitanes.db\n",
            "1 rows affected.\n",
            " * sqlite:///capitanes.db\n",
            "1 rows affected.\n",
            " * sqlite:///capitanes.db\n",
            "1 rows affected.\n"
          ]
        },
        {
          "output_type": "execute_result",
          "data": {
            "text/plain": [
              "[]"
            ]
          },
          "metadata": {},
          "execution_count": 23
        }
      ]
    },
    {
      "cell_type": "code",
      "source": [
        "%sql INSERT INTO Botes (bid, bnombre, bcolor) VALUES (101, 'Catamaran', 'Azul');\n",
        "%sql INSERT INTO Botes (bid, bnombre, bcolor) VALUES (102, 'Catamaran', 'Rojo');\n",
        "%sql INSERT INTO Botes (bid, bnombre, bcolor) VALUES (103, 'Endurance', 'Verde');\n",
        "%sql INSERT INTO Botes (bid, bnombre, bcolor) VALUES (104, 'Yate', 'Rojo');"
      ],
      "metadata": {
        "colab": {
          "base_uri": "https://localhost:8080/"
        },
        "id": "zrtJOk2zZZDj",
        "outputId": "b5627fec-a091-4797-e677-b68f37e2c230"
      },
      "execution_count": 24,
      "outputs": [
        {
          "output_type": "stream",
          "name": "stdout",
          "text": [
            " * sqlite:///capitanes.db\n",
            "1 rows affected.\n",
            " * sqlite:///capitanes.db\n",
            "1 rows affected.\n",
            " * sqlite:///capitanes.db\n",
            "1 rows affected.\n",
            " * sqlite:///capitanes.db\n",
            "1 rows affected.\n"
          ]
        },
        {
          "output_type": "execute_result",
          "data": {
            "text/plain": [
              "[]"
            ]
          },
          "metadata": {},
          "execution_count": 24
        }
      ]
    },
    {
      "cell_type": "code",
      "source": [
        "%sql INSERT INTO Capitanes (cid, cnombre, crating, cedad) VALUES (23, 'King Arturo', 8, 31);\n",
        "%sql INSERT INTO Capitanes (cid, cnombre, crating, cedad) VALUES (29, 'Juan', 1, 33);\n",
        "%sql INSERT INTO Capitanes (cid, cnombre, crating, cedad) VALUES (31, 'Andy', 8, 55);\n",
        "%sql INSERT INTO Capitanes (cid, cnombre, crating, cedad) VALUES (32, 'Felipe', 8.4, 25);\n",
        "%sql INSERT INTO Capitanes (cid, cnombre, crating, cedad) VALUES (58, 'Oscar', 10, 35);\n",
        "%sql INSERT INTO Capitanes (cid, cnombre, crating, cedad) VALUES (64, 'Isidora', 7.5, 35);\n",
        "%sql INSERT INTO Capitanes (cid, cnombre, crating, cedad) VALUES (71, 'Pedro', 10, 16);\n",
        "%sql INSERT INTO Capitanes (cid, cnombre, crating, cedad) VALUES (74, 'Isidora', 9, 35);\n",
        "%sql INSERT INTO Capitanes (cid, cnombre, crating, cedad) VALUES (85, 'Rosa', 3, 25);\n",
        "%sql INSERT INTO Capitanes (cid, cnombre, crating, cedad) VALUES (95, 'Romano', 5.5, 63);\n"
      ],
      "metadata": {
        "colab": {
          "base_uri": "https://localhost:8080/"
        },
        "id": "CmkxM_8gahmm",
        "outputId": "cefa1c32-b26b-41cb-9c92-442d9ad654e7"
      },
      "execution_count": 25,
      "outputs": [
        {
          "output_type": "stream",
          "name": "stdout",
          "text": [
            " * sqlite:///capitanes.db\n",
            "(sqlite3.IntegrityError) UNIQUE constraint failed: Capitanes.cid\n",
            "[SQL: INSERT INTO Capitanes (cid, cnombre, crating, cedad) VALUES (23, 'King Arturo' , 8, 31);]\n",
            "(Background on this error at: https://sqlalche.me/e/20/gkpj)\n",
            " * sqlite:///capitanes.db\n",
            "1 rows affected.\n",
            " * sqlite:///capitanes.db\n",
            "1 rows affected.\n",
            " * sqlite:///capitanes.db\n",
            "1 rows affected.\n",
            " * sqlite:///capitanes.db\n",
            "1 rows affected.\n",
            " * sqlite:///capitanes.db\n",
            "1 rows affected.\n",
            " * sqlite:///capitanes.db\n",
            "1 rows affected.\n",
            " * sqlite:///capitanes.db\n",
            "1 rows affected.\n",
            " * sqlite:///capitanes.db\n",
            "1 rows affected.\n",
            " * sqlite:///capitanes.db\n",
            "1 rows affected.\n"
          ]
        },
        {
          "output_type": "execute_result",
          "data": {
            "text/plain": [
              "[]"
            ]
          },
          "metadata": {},
          "execution_count": 25
        }
      ]
    },
    {
      "cell_type": "markdown",
      "metadata": {
        "id": "giene1HSVJpH"
      },
      "source": [
        "Las consultas más básicas son de la forma `SELECT - FROM - WHERE`. En general, la consulta de álgebra relacional:\n",
        "\n",
        "$$\n",
        "\\pi_{a_1, \\dots, a_n}(\\sigma_{\\text{condiciones}}(R_1 \\times R_m))\n",
        "$$\n",
        "\n",
        "se traduce en SQL como:\n",
        "\n",
        "```SQL\n",
        "SELECT a_1, ..., a_n\n",
        "FROM R_1, ..., R_m\n",
        "WHERE <condiciones>\n",
        "```\n",
        "\n",
        "**2.** Prueba la siguiente consulta:"
      ]
    },
    {
      "cell_type": "code",
      "execution_count": 26,
      "metadata": {
        "colab": {
          "base_uri": "https://localhost:8080/",
          "height": 284
        },
        "id": "CKI7RZBzVJpI",
        "outputId": "dd12be66-dd3d-4c61-e4bb-445fc57e4bb2"
      },
      "outputs": [
        {
          "output_type": "stream",
          "name": "stdout",
          "text": [
            " * sqlite:///capitanes.db\n",
            "Done.\n"
          ]
        },
        {
          "output_type": "execute_result",
          "data": {
            "text/plain": [
              "[(23, 'King Arturo', 8.0, 31),\n",
              " (29, 'Juan', 1.0, 33),\n",
              " (31, 'Andy', 8.0, 55),\n",
              " (32, 'Felipe', 8.4, 25),\n",
              " (58, 'Oscar', 10.0, 35),\n",
              " (64, 'Isidora', 7.5, 35),\n",
              " (71, 'Pedro', 10.0, 16),\n",
              " (74, 'Isidora', 9.0, 35),\n",
              " (85, 'Rosa', 3.0, 25),\n",
              " (95, 'Romano', 5.5, 63)]"
            ],
            "text/html": [
              "<table>\n",
              "    <thead>\n",
              "        <tr>\n",
              "            <th>cid</th>\n",
              "            <th>cnombre</th>\n",
              "            <th>crating</th>\n",
              "            <th>cedad</th>\n",
              "        </tr>\n",
              "    </thead>\n",
              "    <tbody>\n",
              "        <tr>\n",
              "            <td>23</td>\n",
              "            <td>King Arturo</td>\n",
              "            <td>8.0</td>\n",
              "            <td>31</td>\n",
              "        </tr>\n",
              "        <tr>\n",
              "            <td>29</td>\n",
              "            <td>Juan</td>\n",
              "            <td>1.0</td>\n",
              "            <td>33</td>\n",
              "        </tr>\n",
              "        <tr>\n",
              "            <td>31</td>\n",
              "            <td>Andy</td>\n",
              "            <td>8.0</td>\n",
              "            <td>55</td>\n",
              "        </tr>\n",
              "        <tr>\n",
              "            <td>32</td>\n",
              "            <td>Felipe</td>\n",
              "            <td>8.4</td>\n",
              "            <td>25</td>\n",
              "        </tr>\n",
              "        <tr>\n",
              "            <td>58</td>\n",
              "            <td>Oscar</td>\n",
              "            <td>10.0</td>\n",
              "            <td>35</td>\n",
              "        </tr>\n",
              "        <tr>\n",
              "            <td>64</td>\n",
              "            <td>Isidora</td>\n",
              "            <td>7.5</td>\n",
              "            <td>35</td>\n",
              "        </tr>\n",
              "        <tr>\n",
              "            <td>71</td>\n",
              "            <td>Pedro</td>\n",
              "            <td>10.0</td>\n",
              "            <td>16</td>\n",
              "        </tr>\n",
              "        <tr>\n",
              "            <td>74</td>\n",
              "            <td>Isidora</td>\n",
              "            <td>9.0</td>\n",
              "            <td>35</td>\n",
              "        </tr>\n",
              "        <tr>\n",
              "            <td>85</td>\n",
              "            <td>Rosa</td>\n",
              "            <td>3.0</td>\n",
              "            <td>25</td>\n",
              "        </tr>\n",
              "        <tr>\n",
              "            <td>95</td>\n",
              "            <td>Romano</td>\n",
              "            <td>5.5</td>\n",
              "            <td>63</td>\n",
              "        </tr>\n",
              "    </tbody>\n",
              "</table>"
            ]
          },
          "metadata": {},
          "execution_count": 26
        }
      ],
      "source": [
        "%sql SELECT cid, cnombre, crating, cedad FROM Capitanes"
      ]
    },
    {
      "cell_type": "markdown",
      "metadata": {
        "id": "mxhvTJjFVJpI"
      },
      "source": [
        "¿Qué es lo que debería hacer la consulta anterior? Recuerda que si lo que quieres es proyectar todos los atributos puedes usar `*`.\n",
        "\n",
        "**3.** Ahora realiza dos consultas, una para obtener todo desde la tabla `Reservas` y todo de la tabla `Botes`. Revisa que agregaste todos los datos correctamente."
      ]
    },
    {
      "cell_type": "code",
      "execution_count": 27,
      "metadata": {
        "colab": {
          "base_uri": "https://localhost:8080/",
          "height": 284
        },
        "id": "A_Pg6wmdVJpJ",
        "outputId": "a9ac9437-76dd-4b59-ce00-360b2d77a1d0"
      },
      "outputs": [
        {
          "output_type": "stream",
          "name": "stdout",
          "text": [
            " * sqlite:///capitanes.db\n",
            "Done.\n"
          ]
        },
        {
          "output_type": "execute_result",
          "data": {
            "text/plain": [
              "[(23, 101, '2016-10-10'),\n",
              " (23, 102, '2016-10-10'),\n",
              " (23, 103, '2016-08-10'),\n",
              " (23, 104, '2017-07-10'),\n",
              " (31, 102, '2017-10-11'),\n",
              " (31, 103, '2018-11-06'),\n",
              " (31, 104, '2018-11-12'),\n",
              " (64, 101, '2018-09-05'),\n",
              " (64, 102, '2018-09-08'),\n",
              " (74, 103, '2018-09-08')]"
            ],
            "text/html": [
              "<table>\n",
              "    <thead>\n",
              "        <tr>\n",
              "            <th>cid</th>\n",
              "            <th>bid</th>\n",
              "            <th>fecha</th>\n",
              "        </tr>\n",
              "    </thead>\n",
              "    <tbody>\n",
              "        <tr>\n",
              "            <td>23</td>\n",
              "            <td>101</td>\n",
              "            <td>2016-10-10</td>\n",
              "        </tr>\n",
              "        <tr>\n",
              "            <td>23</td>\n",
              "            <td>102</td>\n",
              "            <td>2016-10-10</td>\n",
              "        </tr>\n",
              "        <tr>\n",
              "            <td>23</td>\n",
              "            <td>103</td>\n",
              "            <td>2016-08-10</td>\n",
              "        </tr>\n",
              "        <tr>\n",
              "            <td>23</td>\n",
              "            <td>104</td>\n",
              "            <td>2017-07-10</td>\n",
              "        </tr>\n",
              "        <tr>\n",
              "            <td>31</td>\n",
              "            <td>102</td>\n",
              "            <td>2017-10-11</td>\n",
              "        </tr>\n",
              "        <tr>\n",
              "            <td>31</td>\n",
              "            <td>103</td>\n",
              "            <td>2018-11-06</td>\n",
              "        </tr>\n",
              "        <tr>\n",
              "            <td>31</td>\n",
              "            <td>104</td>\n",
              "            <td>2018-11-12</td>\n",
              "        </tr>\n",
              "        <tr>\n",
              "            <td>64</td>\n",
              "            <td>101</td>\n",
              "            <td>2018-09-05</td>\n",
              "        </tr>\n",
              "        <tr>\n",
              "            <td>64</td>\n",
              "            <td>102</td>\n",
              "            <td>2018-09-08</td>\n",
              "        </tr>\n",
              "        <tr>\n",
              "            <td>74</td>\n",
              "            <td>103</td>\n",
              "            <td>2018-09-08</td>\n",
              "        </tr>\n",
              "    </tbody>\n",
              "</table>"
            ]
          },
          "metadata": {},
          "execution_count": 27
        }
      ],
      "source": [
        "# Reserva\n",
        "%sql SELECT * FROM Reservas"
      ]
    },
    {
      "cell_type": "code",
      "execution_count": 28,
      "metadata": {
        "colab": {
          "base_uri": "https://localhost:8080/",
          "height": 158
        },
        "id": "FzOvjBUbVJpK",
        "outputId": "cbbafd69-92f6-4aef-c1ca-daf9ac980f51"
      },
      "outputs": [
        {
          "output_type": "stream",
          "name": "stdout",
          "text": [
            " * sqlite:///capitanes.db\n",
            "Done.\n"
          ]
        },
        {
          "output_type": "execute_result",
          "data": {
            "text/plain": [
              "[(101, 'Catamaran', 'Azul'),\n",
              " (102, 'Catamaran', 'Rojo'),\n",
              " (103, 'Endurance', 'Verde'),\n",
              " (104, 'Yate', 'Rojo')]"
            ],
            "text/html": [
              "<table>\n",
              "    <thead>\n",
              "        <tr>\n",
              "            <th>bid</th>\n",
              "            <th>bnombre</th>\n",
              "            <th>bcolor</th>\n",
              "        </tr>\n",
              "    </thead>\n",
              "    <tbody>\n",
              "        <tr>\n",
              "            <td>101</td>\n",
              "            <td>Catamaran</td>\n",
              "            <td>Azul</td>\n",
              "        </tr>\n",
              "        <tr>\n",
              "            <td>102</td>\n",
              "            <td>Catamaran</td>\n",
              "            <td>Rojo</td>\n",
              "        </tr>\n",
              "        <tr>\n",
              "            <td>103</td>\n",
              "            <td>Endurance</td>\n",
              "            <td>Verde</td>\n",
              "        </tr>\n",
              "        <tr>\n",
              "            <td>104</td>\n",
              "            <td>Yate</td>\n",
              "            <td>Rojo</td>\n",
              "        </tr>\n",
              "    </tbody>\n",
              "</table>"
            ]
          },
          "metadata": {},
          "execution_count": 28
        }
      ],
      "source": [
        "# Botes\n",
        "%sql SELECT * FROM Botes"
      ]
    },
    {
      "cell_type": "markdown",
      "metadata": {
        "id": "iWTPt34yVJpK"
      },
      "source": [
        "Ahora ejecuta la consulta a continuación. ¿Qué crees que retorna?"
      ]
    },
    {
      "cell_type": "code",
      "execution_count": 29,
      "metadata": {
        "colab": {
          "base_uri": "https://localhost:8080/",
          "height": 95
        },
        "id": "aP14DNTEVJpL",
        "outputId": "0f8349d6-f913-4329-cc76-c21cd66780e7"
      },
      "outputs": [
        {
          "output_type": "stream",
          "name": "stdout",
          "text": [
            " * sqlite:///capitanes.db\n",
            "Done.\n"
          ]
        },
        {
          "output_type": "execute_result",
          "data": {
            "text/plain": [
              "[(29, 'Juan', 1.0, 33)]"
            ],
            "text/html": [
              "<table>\n",
              "    <thead>\n",
              "        <tr>\n",
              "            <th>cid</th>\n",
              "            <th>cnombre</th>\n",
              "            <th>crating</th>\n",
              "            <th>cedad</th>\n",
              "        </tr>\n",
              "    </thead>\n",
              "    <tbody>\n",
              "        <tr>\n",
              "            <td>29</td>\n",
              "            <td>Juan</td>\n",
              "            <td>1.0</td>\n",
              "            <td>33</td>\n",
              "        </tr>\n",
              "    </tbody>\n",
              "</table>"
            ]
          },
          "metadata": {},
          "execution_count": 29
        }
      ],
      "source": [
        "%sql SELECT * FROM Capitanes WHERE cnombre='Juan'"
      ]
    },
    {
      "cell_type": "markdown",
      "metadata": {
        "id": "I26zm0G-VJpM"
      },
      "source": [
        "Ahora es tu turno, realiza las siguientes consultas en SQL:\n",
        "\n",
        "**3.2.** Busca los nombres de los capitanes con rating más de 4 (prueba seleccionando `*` y luego solo el atributo `cnombre`).\n",
        "\n",
        "**Ayuda**: Puedes usar los filtros `x = y`, `x < y`, `x <= y`, `<>` (distinto), etc. Para los números es obvio, para los strings es orden lexicográfico."
      ]
    },
    {
      "cell_type": "code",
      "execution_count": 43,
      "metadata": {
        "colab": {
          "base_uri": "https://localhost:8080/",
          "height": 242
        },
        "id": "KhKpNYUMVJpN",
        "outputId": "8acee118-428a-4441-de04-0686cead2c76"
      },
      "outputs": [
        {
          "output_type": "stream",
          "name": "stdout",
          "text": [
            " * sqlite:///capitanes.db\n",
            "Done.\n"
          ]
        },
        {
          "output_type": "execute_result",
          "data": {
            "text/plain": [
              "[('King Arturo',),\n",
              " ('Andy',),\n",
              " ('Felipe',),\n",
              " ('Oscar',),\n",
              " ('Isidora',),\n",
              " ('Pedro',),\n",
              " ('Isidora',),\n",
              " ('Romano',)]"
            ],
            "text/html": [
              "<table>\n",
              "    <thead>\n",
              "        <tr>\n",
              "            <th>cnombre</th>\n",
              "        </tr>\n",
              "    </thead>\n",
              "    <tbody>\n",
              "        <tr>\n",
              "            <td>King Arturo</td>\n",
              "        </tr>\n",
              "        <tr>\n",
              "            <td>Andy</td>\n",
              "        </tr>\n",
              "        <tr>\n",
              "            <td>Felipe</td>\n",
              "        </tr>\n",
              "        <tr>\n",
              "            <td>Oscar</td>\n",
              "        </tr>\n",
              "        <tr>\n",
              "            <td>Isidora</td>\n",
              "        </tr>\n",
              "        <tr>\n",
              "            <td>Pedro</td>\n",
              "        </tr>\n",
              "        <tr>\n",
              "            <td>Isidora</td>\n",
              "        </tr>\n",
              "        <tr>\n",
              "            <td>Romano</td>\n",
              "        </tr>\n",
              "    </tbody>\n",
              "</table>"
            ]
          },
          "metadata": {},
          "execution_count": 43
        }
      ],
      "source": [
        "%%sql\n",
        "SELECT cnombre\n",
        "FROM Capitanes\n",
        "WHERE crating > 4;\n"
      ]
    },
    {
      "cell_type": "markdown",
      "metadata": {
        "id": "MvbBkWRxVJpO"
      },
      "source": [
        "**4.** Similarmente, busca los nombres de los capitanes con rating más de 4 y cuya edad está entre 25 y 40 años.\n",
        "\n",
        "**Ayuda**: Combina condiciones en el `WHERE` usando `AND` y `OR`. Recuerda que para negar algo puedes usar `NOT`."
      ]
    },
    {
      "cell_type": "code",
      "execution_count": 30,
      "metadata": {
        "colab": {
          "base_uri": "https://localhost:8080/",
          "height": 179
        },
        "id": "DkyV5AX5VJpP",
        "outputId": "2167f922-4893-4ab5-d375-f4850a346155"
      },
      "outputs": [
        {
          "output_type": "stream",
          "name": "stdout",
          "text": [
            " * sqlite:///capitanes.db\n",
            "Done.\n"
          ]
        },
        {
          "output_type": "execute_result",
          "data": {
            "text/plain": [
              "[('King Arturo',), ('Felipe',), ('Oscar',), ('Isidora',), ('Isidora',)]"
            ],
            "text/html": [
              "<table>\n",
              "    <thead>\n",
              "        <tr>\n",
              "            <th>cnombre</th>\n",
              "        </tr>\n",
              "    </thead>\n",
              "    <tbody>\n",
              "        <tr>\n",
              "            <td>King Arturo</td>\n",
              "        </tr>\n",
              "        <tr>\n",
              "            <td>Felipe</td>\n",
              "        </tr>\n",
              "        <tr>\n",
              "            <td>Oscar</td>\n",
              "        </tr>\n",
              "        <tr>\n",
              "            <td>Isidora</td>\n",
              "        </tr>\n",
              "        <tr>\n",
              "            <td>Isidora</td>\n",
              "        </tr>\n",
              "    </tbody>\n",
              "</table>"
            ]
          },
          "metadata": {},
          "execution_count": 30
        }
      ],
      "source": [
        "%%sql\n",
        "SELECT cnombre\n",
        "FROM Capitanes\n",
        "WHERE crating > 4\n",
        "AND cedad BETWEEN 25 AND 40;\n"
      ]
    },
    {
      "cell_type": "markdown",
      "metadata": {
        "id": "o3HyW5_iVJpQ"
      },
      "source": [
        "**5.** Busca la edad de los capitanes que no tienen una `'a'` en su nombre (recuerda usar `LIKE`)."
      ]
    },
    {
      "cell_type": "code",
      "execution_count": 31,
      "metadata": {
        "colab": {
          "base_uri": "https://localhost:8080/",
          "height": 116
        },
        "id": "KpF6UeJ1VJpQ",
        "outputId": "04a87790-a2ec-448d-b963-d679dd424ce2"
      },
      "outputs": [
        {
          "output_type": "stream",
          "name": "stdout",
          "text": [
            " * sqlite:///capitanes.db\n",
            "Done.\n"
          ]
        },
        {
          "output_type": "execute_result",
          "data": {
            "text/plain": [
              "[(25, 'Felipe'), (16, 'Pedro')]"
            ],
            "text/html": [
              "<table>\n",
              "    <thead>\n",
              "        <tr>\n",
              "            <th>cedad</th>\n",
              "            <th>cnombre</th>\n",
              "        </tr>\n",
              "    </thead>\n",
              "    <tbody>\n",
              "        <tr>\n",
              "            <td>25</td>\n",
              "            <td>Felipe</td>\n",
              "        </tr>\n",
              "        <tr>\n",
              "            <td>16</td>\n",
              "            <td>Pedro</td>\n",
              "        </tr>\n",
              "    </tbody>\n",
              "</table>"
            ]
          },
          "metadata": {},
          "execution_count": 31
        }
      ],
      "source": [
        "%%sql\n",
        "SELECT cedad, cnombre\n",
        "FROM Capitanes\n",
        "WHERE cnombre NOT LIKE '%a%';"
      ]
    },
    {
      "cell_type": "markdown",
      "metadata": {
        "id": "z1c6hdnUVJpR"
      },
      "source": [
        "Escribe una consulta que entregue los nombres y rating de los capitanes, pero ordenado por `crating`. Para ordenar agrega un `ORDER BY (<atr_1>, ..., <atr_N>) DESC` al final de tu consulta. Eso ordena los resultados por el atributo `<atr_1>`, después `<atr_2>`, etc. Prueba que pasa al eliminar el `DESC` al final del `ORDER BY`."
      ]
    },
    {
      "cell_type": "markdown",
      "metadata": {
        "id": "x4-ab7__VJpS"
      },
      "source": [
        "### Consultas de _join_, unión, intersección y diferencia\n",
        "\n",
        "Imaginemos que queremos encontrar los nombres de los capitanes que reservaron el bote 103.\n",
        "\n",
        "**6.** Escribe primero esta consulta en Álgebra relacional.\n",
        "\n",
        "Una forma directa para traspasarlo a SQL es con el comando `INNER JOIN`:"
      ]
    },
    {
      "cell_type": "code",
      "execution_count": 48,
      "metadata": {
        "colab": {
          "base_uri": "https://localhost:8080/",
          "height": 137
        },
        "id": "qAbaBv8LVJpS",
        "outputId": "51a28d8a-e95b-4e2e-9e8e-9e69f5d5abd8"
      },
      "outputs": [
        {
          "output_type": "stream",
          "name": "stdout",
          "text": [
            " * sqlite:///capitanes.db\n",
            "Done.\n"
          ]
        },
        {
          "output_type": "execute_result",
          "data": {
            "text/plain": [
              "[('King Arturo',), ('Andy',), ('Isidora',)]"
            ],
            "text/html": [
              "<table>\n",
              "    <thead>\n",
              "        <tr>\n",
              "            <th>cnombre</th>\n",
              "        </tr>\n",
              "    </thead>\n",
              "    <tbody>\n",
              "        <tr>\n",
              "            <td>King Arturo</td>\n",
              "        </tr>\n",
              "        <tr>\n",
              "            <td>Andy</td>\n",
              "        </tr>\n",
              "        <tr>\n",
              "            <td>Isidora</td>\n",
              "        </tr>\n",
              "    </tbody>\n",
              "</table>"
            ]
          },
          "metadata": {},
          "execution_count": 48
        }
      ],
      "source": [
        "%%sql\n",
        "SELECT  cnombre\n",
        "FROM  Capitanes INNER JOIN Reservas\n",
        "ON Capitanes.cid = Reservas.cid\n",
        "WHERE Reservas.bid = 103"
      ]
    },
    {
      "cell_type": "markdown",
      "metadata": {
        "id": "VZbdWhT5VJpT"
      },
      "source": [
        "Este es un buen minuto para repasar los joins. Puedes correr la consulta de arriba sin el `WHERE` para ver lo que sería el resultado de $\\text{Capitanes} \\bowtie_{\\text{cid}=\\text{cid}} \\text{Reservas}$. ¿Qué pasa al agregar la condición del `WHERE`?\n",
        "Si bien existe la instrucción `INNER JOIN`, una forma más clara (o que a nosotros nos gusta más) es explotando el producto cartesiano:"
      ]
    },
    {
      "cell_type": "code",
      "execution_count": null,
      "metadata": {
        "id": "cxGbRLodVJpU"
      },
      "outputs": [],
      "source": []
    },
    {
      "cell_type": "code",
      "execution_count": 49,
      "metadata": {
        "colab": {
          "base_uri": "https://localhost:8080/",
          "height": 137
        },
        "id": "iM2RiveCVJpU",
        "outputId": "5aadc695-3de6-4ed1-c153-5d2c03acf9f8"
      },
      "outputs": [
        {
          "output_type": "stream",
          "name": "stdout",
          "text": [
            " * sqlite:///capitanes.db\n",
            "Done.\n"
          ]
        },
        {
          "output_type": "execute_result",
          "data": {
            "text/plain": [
              "[(23, 'King Arturo', 8.0, 31, 23, 103, '2016-10-10'),\n",
              " (31, 'Andy', 8.0, 55, 31, 103, '2018-11-06'),\n",
              " (74, 'Isidora', 9.0, 35, 74, 103, '2018-09-08')]"
            ],
            "text/html": [
              "<table>\n",
              "    <thead>\n",
              "        <tr>\n",
              "            <th>cid</th>\n",
              "            <th>cnombre</th>\n",
              "            <th>crating</th>\n",
              "            <th>cedad</th>\n",
              "            <th>cid_1</th>\n",
              "            <th>bid</th>\n",
              "            <th>fecha</th>\n",
              "        </tr>\n",
              "    </thead>\n",
              "    <tbody>\n",
              "        <tr>\n",
              "            <td>23</td>\n",
              "            <td>King Arturo</td>\n",
              "            <td>8.0</td>\n",
              "            <td>31</td>\n",
              "            <td>23</td>\n",
              "            <td>103</td>\n",
              "            <td>2016-10-10</td>\n",
              "        </tr>\n",
              "        <tr>\n",
              "            <td>31</td>\n",
              "            <td>Andy</td>\n",
              "            <td>8.0</td>\n",
              "            <td>55</td>\n",
              "            <td>31</td>\n",
              "            <td>103</td>\n",
              "            <td>2018-11-06</td>\n",
              "        </tr>\n",
              "        <tr>\n",
              "            <td>74</td>\n",
              "            <td>Isidora</td>\n",
              "            <td>9.0</td>\n",
              "            <td>35</td>\n",
              "            <td>74</td>\n",
              "            <td>103</td>\n",
              "            <td>2018-09-08</td>\n",
              "        </tr>\n",
              "    </tbody>\n",
              "</table>"
            ]
          },
          "metadata": {},
          "execution_count": 49
        }
      ],
      "source": [
        "%%sql\n",
        "SELECT  *\n",
        "FROM  Capitanes, Reservas\n",
        "WHERE Capitanes.cid = Reservas.cid\n",
        "AND Reservas.bid = 103"
      ]
    },
    {
      "cell_type": "markdown",
      "metadata": {
        "id": "b7RD5YsMVJpV"
      },
      "source": [
        "En este caso estamos aplicando el `WHERE` al Producto Cartesiano, y por eso incluimos la condición `WHERE Capitanes.cid = Reservas.cid`. ¿Entiendes por qué ambas consultas son equivalentes?\n",
        "\n",
        "Ahora intenta escribir las siguientes consultas:\n",
        "\n",
        "**7.** Los nombres de los capitanes que reservaron un bote rojo."
      ]
    },
    {
      "cell_type": "code",
      "execution_count": 32,
      "metadata": {
        "colab": {
          "base_uri": "https://localhost:8080/",
          "height": 137
        },
        "id": "boOz_LLrVJpW",
        "outputId": "acec8508-cd01-40b6-f002-f8f00825a56f"
      },
      "outputs": [
        {
          "output_type": "stream",
          "name": "stdout",
          "text": [
            " * sqlite:///capitanes.db\n",
            "Done.\n"
          ]
        },
        {
          "output_type": "execute_result",
          "data": {
            "text/plain": [
              "[('King Arturo',), ('Andy',), ('Isidora',)]"
            ],
            "text/html": [
              "<table>\n",
              "    <thead>\n",
              "        <tr>\n",
              "            <th>cnombre</th>\n",
              "        </tr>\n",
              "    </thead>\n",
              "    <tbody>\n",
              "        <tr>\n",
              "            <td>King Arturo</td>\n",
              "        </tr>\n",
              "        <tr>\n",
              "            <td>Andy</td>\n",
              "        </tr>\n",
              "        <tr>\n",
              "            <td>Isidora</td>\n",
              "        </tr>\n",
              "    </tbody>\n",
              "</table>"
            ]
          },
          "metadata": {},
          "execution_count": 32
        }
      ],
      "source": [
        "%%sql\n",
        "SELECT DISTINCT Capitanes.cnombre\n",
        "FROM Capitanes\n",
        "JOIN Reservas ON Capitanes.cid = Reservas.cid\n",
        "JOIN Botes ON Reservas.bid = Botes.bid\n",
        "WHERE Botes.bcolor = 'Rojo'"
      ]
    },
    {
      "cell_type": "markdown",
      "metadata": {
        "id": "pyAiXphRVJpX"
      },
      "source": [
        "**8.** Los nombres de los capitanes que reservaron un bote rojo o un bote verde."
      ]
    },
    {
      "cell_type": "code",
      "execution_count": 34,
      "metadata": {
        "colab": {
          "base_uri": "https://localhost:8080/",
          "height": 200
        },
        "id": "NDUPTJBuVJpX",
        "outputId": "781c1c35-7e90-4ea5-c952-6deac9f80bf0"
      },
      "outputs": [
        {
          "output_type": "stream",
          "name": "stdout",
          "text": [
            " * sqlite:///capitanes.db\n",
            "Done.\n"
          ]
        },
        {
          "output_type": "execute_result",
          "data": {
            "text/plain": [
              "[('King Arturo', 'Rojo'),\n",
              " ('King Arturo', 'Verde'),\n",
              " ('Andy', 'Rojo'),\n",
              " ('Andy', 'Verde'),\n",
              " ('Isidora', 'Rojo'),\n",
              " ('Isidora', 'Verde')]"
            ],
            "text/html": [
              "<table>\n",
              "    <thead>\n",
              "        <tr>\n",
              "            <th>cnombre</th>\n",
              "            <th>bcolor</th>\n",
              "        </tr>\n",
              "    </thead>\n",
              "    <tbody>\n",
              "        <tr>\n",
              "            <td>King Arturo</td>\n",
              "            <td>Rojo</td>\n",
              "        </tr>\n",
              "        <tr>\n",
              "            <td>King Arturo</td>\n",
              "            <td>Verde</td>\n",
              "        </tr>\n",
              "        <tr>\n",
              "            <td>Andy</td>\n",
              "            <td>Rojo</td>\n",
              "        </tr>\n",
              "        <tr>\n",
              "            <td>Andy</td>\n",
              "            <td>Verde</td>\n",
              "        </tr>\n",
              "        <tr>\n",
              "            <td>Isidora</td>\n",
              "            <td>Rojo</td>\n",
              "        </tr>\n",
              "        <tr>\n",
              "            <td>Isidora</td>\n",
              "            <td>Verde</td>\n",
              "        </tr>\n",
              "    </tbody>\n",
              "</table>"
            ]
          },
          "metadata": {},
          "execution_count": 34
        }
      ],
      "source": [
        "%%sql\n",
        "SELECT DISTINCT Capitanes.cnombre, botes.bcolor\n",
        "FROM Capitanes\n",
        "JOIN Reservas ON Capitanes.cid = Reservas.cid\n",
        "JOIN Botes ON Reservas.bid = Botes.bid\n",
        "WHERE Botes.bcolor = 'Rojo' OR Botes.bcolor = 'Verde';"
      ]
    },
    {
      "cell_type": "markdown",
      "metadata": {
        "id": "C8zucg4EVJpY"
      },
      "source": [
        "**9.** La misma anterior, pero usando `UNION` para unir el resultado de dos consultas. Prueba usando `UNION` y luego `UNION ALL`. ¿Cuál es la diferencia?"
      ]
    },
    {
      "cell_type": "code",
      "execution_count": 35,
      "metadata": {
        "colab": {
          "base_uri": "https://localhost:8080/",
          "height": 137
        },
        "id": "ni9F1zbgVJpZ",
        "outputId": "b044f237-c427-4ca2-e10a-15c4c356e496"
      },
      "outputs": [
        {
          "output_type": "stream",
          "name": "stdout",
          "text": [
            " * sqlite:///capitanes.db\n",
            "Done.\n"
          ]
        },
        {
          "output_type": "execute_result",
          "data": {
            "text/plain": [
              "[('Andy',), ('Isidora',), ('King Arturo',)]"
            ],
            "text/html": [
              "<table>\n",
              "    <thead>\n",
              "        <tr>\n",
              "            <th>cnombre</th>\n",
              "        </tr>\n",
              "    </thead>\n",
              "    <tbody>\n",
              "        <tr>\n",
              "            <td>Andy</td>\n",
              "        </tr>\n",
              "        <tr>\n",
              "            <td>Isidora</td>\n",
              "        </tr>\n",
              "        <tr>\n",
              "            <td>King Arturo</td>\n",
              "        </tr>\n",
              "    </tbody>\n",
              "</table>"
            ]
          },
          "metadata": {},
          "execution_count": 35
        }
      ],
      "source": [
        "%%sql\n",
        "SELECT Capitanes.cnombre\n",
        "FROM Capitanes\n",
        "JOIN Reservas ON Capitanes.cid = Reservas.cid\n",
        "JOIN Botes ON Reservas.bid = Botes.bid\n",
        "WHERE Botes.bcolor = 'Rojo'\n",
        "\n",
        "UNION\n",
        "\n",
        "SELECT Capitanes.cnombre\n",
        "FROM Capitanes\n",
        "JOIN Reservas ON Capitanes.cid = Reservas.cid\n",
        "JOIN Botes ON Reservas.bid = Botes.bid\n",
        "WHERE Botes.bcolor = 'Verde';\n"
      ]
    },
    {
      "cell_type": "code",
      "source": [
        "%%sql\n",
        "SELECT Capitanes.cnombre\n",
        "FROM Capitanes\n",
        "JOIN Reservas ON Capitanes.cid = Reservas.cid\n",
        "JOIN Botes ON Reservas.bid = Botes.bid\n",
        "WHERE Botes.bcolor = 'Rojo'\n",
        "\n",
        "UNION ALL\n",
        "\n",
        "SELECT Capitanes.cnombre\n",
        "FROM Capitanes\n",
        "JOIN Reservas ON Capitanes.cid = Reservas.cid\n",
        "JOIN Botes ON Reservas.bid = Botes.bid\n",
        "WHERE Botes.bcolor = 'Verde';\n"
      ],
      "metadata": {
        "colab": {
          "base_uri": "https://localhost:8080/",
          "height": 242
        },
        "id": "hgiorlk8R034",
        "outputId": "6b49f299-5161-4e0b-af97-ea4c7f2beab8"
      },
      "execution_count": 36,
      "outputs": [
        {
          "output_type": "stream",
          "name": "stdout",
          "text": [
            " * sqlite:///capitanes.db\n",
            "Done.\n"
          ]
        },
        {
          "output_type": "execute_result",
          "data": {
            "text/plain": [
              "[('King Arturo',),\n",
              " ('King Arturo',),\n",
              " ('Andy',),\n",
              " ('Andy',),\n",
              " ('Isidora',),\n",
              " ('King Arturo',),\n",
              " ('Andy',),\n",
              " ('Isidora',)]"
            ],
            "text/html": [
              "<table>\n",
              "    <thead>\n",
              "        <tr>\n",
              "            <th>cnombre</th>\n",
              "        </tr>\n",
              "    </thead>\n",
              "    <tbody>\n",
              "        <tr>\n",
              "            <td>King Arturo</td>\n",
              "        </tr>\n",
              "        <tr>\n",
              "            <td>King Arturo</td>\n",
              "        </tr>\n",
              "        <tr>\n",
              "            <td>Andy</td>\n",
              "        </tr>\n",
              "        <tr>\n",
              "            <td>Andy</td>\n",
              "        </tr>\n",
              "        <tr>\n",
              "            <td>Isidora</td>\n",
              "        </tr>\n",
              "        <tr>\n",
              "            <td>King Arturo</td>\n",
              "        </tr>\n",
              "        <tr>\n",
              "            <td>Andy</td>\n",
              "        </tr>\n",
              "        <tr>\n",
              "            <td>Isidora</td>\n",
              "        </tr>\n",
              "    </tbody>\n",
              "</table>"
            ]
          },
          "metadata": {},
          "execution_count": 36
        }
      ]
    },
    {
      "cell_type": "markdown",
      "metadata": {
        "id": "JV550o9HVJpZ"
      },
      "source": [
        "**10.** Usa `AS` para cambiar de nombres a los atributos (esto es útil no solo para la unión!). La siguiente consulta entrega todos los ids del sistema:"
      ]
    },
    {
      "cell_type": "code",
      "execution_count": null,
      "metadata": {
        "id": "1W7kbs1GVJpa"
      },
      "outputs": [],
      "source": [
        "%%sql\n",
        "SELECT cid AS id\n",
        "FROM  Capitanes\n",
        "UNION\n",
        "SELECT bid AS id\n",
        "FROM Botes"
      ]
    },
    {
      "cell_type": "markdown",
      "metadata": {
        "id": "9PQKq5HAVJpb"
      },
      "source": [
        "**11.** Los nombres de los capitanes que reservaron un bote rojo y un bote verde. Puedes usar `INTERSECT` para intersectar el resultado de dos consultas. ¿Puedes escribir también esta consulta usando AND?"
      ]
    },
    {
      "cell_type": "code",
      "execution_count": 37,
      "metadata": {
        "colab": {
          "base_uri": "https://localhost:8080/",
          "height": 158
        },
        "id": "Ttt2FagPVJpb",
        "outputId": "9daf926b-069b-480e-a140-ea5f0abd23c7"
      },
      "outputs": [
        {
          "output_type": "stream",
          "name": "stdout",
          "text": [
            " * sqlite:///capitanes.db\n",
            "Done.\n"
          ]
        },
        {
          "output_type": "execute_result",
          "data": {
            "text/plain": [
              "[('King Arturo',), ('King Arturo',), ('Andy',), ('Andy',)]"
            ],
            "text/html": [
              "<table>\n",
              "    <thead>\n",
              "        <tr>\n",
              "            <th>cnombre</th>\n",
              "        </tr>\n",
              "    </thead>\n",
              "    <tbody>\n",
              "        <tr>\n",
              "            <td>King Arturo</td>\n",
              "        </tr>\n",
              "        <tr>\n",
              "            <td>King Arturo</td>\n",
              "        </tr>\n",
              "        <tr>\n",
              "            <td>Andy</td>\n",
              "        </tr>\n",
              "        <tr>\n",
              "            <td>Andy</td>\n",
              "        </tr>\n",
              "    </tbody>\n",
              "</table>"
            ]
          },
          "metadata": {},
          "execution_count": 37
        }
      ],
      "source": [
        "%%sql\n",
        "SELECT Capitanes.cnombre\n",
        "FROM Capitanes\n",
        "JOIN Reservas AS R1 ON Capitanes.cid = R1.cid\n",
        "JOIN Reservas AS R2 ON Capitanes.cid = R2.cid\n",
        "JOIN Botes AS B1 ON R1.bid = B1.bid\n",
        "JOIN Botes AS B2 ON R2.bid = B2.bid\n",
        "WHERE B1.bcolor = 'Rojo'\n",
        "AND B2.bcolor = 'Verde';"
      ]
    },
    {
      "cell_type": "markdown",
      "metadata": {
        "id": "tQDW0AhmVJpc"
      },
      "source": [
        "### Sub-consultas y consultas anidadas\n",
        "\n",
        "Has observado que cada consulta entrega una tabla, los atributos de esa tabla son lo que pones en el `SELECT`. Esto significa que podemos poner cualquier consulta SQL en el `FROM`. Vamos a ver cómo realizar esto.\n",
        "\n",
        "**12.** Escribe una consulta que entregue los nombres de los capitanes junto a los bid de los botes que han reservado, pero contando solo las reservas hechas después del primero de octubre del 2017."
      ]
    },
    {
      "cell_type": "code",
      "execution_count": 38,
      "metadata": {
        "colab": {
          "base_uri": "https://localhost:8080/",
          "height": 200
        },
        "id": "u7y5Zip9VJpd",
        "outputId": "8728510b-75c6-4834-eea3-2c0149f36d3a"
      },
      "outputs": [
        {
          "output_type": "stream",
          "name": "stdout",
          "text": [
            " * sqlite:///capitanes.db\n",
            "Done.\n"
          ]
        },
        {
          "output_type": "execute_result",
          "data": {
            "text/plain": [
              "[('Andy', 102),\n",
              " ('Andy', 103),\n",
              " ('Andy', 104),\n",
              " ('Isidora', 101),\n",
              " ('Isidora', 102),\n",
              " ('Isidora', 103)]"
            ],
            "text/html": [
              "<table>\n",
              "    <thead>\n",
              "        <tr>\n",
              "            <th>cnombre</th>\n",
              "            <th>bid</th>\n",
              "        </tr>\n",
              "    </thead>\n",
              "    <tbody>\n",
              "        <tr>\n",
              "            <td>Andy</td>\n",
              "            <td>102</td>\n",
              "        </tr>\n",
              "        <tr>\n",
              "            <td>Andy</td>\n",
              "            <td>103</td>\n",
              "        </tr>\n",
              "        <tr>\n",
              "            <td>Andy</td>\n",
              "            <td>104</td>\n",
              "        </tr>\n",
              "        <tr>\n",
              "            <td>Isidora</td>\n",
              "            <td>101</td>\n",
              "        </tr>\n",
              "        <tr>\n",
              "            <td>Isidora</td>\n",
              "            <td>102</td>\n",
              "        </tr>\n",
              "        <tr>\n",
              "            <td>Isidora</td>\n",
              "            <td>103</td>\n",
              "        </tr>\n",
              "    </tbody>\n",
              "</table>"
            ]
          },
          "metadata": {},
          "execution_count": 38
        }
      ],
      "source": [
        "%%sql\n",
        "SELECT Capitanes.cnombre, Reservas.bid\n",
        "FROM Capitanes\n",
        "JOIN Reservas ON Capitanes.cid = Reservas.cid\n",
        "WHERE Reservas.fecha > '2017-10-01';\n"
      ]
    },
    {
      "cell_type": "markdown",
      "metadata": {
        "id": "GOEf5yNiVJpd"
      },
      "source": [
        "Sea $Q$ la consulta anterior. ¿Qué va a retornar la siguiente consulta? (Ojo, tienes que reemplazar el valor de $Q$ en la celda siguiente)"
      ]
    },
    {
      "cell_type": "code",
      "execution_count": 41,
      "metadata": {
        "colab": {
          "base_uri": "https://localhost:8080/",
          "height": 284
        },
        "id": "F0BnodEZVJpe",
        "outputId": "4e8ebbb3-4b03-4346-87da-542eff6959fb"
      },
      "outputs": [
        {
          "output_type": "stream",
          "name": "stdout",
          "text": [
            " * sqlite:///capitanes.db\n",
            "Done.\n"
          ]
        },
        {
          "output_type": "execute_result",
          "data": {
            "text/plain": [
              "[(101, 'Catamaran', 'Azul'),\n",
              " (102, 'Catamaran', 'Rojo'),\n",
              " (103, 'Endurance', 'Verde'),\n",
              " (104, 'Yate', 'Rojo'),\n",
              " (102, 'Catamaran', 'Rojo'),\n",
              " (103, 'Endurance', 'Verde'),\n",
              " (104, 'Yate', 'Rojo'),\n",
              " (101, 'Catamaran', 'Azul'),\n",
              " (102, 'Catamaran', 'Rojo'),\n",
              " (103, 'Endurance', 'Verde')]"
            ],
            "text/html": [
              "<table>\n",
              "    <thead>\n",
              "        <tr>\n",
              "            <th>bid</th>\n",
              "            <th>bnombre</th>\n",
              "            <th>bcolor</th>\n",
              "        </tr>\n",
              "    </thead>\n",
              "    <tbody>\n",
              "        <tr>\n",
              "            <td>101</td>\n",
              "            <td>Catamaran</td>\n",
              "            <td>Azul</td>\n",
              "        </tr>\n",
              "        <tr>\n",
              "            <td>102</td>\n",
              "            <td>Catamaran</td>\n",
              "            <td>Rojo</td>\n",
              "        </tr>\n",
              "        <tr>\n",
              "            <td>103</td>\n",
              "            <td>Endurance</td>\n",
              "            <td>Verde</td>\n",
              "        </tr>\n",
              "        <tr>\n",
              "            <td>104</td>\n",
              "            <td>Yate</td>\n",
              "            <td>Rojo</td>\n",
              "        </tr>\n",
              "        <tr>\n",
              "            <td>102</td>\n",
              "            <td>Catamaran</td>\n",
              "            <td>Rojo</td>\n",
              "        </tr>\n",
              "        <tr>\n",
              "            <td>103</td>\n",
              "            <td>Endurance</td>\n",
              "            <td>Verde</td>\n",
              "        </tr>\n",
              "        <tr>\n",
              "            <td>104</td>\n",
              "            <td>Yate</td>\n",
              "            <td>Rojo</td>\n",
              "        </tr>\n",
              "        <tr>\n",
              "            <td>101</td>\n",
              "            <td>Catamaran</td>\n",
              "            <td>Azul</td>\n",
              "        </tr>\n",
              "        <tr>\n",
              "            <td>102</td>\n",
              "            <td>Catamaran</td>\n",
              "            <td>Rojo</td>\n",
              "        </tr>\n",
              "        <tr>\n",
              "            <td>103</td>\n",
              "            <td>Endurance</td>\n",
              "            <td>Verde</td>\n",
              "        </tr>\n",
              "    </tbody>\n",
              "</table>"
            ]
          },
          "metadata": {},
          "execution_count": 41
        }
      ],
      "source": [
        "%%sql\n",
        "SELECT Botes.bid, bnombre, bcolor\n",
        "FROM Botes, (Reservas) AS Res2017\n",
        "WHERE Botes.bid = Res2017.bid"
      ]
    },
    {
      "cell_type": "markdown",
      "metadata": {
        "id": "Q-vwseNPVJpf"
      },
      "source": [
        "**Importante**: cada vez que quieras anidar una consulta en el `FROM`, debes darle un alias. En el caso anterior el alias es Res2017.\n",
        "\n",
        "**13.** Ahora modifica $Q$ para que solo retorne los bid de los botes, y no los nombres de los capitanes. ¿Qué retorna la consulta a continuación? ¿Qué pasa si Q entrega dos atributos en vez de uno (es decir, usando $Q$ sin modificar)? ¿Por qué pasa esto?"
      ]
    },
    {
      "cell_type": "code",
      "execution_count": 42,
      "metadata": {
        "colab": {
          "base_uri": "https://localhost:8080/"
        },
        "id": "CYK1Q-6ZVJpg",
        "outputId": "a37e9ed3-5b3d-4e71-bda4-f7952e5cb70c"
      },
      "outputs": [
        {
          "output_type": "stream",
          "name": "stdout",
          "text": [
            " * sqlite:///capitanes.db\n",
            "(sqlite3.OperationalError) sub-select returns 3 columns - expected 1\n",
            "[SQL: SELECT Botes.bid, bnombre, bcolor\n",
            "FROM Botes\n",
            "WHERE Botes.bid IN Reservas]\n",
            "(Background on this error at: https://sqlalche.me/e/20/e3q8)\n"
          ]
        }
      ],
      "source": [
        "%%sql\n",
        "SELECT Botes.bid, bnombre, bcolor\n",
        "FROM Botes\n",
        "WHERE Botes.bid IN Q"
      ]
    },
    {
      "cell_type": "markdown",
      "metadata": {
        "id": "7oUhLGEQVJpg"
      },
      "source": [
        "También podemos usar consultas anidadas en el `WHERE`. Además del `IN` podemos usar `NOT IN`, o `> ANY`, `> ALL` para cualquier comparación entre `<`, `>`, `<=`, `>=`, `=`, y también anteponiendo `NOT`.\n",
        "\n",
        "**Ojo**: `ANY` y `All` no funcionan en SQLite, pero es muy común en los otros sistemas.\n",
        "\n",
        "Por ejemplo, si queremos encontrar los capitanes que no han reservado un bote verde:\n",
        "\n",
        "1. Primero escribe una consulta que entregue los `cid` de los capitanes que han reservado un bote verde.\n",
        "2. Sea $Q$ la consulta anterior. Los capitanes que no han reservado un bote verde se pueden extraer remplazando $Q$ en:"
      ]
    },
    {
      "cell_type": "code",
      "execution_count": null,
      "metadata": {
        "id": "EAOvFpR8VJph"
      },
      "outputs": [],
      "source": [
        "%%sql\n",
        "SELECT cnombre\n",
        "FROM capitanes\n",
        "WHERE cid NOT IN (Q)"
      ]
    },
    {
      "cell_type": "markdown",
      "metadata": {
        "id": "xZgLzzk5VJpi"
      },
      "source": [
        "Ahora:\n",
        "\n",
        "**14.** Encuentre los nombres de los capitanes que tienen más de 20 años y que no han reservado un bote rojo. ¿Puedes escribir esto sin usar consultas anidadas?"
      ]
    },
    {
      "cell_type": "code",
      "execution_count": 43,
      "metadata": {
        "colab": {
          "base_uri": "https://localhost:8080/",
          "height": 200
        },
        "id": "fyrK_4CcVJpj",
        "outputId": "812c9f69-2290-4ce0-fed3-e4cc0ed16713"
      },
      "outputs": [
        {
          "output_type": "stream",
          "name": "stdout",
          "text": [
            " * sqlite:///capitanes.db\n",
            "Done.\n"
          ]
        },
        {
          "output_type": "execute_result",
          "data": {
            "text/plain": [
              "[('Juan',), ('Felipe',), ('Oscar',), ('Isidora',), ('Rosa',), ('Romano',)]"
            ],
            "text/html": [
              "<table>\n",
              "    <thead>\n",
              "        <tr>\n",
              "            <th>cnombre</th>\n",
              "        </tr>\n",
              "    </thead>\n",
              "    <tbody>\n",
              "        <tr>\n",
              "            <td>Juan</td>\n",
              "        </tr>\n",
              "        <tr>\n",
              "            <td>Felipe</td>\n",
              "        </tr>\n",
              "        <tr>\n",
              "            <td>Oscar</td>\n",
              "        </tr>\n",
              "        <tr>\n",
              "            <td>Isidora</td>\n",
              "        </tr>\n",
              "        <tr>\n",
              "            <td>Rosa</td>\n",
              "        </tr>\n",
              "        <tr>\n",
              "            <td>Romano</td>\n",
              "        </tr>\n",
              "    </tbody>\n",
              "</table>"
            ]
          },
          "metadata": {},
          "execution_count": 43
        }
      ],
      "source": [
        "%%sql\n",
        "SELECT Capitanes.cnombre\n",
        "FROM Capitanes\n",
        "WHERE Capitanes.cedad > 20\n",
        "AND NOT EXISTS (\n",
        "    SELECT 1\n",
        "    FROM Reservas\n",
        "    JOIN Botes ON Reservas.bid = Botes.bid\n",
        "    WHERE Reservas.cid = Capitanes.cid\n",
        "    AND Botes.bcolor = 'Rojo'\n",
        ");\n"
      ]
    },
    {
      "cell_type": "markdown",
      "metadata": {
        "id": "v6KzH32fVJpk"
      },
      "source": [
        "**15.** Encuentre los nombres de los capitanes que reservaron al menos dos botes."
      ]
    },
    {
      "cell_type": "code",
      "execution_count": 44,
      "metadata": {
        "colab": {
          "base_uri": "https://localhost:8080/",
          "height": 137
        },
        "id": "rGMd1RJdVJpl",
        "outputId": "d2f89f62-0aca-4946-a5f3-42bde4274f9c"
      },
      "outputs": [
        {
          "output_type": "stream",
          "name": "stdout",
          "text": [
            " * sqlite:///capitanes.db\n",
            "Done.\n"
          ]
        },
        {
          "output_type": "execute_result",
          "data": {
            "text/plain": [
              "[('King Arturo',), ('Andy',), ('Isidora',)]"
            ],
            "text/html": [
              "<table>\n",
              "    <thead>\n",
              "        <tr>\n",
              "            <th>cnombre</th>\n",
              "        </tr>\n",
              "    </thead>\n",
              "    <tbody>\n",
              "        <tr>\n",
              "            <td>King Arturo</td>\n",
              "        </tr>\n",
              "        <tr>\n",
              "            <td>Andy</td>\n",
              "        </tr>\n",
              "        <tr>\n",
              "            <td>Isidora</td>\n",
              "        </tr>\n",
              "    </tbody>\n",
              "</table>"
            ]
          },
          "metadata": {},
          "execution_count": 44
        }
      ],
      "source": [
        "%%sql\n",
        "SELECT Capitanes.cnombre\n",
        "FROM Capitanes\n",
        "JOIN Reservas ON Capitanes.cid = Reservas.cid\n",
        "GROUP BY Capitanes.cid, Capitanes.cnombre\n",
        "HAVING COUNT(Reservas.bid) >= 2;\n"
      ]
    },
    {
      "cell_type": "markdown",
      "metadata": {
        "id": "GLnvlTZNVJpl"
      },
      "source": [
        "**16.** Encuentre los nombres de los capitanes que han reservado todos los botes. ¿Puedes escribir esto sin usar consultas anidadas?"
      ]
    },
    {
      "cell_type": "code",
      "execution_count": 45,
      "metadata": {
        "colab": {
          "base_uri": "https://localhost:8080/",
          "height": 95
        },
        "id": "LlQwqLVeVJpm",
        "outputId": "eff5f07c-872a-426c-f4b3-1266e989999c"
      },
      "outputs": [
        {
          "output_type": "stream",
          "name": "stdout",
          "text": [
            " * sqlite:///capitanes.db\n",
            "Done.\n"
          ]
        },
        {
          "output_type": "execute_result",
          "data": {
            "text/plain": [
              "[('King Arturo',)]"
            ],
            "text/html": [
              "<table>\n",
              "    <thead>\n",
              "        <tr>\n",
              "            <th>cnombre</th>\n",
              "        </tr>\n",
              "    </thead>\n",
              "    <tbody>\n",
              "        <tr>\n",
              "            <td>King Arturo</td>\n",
              "        </tr>\n",
              "    </tbody>\n",
              "</table>"
            ]
          },
          "metadata": {},
          "execution_count": 45
        }
      ],
      "source": [
        "%%sql\n",
        "SELECT Capitanes.cnombre\n",
        "FROM Capitanes\n",
        "JOIN Reservas ON Capitanes.cid = Reservas.cid\n",
        "GROUP BY Capitanes.cid, Capitanes.cnombre\n",
        "HAVING COUNT(DISTINCT Reservas.bid) = (SELECT COUNT(*) FROM Botes);\n"
      ]
    },
    {
      "cell_type": "markdown",
      "metadata": {
        "id": "mhpVpfLBVJpn"
      },
      "source": [
        "### Agregación\n",
        "\n",
        "¿Qué pasa si queremos el capitán con el mejor rating? Primero, podemos obtener el mejor rating con la siguiente consulta:"
      ]
    },
    {
      "cell_type": "code",
      "execution_count": null,
      "metadata": {
        "id": "1m8x2HxnVJpn"
      },
      "outputs": [],
      "source": [
        "%%sql\n",
        "SELECT MAX(crating)\n",
        "FROM Capitanes"
      ]
    },
    {
      "cell_type": "markdown",
      "metadata": {
        "id": "fYAOOooMVJpo"
      },
      "source": [
        "Luego seleccionamos los nombres de aquellos capitanes con ese rating:"
      ]
    },
    {
      "cell_type": "code",
      "execution_count": 44,
      "metadata": {
        "colab": {
          "base_uri": "https://localhost:8080/",
          "height": 116
        },
        "id": "KQLT8aCAVJpo",
        "outputId": "619bc8c5-c4b5-447e-f892-310e8052b4f5"
      },
      "outputs": [
        {
          "output_type": "stream",
          "name": "stdout",
          "text": [
            " * sqlite:///capitanes.db\n",
            "Done.\n"
          ]
        },
        {
          "output_type": "execute_result",
          "data": {
            "text/plain": [
              "[('Oscar',), ('Pedro',)]"
            ],
            "text/html": [
              "<table>\n",
              "    <thead>\n",
              "        <tr>\n",
              "            <th>cnombre</th>\n",
              "        </tr>\n",
              "    </thead>\n",
              "    <tbody>\n",
              "        <tr>\n",
              "            <td>Oscar</td>\n",
              "        </tr>\n",
              "        <tr>\n",
              "            <td>Pedro</td>\n",
              "        </tr>\n",
              "    </tbody>\n",
              "</table>"
            ]
          },
          "metadata": {},
          "execution_count": 44
        }
      ],
      "source": [
        "%%sql\n",
        "SELECT cnombre\n",
        "FROM Capitanes\n",
        "WHERE crating = (SELECT MAX(crating) FROM Capitanes)"
      ]
    },
    {
      "cell_type": "markdown",
      "metadata": {
        "id": "JQnfclH5VJpp"
      },
      "source": [
        "En general SQL soporta varias funciones de agregación: `MAX`, `MIN` (mínimo), `AVG` (promedio), `SUM` (suma). Intenta hacer las siguientes consultas:\n",
        "\n",
        "**17.** Encuentra el rating promedio de los capitanes mayores a 45 años."
      ]
    },
    {
      "cell_type": "code",
      "execution_count": 40,
      "metadata": {
        "colab": {
          "base_uri": "https://localhost:8080/",
          "height": 95
        },
        "id": "-mHtYiUeVJpq",
        "outputId": "11c301c2-1b2f-4014-f5f5-051f1bbdab68"
      },
      "outputs": [
        {
          "output_type": "stream",
          "name": "stdout",
          "text": [
            " * sqlite:///capitanes.db\n",
            "Done.\n"
          ]
        },
        {
          "output_type": "execute_result",
          "data": {
            "text/plain": [
              "[(6.75,)]"
            ],
            "text/html": [
              "<table>\n",
              "    <thead>\n",
              "        <tr>\n",
              "            <th>AVG(crating)</th>\n",
              "        </tr>\n",
              "    </thead>\n",
              "    <tbody>\n",
              "        <tr>\n",
              "            <td>6.75</td>\n",
              "        </tr>\n",
              "    </tbody>\n",
              "</table>"
            ]
          },
          "metadata": {},
          "execution_count": 40
        }
      ],
      "source": [
        "%%sql\n",
        "SELECT AVG(crating)\n",
        "FROM Capitanes\n",
        "WHERE cedad > 45;"
      ]
    },
    {
      "cell_type": "markdown",
      "metadata": {
        "id": "Co0HqqriVJpq"
      },
      "source": [
        "**18.** Encuentra los capitanes cuya edad es menor que el promedio."
      ]
    },
    {
      "cell_type": "code",
      "execution_count": 37,
      "metadata": {
        "colab": {
          "base_uri": "https://localhost:8080/",
          "height": 242
        },
        "id": "CaaCXfWcVJpr",
        "outputId": "143c7860-b7ea-487f-fce0-10658c201d6d"
      },
      "outputs": [
        {
          "output_type": "stream",
          "name": "stdout",
          "text": [
            " * sqlite:///capitanes.db\n",
            "Done.\n"
          ]
        },
        {
          "output_type": "execute_result",
          "data": {
            "text/plain": [
              "[(23, 'King Arturo', 8.0, 31),\n",
              " (29, 'Juan', 1.0, 33),\n",
              " (32, 'Felipe', 8.4, 25),\n",
              " (58, 'Oscar', 10.0, 35),\n",
              " (64, 'Isidora', 7.5, 35),\n",
              " (71, 'Pedro', 10.0, 16),\n",
              " (74, 'Isidora', 9.0, 35),\n",
              " (85, 'Rosa', 3.0, 25)]"
            ],
            "text/html": [
              "<table>\n",
              "    <thead>\n",
              "        <tr>\n",
              "            <th>cid</th>\n",
              "            <th>cnombre</th>\n",
              "            <th>crating</th>\n",
              "            <th>cedad</th>\n",
              "        </tr>\n",
              "    </thead>\n",
              "    <tbody>\n",
              "        <tr>\n",
              "            <td>23</td>\n",
              "            <td>King Arturo</td>\n",
              "            <td>8.0</td>\n",
              "            <td>31</td>\n",
              "        </tr>\n",
              "        <tr>\n",
              "            <td>29</td>\n",
              "            <td>Juan</td>\n",
              "            <td>1.0</td>\n",
              "            <td>33</td>\n",
              "        </tr>\n",
              "        <tr>\n",
              "            <td>32</td>\n",
              "            <td>Felipe</td>\n",
              "            <td>8.4</td>\n",
              "            <td>25</td>\n",
              "        </tr>\n",
              "        <tr>\n",
              "            <td>58</td>\n",
              "            <td>Oscar</td>\n",
              "            <td>10.0</td>\n",
              "            <td>35</td>\n",
              "        </tr>\n",
              "        <tr>\n",
              "            <td>64</td>\n",
              "            <td>Isidora</td>\n",
              "            <td>7.5</td>\n",
              "            <td>35</td>\n",
              "        </tr>\n",
              "        <tr>\n",
              "            <td>71</td>\n",
              "            <td>Pedro</td>\n",
              "            <td>10.0</td>\n",
              "            <td>16</td>\n",
              "        </tr>\n",
              "        <tr>\n",
              "            <td>74</td>\n",
              "            <td>Isidora</td>\n",
              "            <td>9.0</td>\n",
              "            <td>35</td>\n",
              "        </tr>\n",
              "        <tr>\n",
              "            <td>85</td>\n",
              "            <td>Rosa</td>\n",
              "            <td>3.0</td>\n",
              "            <td>25</td>\n",
              "        </tr>\n",
              "    </tbody>\n",
              "</table>"
            ]
          },
          "metadata": {},
          "execution_count": 37
        }
      ],
      "source": [
        "%%sql\n",
        "SELECT *\n",
        "FROM Capitanes\n",
        "WHERE cedad < (SELECT AVG(cedad) FROM Capitanes);\n"
      ]
    },
    {
      "cell_type": "markdown",
      "metadata": {
        "id": "sd_iEEweVJps"
      },
      "source": [
        "**19.** Encuentra los botes que no han sido reservados por el capitán con peor rating."
      ]
    },
    {
      "cell_type": "code",
      "execution_count": 45,
      "metadata": {
        "colab": {
          "base_uri": "https://localhost:8080/",
          "height": 158
        },
        "id": "2DyOiEP7VJps",
        "outputId": "57d88962-3e88-4341-f3c3-0f5c4b589a57"
      },
      "outputs": [
        {
          "output_type": "stream",
          "name": "stdout",
          "text": [
            " * sqlite:///capitanes.db\n",
            "Done.\n"
          ]
        },
        {
          "output_type": "execute_result",
          "data": {
            "text/plain": [
              "[(101, 'Catamaran', 'Azul'),\n",
              " (102, 'Catamaran', 'Rojo'),\n",
              " (103, 'Endurance', 'Verde'),\n",
              " (104, 'Yate', 'Rojo')]"
            ],
            "text/html": [
              "<table>\n",
              "    <thead>\n",
              "        <tr>\n",
              "            <th>bid</th>\n",
              "            <th>bnombre</th>\n",
              "            <th>bcolor</th>\n",
              "        </tr>\n",
              "    </thead>\n",
              "    <tbody>\n",
              "        <tr>\n",
              "            <td>101</td>\n",
              "            <td>Catamaran</td>\n",
              "            <td>Azul</td>\n",
              "        </tr>\n",
              "        <tr>\n",
              "            <td>102</td>\n",
              "            <td>Catamaran</td>\n",
              "            <td>Rojo</td>\n",
              "        </tr>\n",
              "        <tr>\n",
              "            <td>103</td>\n",
              "            <td>Endurance</td>\n",
              "            <td>Verde</td>\n",
              "        </tr>\n",
              "        <tr>\n",
              "            <td>104</td>\n",
              "            <td>Yate</td>\n",
              "            <td>Rojo</td>\n",
              "        </tr>\n",
              "    </tbody>\n",
              "</table>"
            ]
          },
          "metadata": {},
          "execution_count": 45
        }
      ],
      "source": [
        "%%sql\n",
        "SELECT *\n",
        "FROM Botes\n",
        "WHERE bid NOT IN (\n",
        "SELECT DISTINCT r.bid\n",
        "FROM Reservas r\n",
        "JOIN Capitanes c ON r.cid = c.cid\n",
        "WHERE c.crating = (SELECT MIN(crating) FROM Capitanes));\n"
      ]
    },
    {
      "cell_type": "markdown",
      "metadata": {
        "id": "xBfqJ_g5VJpt"
      },
      "source": [
        "También podemos usar `COUNT` para contar tuplas. Hay dos versiones (pruébalas!):\n",
        "\n",
        "- `SELECT COUNT(*) FROM Tabla` cuenta cuantas tuplas tiene la tabla.\n",
        "- `SELECT COUNT(DISTINCT cnombre) FROM Capitanes` cuenta cuantos nombres distintos hay en Capitanes.\n",
        "\n",
        "En general `SELECT COUNT(*) FROM Tabla` y S`ELECT COUNT(atributo) FROM Tabla` es lo mismo, pero hay casos en los que es distinto: cuando las tablas tienen valores nulos o indefinidos. Hablaremos sobre esto más adelante en el curso.\n",
        "\n",
        "Ahora realiza las siguientes consultas."
      ]
    },
    {
      "cell_type": "markdown",
      "metadata": {
        "id": "U-1Lv0HhVJpu"
      },
      "source": [
        "**20.** Encuentra cuantos capitanes menores de 40 años hay."
      ]
    },
    {
      "cell_type": "code",
      "execution_count": 47,
      "metadata": {
        "colab": {
          "base_uri": "https://localhost:8080/",
          "height": 95
        },
        "id": "XR0ji1LNVJpu",
        "outputId": "fd695b85-07b4-43d4-9389-0d1ab8ba2be4"
      },
      "outputs": [
        {
          "output_type": "stream",
          "name": "stdout",
          "text": [
            " * sqlite:///capitanes.db\n",
            "Done.\n"
          ]
        },
        {
          "output_type": "execute_result",
          "data": {
            "text/plain": [
              "[(8,)]"
            ],
            "text/html": [
              "<table>\n",
              "    <thead>\n",
              "        <tr>\n",
              "            <th>Cap_menosres_de_40</th>\n",
              "        </tr>\n",
              "    </thead>\n",
              "    <tbody>\n",
              "        <tr>\n",
              "            <td>8</td>\n",
              "        </tr>\n",
              "    </tbody>\n",
              "</table>"
            ]
          },
          "metadata": {},
          "execution_count": 47
        }
      ],
      "source": [
        "%%sql\n",
        "SELECT COUNT(*) AS Cap_menosres_de_40\n",
        "FROM Capitanes\n",
        "WHERE cedad < 40;"
      ]
    },
    {
      "cell_type": "markdown",
      "metadata": {
        "id": "6jOUtltTVJpv"
      },
      "source": [
        "**21.** Cuenta la cantidad de reservas hechas a botes de color rojo."
      ]
    },
    {
      "cell_type": "code",
      "execution_count": 48,
      "metadata": {
        "colab": {
          "base_uri": "https://localhost:8080/",
          "height": 95
        },
        "id": "hS1QjvRoVJpw",
        "outputId": "fd075565-8d0e-49cc-bf16-a7435f556732"
      },
      "outputs": [
        {
          "output_type": "stream",
          "name": "stdout",
          "text": [
            " * sqlite:///capitanes.db\n",
            "Done.\n"
          ]
        },
        {
          "output_type": "execute_result",
          "data": {
            "text/plain": [
              "[(5,)]"
            ],
            "text/html": [
              "<table>\n",
              "    <thead>\n",
              "        <tr>\n",
              "            <th>Cant_de_Reservas</th>\n",
              "        </tr>\n",
              "    </thead>\n",
              "    <tbody>\n",
              "        <tr>\n",
              "            <td>5</td>\n",
              "        </tr>\n",
              "    </tbody>\n",
              "</table>"
            ]
          },
          "metadata": {},
          "execution_count": 48
        }
      ],
      "source": [
        "%%sql\n",
        "SELECT COUNT(*) AS Cant_de_Reservas\n",
        "FROM Reservas r\n",
        "JOIN Botes b ON r.bid = b.bid\n",
        "WHERE b.bcolor = 'Rojo';\n"
      ]
    },
    {
      "cell_type": "markdown",
      "metadata": {
        "id": "F_90a4UnVJpw"
      },
      "source": [
        "**22.** Cuenta cuantos capitanes tienen rating mayor al promedio y luego cuantos capitanes tienen rating menor al promedio."
      ]
    },
    {
      "cell_type": "code",
      "execution_count": 49,
      "metadata": {
        "colab": {
          "base_uri": "https://localhost:8080/",
          "height": 95
        },
        "id": "yEm6yISmVJpx",
        "outputId": "03c560ce-6f83-451d-c83f-744eba67e313"
      },
      "outputs": [
        {
          "output_type": "stream",
          "name": "stdout",
          "text": [
            " * sqlite:///capitanes.db\n",
            "Done.\n"
          ]
        },
        {
          "output_type": "execute_result",
          "data": {
            "text/plain": [
              "[(7,)]"
            ],
            "text/html": [
              "<table>\n",
              "    <thead>\n",
              "        <tr>\n",
              "            <th>Cap_mayor_promedio</th>\n",
              "        </tr>\n",
              "    </thead>\n",
              "    <tbody>\n",
              "        <tr>\n",
              "            <td>7</td>\n",
              "        </tr>\n",
              "    </tbody>\n",
              "</table>"
            ]
          },
          "metadata": {},
          "execution_count": 49
        }
      ],
      "source": [
        "%%sql\n",
        "SELECT COUNT(*) AS Cap_mayor_promedio\n",
        "FROM Capitanes\n",
        "WHERE crating > (SELECT AVG(crating) FROM Capitanes);"
      ]
    },
    {
      "cell_type": "markdown",
      "metadata": {
        "id": "_hldatCpVJpx"
      },
      "source": [
        "Finalmente podemos usar `GROUP BY` para ir agrupando los resultados. Prueba con la consulta:"
      ]
    },
    {
      "cell_type": "code",
      "execution_count": null,
      "metadata": {
        "id": "3cVdkLP9VJpy"
      },
      "outputs": [],
      "source": [
        "%%sql\n",
        "SELECT cnombre, SUM(cedad)\n",
        "FROM Capitanes\n",
        "GROUP BY cnombre"
      ]
    },
    {
      "cell_type": "markdown",
      "metadata": {
        "id": "cC9K-GzbVJpz"
      },
      "source": [
        "¿Qué pasó con Isidora? Lo que hacemos es agrupar a las dos tuplas con nombre Isidora en una, y sumamos la edad. Prueba ahora:"
      ]
    },
    {
      "cell_type": "code",
      "execution_count": null,
      "metadata": {
        "id": "iXgC9_B-VJp0"
      },
      "outputs": [],
      "source": [
        "%%sql\n",
        "SELECT bcolor, count(bcolor)\n",
        "FROM Botes\n",
        "GROUP BY bcolor"
      ]
    },
    {
      "cell_type": "markdown",
      "metadata": {
        "id": "g3JO_ErBVJp1"
      },
      "source": [
        "Ahora realiza las siguientes consultas:\n",
        "\n",
        "**23.** Encuentra para los capitanes el promedio del ranking por cada edad distinta."
      ]
    },
    {
      "cell_type": "code",
      "execution_count": 51,
      "metadata": {
        "colab": {
          "base_uri": "https://localhost:8080/",
          "height": 221
        },
        "id": "McjzLR8nVJp1",
        "outputId": "45ae1b85-0db5-499e-ea24-9d67305dee59"
      },
      "outputs": [
        {
          "output_type": "stream",
          "name": "stdout",
          "text": [
            " * sqlite:///capitanes.db\n",
            "Done.\n"
          ]
        },
        {
          "output_type": "execute_result",
          "data": {
            "text/plain": [
              "[(16, 10.0),\n",
              " (25, 5.7),\n",
              " (31, 8.0),\n",
              " (33, 1.0),\n",
              " (35, 8.833333333333334),\n",
              " (55, 8.0),\n",
              " (63, 5.5)]"
            ],
            "text/html": [
              "<table>\n",
              "    <thead>\n",
              "        <tr>\n",
              "            <th>Edad_capitan</th>\n",
              "            <th>Prom_del_ranking</th>\n",
              "        </tr>\n",
              "    </thead>\n",
              "    <tbody>\n",
              "        <tr>\n",
              "            <td>16</td>\n",
              "            <td>10.0</td>\n",
              "        </tr>\n",
              "        <tr>\n",
              "            <td>25</td>\n",
              "            <td>5.7</td>\n",
              "        </tr>\n",
              "        <tr>\n",
              "            <td>31</td>\n",
              "            <td>8.0</td>\n",
              "        </tr>\n",
              "        <tr>\n",
              "            <td>33</td>\n",
              "            <td>1.0</td>\n",
              "        </tr>\n",
              "        <tr>\n",
              "            <td>35</td>\n",
              "            <td>8.833333333333334</td>\n",
              "        </tr>\n",
              "        <tr>\n",
              "            <td>55</td>\n",
              "            <td>8.0</td>\n",
              "        </tr>\n",
              "        <tr>\n",
              "            <td>63</td>\n",
              "            <td>5.5</td>\n",
              "        </tr>\n",
              "    </tbody>\n",
              "</table>"
            ]
          },
          "metadata": {},
          "execution_count": 51
        }
      ],
      "source": [
        "%%sql\n",
        "SELECT cedad AS Edad_capitan,AVG(crating) AS Prom_del_ranking\n",
        "FROM Capitanes\n",
        "GROUP BY cedad;"
      ]
    },
    {
      "cell_type": "markdown",
      "metadata": {
        "id": "njJdLXbyVJp2"
      },
      "source": [
        "**24.** Encuentra el número de reservas por cada color de bote."
      ]
    },
    {
      "cell_type": "code",
      "execution_count": 52,
      "metadata": {
        "colab": {
          "base_uri": "https://localhost:8080/",
          "height": 137
        },
        "id": "7LavSTSKVJp3",
        "outputId": "0809b656-e614-400a-cf31-f7cd12c6363b"
      },
      "outputs": [
        {
          "output_type": "stream",
          "name": "stdout",
          "text": [
            " * sqlite:///capitanes.db\n",
            "Done.\n"
          ]
        },
        {
          "output_type": "execute_result",
          "data": {
            "text/plain": [
              "[('Azul', 2), ('Rojo', 5), ('Verde', 3)]"
            ],
            "text/html": [
              "<table>\n",
              "    <thead>\n",
              "        <tr>\n",
              "            <th>Color_bote</th>\n",
              "            <th>Numero_reservas</th>\n",
              "        </tr>\n",
              "    </thead>\n",
              "    <tbody>\n",
              "        <tr>\n",
              "            <td>Azul</td>\n",
              "            <td>2</td>\n",
              "        </tr>\n",
              "        <tr>\n",
              "            <td>Rojo</td>\n",
              "            <td>5</td>\n",
              "        </tr>\n",
              "        <tr>\n",
              "            <td>Verde</td>\n",
              "            <td>3</td>\n",
              "        </tr>\n",
              "    </tbody>\n",
              "</table>"
            ]
          },
          "metadata": {},
          "execution_count": 52
        }
      ],
      "source": [
        "%%sql\n",
        "SELECT bcolor AS Color_bote,COUNT(*) AS Numero_reservas\n",
        "FROM Reservas r\n",
        "JOIN Botes b ON r.bid = b.bid\n",
        "GROUP BY bcolor;\n"
      ]
    },
    {
      "cell_type": "markdown",
      "metadata": {
        "id": "0EZlJAJYVJp3"
      },
      "source": [
        "**25.** Encuentra el numero de reservas por capitán y por color de bote."
      ]
    },
    {
      "cell_type": "code",
      "execution_count": 53,
      "metadata": {
        "colab": {
          "base_uri": "https://localhost:8080/",
          "height": 242
        },
        "id": "lOahaq-9VJp4",
        "outputId": "5fe87c42-29b7-4d7c-81ce-a09ac690f014"
      },
      "outputs": [
        {
          "output_type": "stream",
          "name": "stdout",
          "text": [
            " * sqlite:///capitanes.db\n",
            "Done.\n"
          ]
        },
        {
          "output_type": "execute_result",
          "data": {
            "text/plain": [
              "[('Andy', 'Rojo', 2),\n",
              " ('Andy', 'Verde', 1),\n",
              " ('Isidora', 'Azul', 1),\n",
              " ('Isidora', 'Rojo', 1),\n",
              " ('Isidora', 'Verde', 1),\n",
              " ('King Arturo', 'Azul', 1),\n",
              " ('King Arturo', 'Rojo', 2),\n",
              " ('King Arturo', 'Verde', 1)]"
            ],
            "text/html": [
              "<table>\n",
              "    <thead>\n",
              "        <tr>\n",
              "            <th>Nombre_capitan</th>\n",
              "            <th>Color_bote</th>\n",
              "            <th>Numero_reservas</th>\n",
              "        </tr>\n",
              "    </thead>\n",
              "    <tbody>\n",
              "        <tr>\n",
              "            <td>Andy</td>\n",
              "            <td>Rojo</td>\n",
              "            <td>2</td>\n",
              "        </tr>\n",
              "        <tr>\n",
              "            <td>Andy</td>\n",
              "            <td>Verde</td>\n",
              "            <td>1</td>\n",
              "        </tr>\n",
              "        <tr>\n",
              "            <td>Isidora</td>\n",
              "            <td>Azul</td>\n",
              "            <td>1</td>\n",
              "        </tr>\n",
              "        <tr>\n",
              "            <td>Isidora</td>\n",
              "            <td>Rojo</td>\n",
              "            <td>1</td>\n",
              "        </tr>\n",
              "        <tr>\n",
              "            <td>Isidora</td>\n",
              "            <td>Verde</td>\n",
              "            <td>1</td>\n",
              "        </tr>\n",
              "        <tr>\n",
              "            <td>King Arturo</td>\n",
              "            <td>Azul</td>\n",
              "            <td>1</td>\n",
              "        </tr>\n",
              "        <tr>\n",
              "            <td>King Arturo</td>\n",
              "            <td>Rojo</td>\n",
              "            <td>2</td>\n",
              "        </tr>\n",
              "        <tr>\n",
              "            <td>King Arturo</td>\n",
              "            <td>Verde</td>\n",
              "            <td>1</td>\n",
              "        </tr>\n",
              "    </tbody>\n",
              "</table>"
            ]
          },
          "metadata": {},
          "execution_count": 53
        }
      ],
      "source": [
        "%%sql\n",
        "SELECT c.cnombre AS Nombre_capitan, b.bcolor AS Color_bote, COUNT(r.bid) AS Numero_reservas\n",
        "FROM Capitanes c\n",
        "JOIN Reservas r ON c.cid = r.cid\n",
        "JOIN Botes b ON r.bid = b.bid\n",
        "GROUP BY c.cnombre, b.bcolor;\n"
      ]
    },
    {
      "cell_type": "markdown",
      "metadata": {
        "id": "5U3EE8fKVJp4"
      },
      "source": [
        "### Inserción y eliminación más compleja\n",
        "\n",
        "Lo último que veremos es una forma de insertar y eliminar tuplas de forma más compleja. Por ejemplo podemos insertar valores de una consulta.\n",
        "\n",
        "**26.** Crea una tabla `CapitanesTop(cid INT, cnombre VARCHAR(100))`"
      ]
    },
    {
      "cell_type": "code",
      "execution_count": 42,
      "metadata": {
        "colab": {
          "base_uri": "https://localhost:8080/"
        },
        "id": "pXneU3Z_VJp5",
        "outputId": "a82642b6-2e21-4f9b-ea29-3a8ef49ab1be"
      },
      "outputs": [
        {
          "output_type": "stream",
          "name": "stdout",
          "text": [
            " * sqlite:///capitanes.db\n",
            "Done.\n"
          ]
        },
        {
          "output_type": "execute_result",
          "data": {
            "text/plain": [
              "[]"
            ]
          },
          "metadata": {},
          "execution_count": 42
        }
      ],
      "source": [
        "%%sql\n",
        "CREATE TABLE CapitanesTop (cid INT,cnombre VARCHAR(100));\n"
      ]
    },
    {
      "cell_type": "markdown",
      "metadata": {
        "id": "UHQABxozVJp6"
      },
      "source": [
        "Ahora ejecuta la siguiente inserción. Nota que para insertar desde una consulta no debemos escribir la instrucción `VALUES`."
      ]
    },
    {
      "cell_type": "code",
      "execution_count": null,
      "metadata": {
        "id": "-TwwfgvWVJp6"
      },
      "outputs": [],
      "source": [
        "%%sql\n",
        "INSERT INTO CapitanesTop\n",
        "(SELECT cid,cnombre\n",
        "FROM Capitanes\n",
        "WHERE Rating > 8)"
      ]
    },
    {
      "cell_type": "markdown",
      "metadata": {
        "id": "HJgcKKB-VJp7"
      },
      "source": [
        "Finalmente, si quieres dejar capitanes que tienen un rating igual o superior a 9 puedes escribir la siguiente consulta:"
      ]
    },
    {
      "cell_type": "code",
      "execution_count": null,
      "metadata": {
        "id": "uHNefdIrVJp7"
      },
      "outputs": [],
      "source": [
        "%%sql\n",
        "DELETE FROM CapitanesTop\n",
        "WHERE cid IN\n",
        "  (SELECT cid\n",
        "  FROM Capitanes\n",
        "  WHERE crating < 9)"
      ]
    }
  ],
  "metadata": {
    "kernelspec": {
      "display_name": "Python 3 (ipykernel)",
      "language": "python",
      "name": "python3"
    },
    "language_info": {
      "codemirror_mode": {
        "name": "ipython",
        "version": 3
      },
      "file_extension": ".py",
      "mimetype": "text/x-python",
      "name": "python",
      "nbconvert_exporter": "python",
      "pygments_lexer": "ipython3",
      "version": "3.11.5"
    },
    "colab": {
      "provenance": []
    }
  },
  "nbformat": 4,
  "nbformat_minor": 0
}